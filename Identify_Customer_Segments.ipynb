{
 "cells": [
  {
   "cell_type": "markdown",
   "metadata": {},
   "source": [
    "# Project: Identify Customer Segments\n",
    "\n",
    "In this project, you will apply unsupervised learning techniques to identify segments of the population that form the core customer base for a mail-order sales company in Germany. These segments can then be used to direct marketing campaigns towards audiences that will have the highest expected rate of returns. The data that you will use has been provided by our partners at Bertelsmann Arvato Analytics, and represents a real-life data science task.\n",
    "\n",
    "This notebook will help you complete this task by providing a framework within which you will perform your analysis steps. In each step of the project, you will see some text describing the subtask that you will perform, followed by one or more code cells for you to complete your work. **Feel free to add additional code and markdown cells as you go along so that you can explore everything in precise chunks.** The code cells provided in the base template will outline only the major tasks, and will usually not be enough to cover all of the minor tasks that comprise it.\n",
    "\n",
    "It should be noted that while there will be precise guidelines on how you should handle certain tasks in the project, there will also be places where an exact specification is not provided. **There will be times in the project where you will need to make and justify your own decisions on how to treat the data.** These are places where there may not be only one way to handle the data. In real-life tasks, there may be many valid ways to approach an analysis task. One of the most important things you can do is clearly document your approach so that other scientists can understand the decisions you've made.\n",
    "\n",
    "At the end of most sections, there will be a Markdown cell labeled **Discussion**. In these cells, you will report your findings for the completed section, as well as document the decisions that you made in your approach to each subtask. **Your project will be evaluated not just on the code used to complete the tasks outlined, but also your communication about your observations and conclusions at each stage.**"
   ]
  },
  {
   "cell_type": "code",
   "execution_count": 1,
   "metadata": {},
   "outputs": [],
   "source": [
    "# import libraries here; add more as necessary\n",
    "import numpy as np\n",
    "import pandas as pd\n",
    "import matplotlib.pyplot as plt\n",
    "import seaborn as sns\n",
    "\n",
    "from sklearn.preprocessing import Imputer\n",
    "from sklearn.preprocessing import StandardScaler\n",
    "from sklearn.decomposition import PCA\n",
    "from sklearn.cluster import KMeans\n",
    "\n",
    "from sklearn.metrics import silhouette_score, silhouette_samples\n",
    "from matplotlib import cm\n",
    "\n",
    "import time\n",
    "\n",
    "# magic word for producing visualizations in notebook\n",
    "%matplotlib inline"
   ]
  },
  {
   "cell_type": "markdown",
   "metadata": {},
   "source": [
    "### Step 0: Load the Data\n",
    "\n",
    "There are four files associated with this project (not including this one):\n",
    "\n",
    "- `Udacity_AZDIAS_Subset.csv`: Demographics data for the general population of Germany; 891211 persons (rows) x 85 features (columns).\n",
    "- `Udacity_CUSTOMERS_Subset.csv`: Demographics data for customers of a mail-order company; 191652 persons (rows) x 85 features (columns).\n",
    "- `Data_Dictionary.md`: Detailed information file about the features in the provided datasets.\n",
    "- `AZDIAS_Feature_Summary.csv`: Summary of feature attributes for demographics data; 85 features (rows) x 4 columns\n",
    "\n",
    "Each row of the demographics files represents a single person, but also includes information outside of individuals, including information about their household, building, and neighborhood. You will use this information to cluster the general population into groups with similar demographic properties. Then, you will see how the people in the customers dataset fit into those created clusters. The hope here is that certain clusters are over-represented in the customers data, as compared to the general population; those over-represented clusters will be assumed to be part of the core userbase. This information can then be used for further applications, such as targeting for a marketing campaign.\n",
    "\n",
    "To start off with, load in the demographics data for the general population into a pandas DataFrame, and do the same for the feature attributes summary. Note for all of the `.csv` data files in this project: they're semicolon (`;`) delimited, so you'll need an additional argument in your [`read_csv()`](https://pandas.pydata.org/pandas-docs/stable/generated/pandas.read_csv.html) call to read in the data properly. Also, considering the size of the main dataset, it may take some time for it to load completely.\n",
    "\n",
    "Once the dataset is loaded, it's recommended that you take a little bit of time just browsing the general structure of the dataset and feature summary file. You'll be getting deep into the innards of the cleaning in the first major step of the project, so gaining some general familiarity can help you get your bearings."
   ]
  },
  {
   "cell_type": "code",
   "execution_count": 2,
   "metadata": {},
   "outputs": [],
   "source": [
    "# Load in the general demographics data.\n",
    "azdias = pd.read_csv('Udacity_AZDIAS_Subset.csv', sep=';')\n",
    "\n",
    "# Load in the feature summary file.\n",
    "feat_info = pd.read_csv('AZDIAS_Feature_Summary.csv', sep=';')"
   ]
  },
  {
   "cell_type": "code",
   "execution_count": 3,
   "metadata": {},
   "outputs": [
    {
     "data": {
      "text/plain": [
       "52494"
      ]
     },
     "execution_count": 3,
     "metadata": {},
     "output_type": "execute_result"
    }
   ],
   "source": [
    "sum(azdias.duplicated())"
   ]
  },
  {
   "cell_type": "code",
   "execution_count": 4,
   "metadata": {},
   "outputs": [],
   "source": [
    "azdias_clean = azdias.copy()"
   ]
  },
  {
   "cell_type": "code",
   "execution_count": 5,
   "metadata": {
    "scrolled": true
   },
   "outputs": [
    {
     "name": "stdout",
     "output_type": "stream",
     "text": [
      "(891221, 85)\n"
     ]
    },
    {
     "data": {
      "text/html": [
       "<div>\n",
       "<style scoped>\n",
       "    .dataframe tbody tr th:only-of-type {\n",
       "        vertical-align: middle;\n",
       "    }\n",
       "\n",
       "    .dataframe tbody tr th {\n",
       "        vertical-align: top;\n",
       "    }\n",
       "\n",
       "    .dataframe thead th {\n",
       "        text-align: right;\n",
       "    }\n",
       "</style>\n",
       "<table border=\"1\" class=\"dataframe\">\n",
       "  <thead>\n",
       "    <tr style=\"text-align: right;\">\n",
       "      <th></th>\n",
       "      <th>AGER_TYP</th>\n",
       "      <th>ALTERSKATEGORIE_GROB</th>\n",
       "      <th>ANREDE_KZ</th>\n",
       "      <th>CJT_GESAMTTYP</th>\n",
       "      <th>FINANZ_MINIMALIST</th>\n",
       "      <th>FINANZ_SPARER</th>\n",
       "      <th>FINANZ_VORSORGER</th>\n",
       "      <th>FINANZ_ANLEGER</th>\n",
       "      <th>FINANZ_UNAUFFAELLIGER</th>\n",
       "      <th>FINANZ_HAUSBAUER</th>\n",
       "      <th>...</th>\n",
       "      <th>PLZ8_ANTG1</th>\n",
       "      <th>PLZ8_ANTG2</th>\n",
       "      <th>PLZ8_ANTG3</th>\n",
       "      <th>PLZ8_ANTG4</th>\n",
       "      <th>PLZ8_BAUMAX</th>\n",
       "      <th>PLZ8_HHZ</th>\n",
       "      <th>PLZ8_GBZ</th>\n",
       "      <th>ARBEIT</th>\n",
       "      <th>ORTSGR_KLS9</th>\n",
       "      <th>RELAT_AB</th>\n",
       "    </tr>\n",
       "  </thead>\n",
       "  <tbody>\n",
       "    <tr>\n",
       "      <th>0</th>\n",
       "      <td>-1</td>\n",
       "      <td>2</td>\n",
       "      <td>1</td>\n",
       "      <td>2.0</td>\n",
       "      <td>3</td>\n",
       "      <td>4</td>\n",
       "      <td>3</td>\n",
       "      <td>5</td>\n",
       "      <td>5</td>\n",
       "      <td>3</td>\n",
       "      <td>...</td>\n",
       "      <td>NaN</td>\n",
       "      <td>NaN</td>\n",
       "      <td>NaN</td>\n",
       "      <td>NaN</td>\n",
       "      <td>NaN</td>\n",
       "      <td>NaN</td>\n",
       "      <td>NaN</td>\n",
       "      <td>NaN</td>\n",
       "      <td>NaN</td>\n",
       "      <td>NaN</td>\n",
       "    </tr>\n",
       "    <tr>\n",
       "      <th>1</th>\n",
       "      <td>-1</td>\n",
       "      <td>1</td>\n",
       "      <td>2</td>\n",
       "      <td>5.0</td>\n",
       "      <td>1</td>\n",
       "      <td>5</td>\n",
       "      <td>2</td>\n",
       "      <td>5</td>\n",
       "      <td>4</td>\n",
       "      <td>5</td>\n",
       "      <td>...</td>\n",
       "      <td>2.0</td>\n",
       "      <td>3.0</td>\n",
       "      <td>2.0</td>\n",
       "      <td>1.0</td>\n",
       "      <td>1.0</td>\n",
       "      <td>5.0</td>\n",
       "      <td>4.0</td>\n",
       "      <td>3.0</td>\n",
       "      <td>5.0</td>\n",
       "      <td>4.0</td>\n",
       "    </tr>\n",
       "    <tr>\n",
       "      <th>2</th>\n",
       "      <td>-1</td>\n",
       "      <td>3</td>\n",
       "      <td>2</td>\n",
       "      <td>3.0</td>\n",
       "      <td>1</td>\n",
       "      <td>4</td>\n",
       "      <td>1</td>\n",
       "      <td>2</td>\n",
       "      <td>3</td>\n",
       "      <td>5</td>\n",
       "      <td>...</td>\n",
       "      <td>3.0</td>\n",
       "      <td>3.0</td>\n",
       "      <td>1.0</td>\n",
       "      <td>0.0</td>\n",
       "      <td>1.0</td>\n",
       "      <td>4.0</td>\n",
       "      <td>4.0</td>\n",
       "      <td>3.0</td>\n",
       "      <td>5.0</td>\n",
       "      <td>2.0</td>\n",
       "    </tr>\n",
       "    <tr>\n",
       "      <th>3</th>\n",
       "      <td>2</td>\n",
       "      <td>4</td>\n",
       "      <td>2</td>\n",
       "      <td>2.0</td>\n",
       "      <td>4</td>\n",
       "      <td>2</td>\n",
       "      <td>5</td>\n",
       "      <td>2</td>\n",
       "      <td>1</td>\n",
       "      <td>2</td>\n",
       "      <td>...</td>\n",
       "      <td>2.0</td>\n",
       "      <td>2.0</td>\n",
       "      <td>2.0</td>\n",
       "      <td>0.0</td>\n",
       "      <td>1.0</td>\n",
       "      <td>3.0</td>\n",
       "      <td>4.0</td>\n",
       "      <td>2.0</td>\n",
       "      <td>3.0</td>\n",
       "      <td>3.0</td>\n",
       "    </tr>\n",
       "    <tr>\n",
       "      <th>4</th>\n",
       "      <td>-1</td>\n",
       "      <td>3</td>\n",
       "      <td>1</td>\n",
       "      <td>5.0</td>\n",
       "      <td>4</td>\n",
       "      <td>3</td>\n",
       "      <td>4</td>\n",
       "      <td>1</td>\n",
       "      <td>3</td>\n",
       "      <td>2</td>\n",
       "      <td>...</td>\n",
       "      <td>2.0</td>\n",
       "      <td>4.0</td>\n",
       "      <td>2.0</td>\n",
       "      <td>1.0</td>\n",
       "      <td>2.0</td>\n",
       "      <td>3.0</td>\n",
       "      <td>3.0</td>\n",
       "      <td>4.0</td>\n",
       "      <td>6.0</td>\n",
       "      <td>5.0</td>\n",
       "    </tr>\n",
       "  </tbody>\n",
       "</table>\n",
       "<p>5 rows × 85 columns</p>\n",
       "</div>"
      ],
      "text/plain": [
       "   AGER_TYP  ALTERSKATEGORIE_GROB  ANREDE_KZ  CJT_GESAMTTYP  \\\n",
       "0        -1                     2          1            2.0   \n",
       "1        -1                     1          2            5.0   \n",
       "2        -1                     3          2            3.0   \n",
       "3         2                     4          2            2.0   \n",
       "4        -1                     3          1            5.0   \n",
       "\n",
       "   FINANZ_MINIMALIST  FINANZ_SPARER  FINANZ_VORSORGER  FINANZ_ANLEGER  \\\n",
       "0                  3              4                 3               5   \n",
       "1                  1              5                 2               5   \n",
       "2                  1              4                 1               2   \n",
       "3                  4              2                 5               2   \n",
       "4                  4              3                 4               1   \n",
       "\n",
       "   FINANZ_UNAUFFAELLIGER  FINANZ_HAUSBAUER    ...     PLZ8_ANTG1  PLZ8_ANTG2  \\\n",
       "0                      5                 3    ...            NaN         NaN   \n",
       "1                      4                 5    ...            2.0         3.0   \n",
       "2                      3                 5    ...            3.0         3.0   \n",
       "3                      1                 2    ...            2.0         2.0   \n",
       "4                      3                 2    ...            2.0         4.0   \n",
       "\n",
       "   PLZ8_ANTG3  PLZ8_ANTG4  PLZ8_BAUMAX  PLZ8_HHZ  PLZ8_GBZ  ARBEIT  \\\n",
       "0         NaN         NaN          NaN       NaN       NaN     NaN   \n",
       "1         2.0         1.0          1.0       5.0       4.0     3.0   \n",
       "2         1.0         0.0          1.0       4.0       4.0     3.0   \n",
       "3         2.0         0.0          1.0       3.0       4.0     2.0   \n",
       "4         2.0         1.0          2.0       3.0       3.0     4.0   \n",
       "\n",
       "   ORTSGR_KLS9  RELAT_AB  \n",
       "0          NaN       NaN  \n",
       "1          5.0       4.0  \n",
       "2          5.0       2.0  \n",
       "3          3.0       3.0  \n",
       "4          6.0       5.0  \n",
       "\n",
       "[5 rows x 85 columns]"
      ]
     },
     "execution_count": 5,
     "metadata": {},
     "output_type": "execute_result"
    }
   ],
   "source": [
    "# Check the structure of the data after it's loaded (e.g. print the number of\n",
    "# rows and columns, print the first few rows).\n",
    "print(azdias_clean.shape)\n",
    "azdias_clean.head()"
   ]
  },
  {
   "cell_type": "code",
   "execution_count": 6,
   "metadata": {
    "scrolled": true
   },
   "outputs": [
    {
     "name": "stdout",
     "output_type": "stream",
     "text": [
      "(85, 4)\n"
     ]
    },
    {
     "data": {
      "text/html": [
       "<div>\n",
       "<style scoped>\n",
       "    .dataframe tbody tr th:only-of-type {\n",
       "        vertical-align: middle;\n",
       "    }\n",
       "\n",
       "    .dataframe tbody tr th {\n",
       "        vertical-align: top;\n",
       "    }\n",
       "\n",
       "    .dataframe thead th {\n",
       "        text-align: right;\n",
       "    }\n",
       "</style>\n",
       "<table border=\"1\" class=\"dataframe\">\n",
       "  <thead>\n",
       "    <tr style=\"text-align: right;\">\n",
       "      <th></th>\n",
       "      <th>attribute</th>\n",
       "      <th>information_level</th>\n",
       "      <th>type</th>\n",
       "      <th>missing_or_unknown</th>\n",
       "    </tr>\n",
       "  </thead>\n",
       "  <tbody>\n",
       "    <tr>\n",
       "      <th>0</th>\n",
       "      <td>AGER_TYP</td>\n",
       "      <td>person</td>\n",
       "      <td>categorical</td>\n",
       "      <td>[-1,0]</td>\n",
       "    </tr>\n",
       "    <tr>\n",
       "      <th>1</th>\n",
       "      <td>ALTERSKATEGORIE_GROB</td>\n",
       "      <td>person</td>\n",
       "      <td>ordinal</td>\n",
       "      <td>[-1,0,9]</td>\n",
       "    </tr>\n",
       "    <tr>\n",
       "      <th>2</th>\n",
       "      <td>ANREDE_KZ</td>\n",
       "      <td>person</td>\n",
       "      <td>categorical</td>\n",
       "      <td>[-1,0]</td>\n",
       "    </tr>\n",
       "    <tr>\n",
       "      <th>3</th>\n",
       "      <td>CJT_GESAMTTYP</td>\n",
       "      <td>person</td>\n",
       "      <td>categorical</td>\n",
       "      <td>[0]</td>\n",
       "    </tr>\n",
       "    <tr>\n",
       "      <th>4</th>\n",
       "      <td>FINANZ_MINIMALIST</td>\n",
       "      <td>person</td>\n",
       "      <td>ordinal</td>\n",
       "      <td>[-1]</td>\n",
       "    </tr>\n",
       "  </tbody>\n",
       "</table>\n",
       "</div>"
      ],
      "text/plain": [
       "              attribute information_level         type missing_or_unknown\n",
       "0              AGER_TYP            person  categorical             [-1,0]\n",
       "1  ALTERSKATEGORIE_GROB            person      ordinal           [-1,0,9]\n",
       "2             ANREDE_KZ            person  categorical             [-1,0]\n",
       "3         CJT_GESAMTTYP            person  categorical                [0]\n",
       "4     FINANZ_MINIMALIST            person      ordinal               [-1]"
      ]
     },
     "execution_count": 6,
     "metadata": {},
     "output_type": "execute_result"
    }
   ],
   "source": [
    "print(feat_info.shape)\n",
    "feat_info.head()"
   ]
  },
  {
   "cell_type": "markdown",
   "metadata": {},
   "source": [
    "> **Tip**: Add additional cells to keep everything in reasonably-sized chunks! Keyboard shortcut `esc --> a` (press escape to enter command mode, then press the 'A' key) adds a new cell before the active cell, and `esc --> b` adds a new cell after the active cell. If you need to convert an active cell to a markdown cell, use `esc --> m` and to convert to a code cell, use `esc --> y`. \n",
    "\n",
    "## Step 1: Preprocessing\n",
    "\n",
    "### Step 1.1: Assess Missing Data\n",
    "\n",
    "The feature summary file contains a summary of properties for each demographics data column. You will use this file to help you make cleaning decisions during this stage of the project. First of all, you should assess the demographics data in terms of missing data. Pay attention to the following points as you perform your analysis, and take notes on what you observe. Make sure that you fill in the **Discussion** cell with your findings and decisions at the end of each step that has one!\n",
    "\n",
    "#### Step 1.1.1: Convert Missing Value Codes to NaNs\n",
    "The fourth column of the feature attributes summary (loaded in above as `feat_info`) documents the codes from the data dictionary that indicate missing or unknown data. While the file encodes this as a list (e.g. `[-1,0]`), this will get read in as a string object. You'll need to do a little bit of parsing to make use of it to identify and clean the data. Convert data that matches a 'missing' or 'unknown' value code into a numpy NaN value. You might want to see how much data takes on a 'missing' or 'unknown' code, and how much data is naturally missing, as a point of interest.\n",
    "\n",
    "**As one more reminder, you are encouraged to add additional cells to break up your analysis into manageable chunks.**"
   ]
  },
  {
   "cell_type": "code",
   "execution_count": 7,
   "metadata": {},
   "outputs": [],
   "source": [
    "# Identify missing or unknown data values and convert them to NaNs.\n",
    "feat_info['missing_or_unknown']=feat_info['missing_or_unknown'].str.strip('[]').str.split(',')"
   ]
  },
  {
   "cell_type": "code",
   "execution_count": 8,
   "metadata": {},
   "outputs": [
    {
     "name": "stdout",
     "output_type": "stream",
     "text": [
      "12 GFK_URLAUBERTYP ['']\n",
      "13 GREEN_AVANTGARDE ['']\n",
      "44 ANZ_PERSONEN ['']\n",
      "45 ANZ_TITEL ['']\n",
      "51 ANZ_HH_TITEL ['']\n",
      "53 KONSUMNAEHE ['']\n",
      "69 GEBAEUDETYP_RASTER ['']\n",
      "71 MOBI_REGIO ['']\n",
      "72 ONLINE_AFFINITAET ['']\n",
      "74 KBA13_ANZAHL_PKW ['']\n"
     ]
    }
   ],
   "source": [
    "for i, col in enumerate(feat_info['attribute']):\n",
    "    vals=[]\n",
    "    try:\n",
    "        vals=[int(x) for x in feat_info.loc[i,'missing_or_unknown'] if x not in ['X', 'XX']]\n",
    "        vals += ['X', 'XX']\n",
    "        azdias_clean[col].replace(vals, np.nan, inplace=True)\n",
    "        azdias[col].replace(vals, np.nan, inplace=True)\n",
    "    except:\n",
    "        print(i, col, feat_info.loc[i,'missing_or_unknown'])"
   ]
  },
  {
   "cell_type": "code",
   "execution_count": 9,
   "metadata": {
    "scrolled": false
   },
   "outputs": [
    {
     "data": {
      "text/html": [
       "<div>\n",
       "<style scoped>\n",
       "    .dataframe tbody tr th:only-of-type {\n",
       "        vertical-align: middle;\n",
       "    }\n",
       "\n",
       "    .dataframe tbody tr th {\n",
       "        vertical-align: top;\n",
       "    }\n",
       "\n",
       "    .dataframe thead th {\n",
       "        text-align: right;\n",
       "    }\n",
       "</style>\n",
       "<table border=\"1\" class=\"dataframe\">\n",
       "  <thead>\n",
       "    <tr style=\"text-align: right;\">\n",
       "      <th></th>\n",
       "      <th>AGER_TYP</th>\n",
       "      <th>ALTERSKATEGORIE_GROB</th>\n",
       "      <th>ANREDE_KZ</th>\n",
       "      <th>CJT_GESAMTTYP</th>\n",
       "      <th>FINANZ_MINIMALIST</th>\n",
       "      <th>FINANZ_SPARER</th>\n",
       "      <th>FINANZ_VORSORGER</th>\n",
       "      <th>FINANZ_ANLEGER</th>\n",
       "      <th>FINANZ_UNAUFFAELLIGER</th>\n",
       "      <th>FINANZ_HAUSBAUER</th>\n",
       "      <th>...</th>\n",
       "      <th>PLZ8_ANTG1</th>\n",
       "      <th>PLZ8_ANTG2</th>\n",
       "      <th>PLZ8_ANTG3</th>\n",
       "      <th>PLZ8_ANTG4</th>\n",
       "      <th>PLZ8_BAUMAX</th>\n",
       "      <th>PLZ8_HHZ</th>\n",
       "      <th>PLZ8_GBZ</th>\n",
       "      <th>ARBEIT</th>\n",
       "      <th>ORTSGR_KLS9</th>\n",
       "      <th>RELAT_AB</th>\n",
       "    </tr>\n",
       "  </thead>\n",
       "  <tbody>\n",
       "    <tr>\n",
       "      <th>0</th>\n",
       "      <td>NaN</td>\n",
       "      <td>2.0</td>\n",
       "      <td>1</td>\n",
       "      <td>2.0</td>\n",
       "      <td>3</td>\n",
       "      <td>4</td>\n",
       "      <td>3</td>\n",
       "      <td>5</td>\n",
       "      <td>5</td>\n",
       "      <td>3</td>\n",
       "      <td>...</td>\n",
       "      <td>NaN</td>\n",
       "      <td>NaN</td>\n",
       "      <td>NaN</td>\n",
       "      <td>NaN</td>\n",
       "      <td>NaN</td>\n",
       "      <td>NaN</td>\n",
       "      <td>NaN</td>\n",
       "      <td>NaN</td>\n",
       "      <td>NaN</td>\n",
       "      <td>NaN</td>\n",
       "    </tr>\n",
       "    <tr>\n",
       "      <th>1</th>\n",
       "      <td>NaN</td>\n",
       "      <td>1.0</td>\n",
       "      <td>2</td>\n",
       "      <td>5.0</td>\n",
       "      <td>1</td>\n",
       "      <td>5</td>\n",
       "      <td>2</td>\n",
       "      <td>5</td>\n",
       "      <td>4</td>\n",
       "      <td>5</td>\n",
       "      <td>...</td>\n",
       "      <td>2.0</td>\n",
       "      <td>3.0</td>\n",
       "      <td>2.0</td>\n",
       "      <td>1.0</td>\n",
       "      <td>1.0</td>\n",
       "      <td>5.0</td>\n",
       "      <td>4.0</td>\n",
       "      <td>3.0</td>\n",
       "      <td>5.0</td>\n",
       "      <td>4.0</td>\n",
       "    </tr>\n",
       "    <tr>\n",
       "      <th>2</th>\n",
       "      <td>NaN</td>\n",
       "      <td>3.0</td>\n",
       "      <td>2</td>\n",
       "      <td>3.0</td>\n",
       "      <td>1</td>\n",
       "      <td>4</td>\n",
       "      <td>1</td>\n",
       "      <td>2</td>\n",
       "      <td>3</td>\n",
       "      <td>5</td>\n",
       "      <td>...</td>\n",
       "      <td>3.0</td>\n",
       "      <td>3.0</td>\n",
       "      <td>1.0</td>\n",
       "      <td>0.0</td>\n",
       "      <td>1.0</td>\n",
       "      <td>4.0</td>\n",
       "      <td>4.0</td>\n",
       "      <td>3.0</td>\n",
       "      <td>5.0</td>\n",
       "      <td>2.0</td>\n",
       "    </tr>\n",
       "    <tr>\n",
       "      <th>3</th>\n",
       "      <td>2.0</td>\n",
       "      <td>4.0</td>\n",
       "      <td>2</td>\n",
       "      <td>2.0</td>\n",
       "      <td>4</td>\n",
       "      <td>2</td>\n",
       "      <td>5</td>\n",
       "      <td>2</td>\n",
       "      <td>1</td>\n",
       "      <td>2</td>\n",
       "      <td>...</td>\n",
       "      <td>2.0</td>\n",
       "      <td>2.0</td>\n",
       "      <td>2.0</td>\n",
       "      <td>0.0</td>\n",
       "      <td>1.0</td>\n",
       "      <td>3.0</td>\n",
       "      <td>4.0</td>\n",
       "      <td>2.0</td>\n",
       "      <td>3.0</td>\n",
       "      <td>3.0</td>\n",
       "    </tr>\n",
       "    <tr>\n",
       "      <th>4</th>\n",
       "      <td>NaN</td>\n",
       "      <td>3.0</td>\n",
       "      <td>1</td>\n",
       "      <td>5.0</td>\n",
       "      <td>4</td>\n",
       "      <td>3</td>\n",
       "      <td>4</td>\n",
       "      <td>1</td>\n",
       "      <td>3</td>\n",
       "      <td>2</td>\n",
       "      <td>...</td>\n",
       "      <td>2.0</td>\n",
       "      <td>4.0</td>\n",
       "      <td>2.0</td>\n",
       "      <td>1.0</td>\n",
       "      <td>2.0</td>\n",
       "      <td>3.0</td>\n",
       "      <td>3.0</td>\n",
       "      <td>4.0</td>\n",
       "      <td>6.0</td>\n",
       "      <td>5.0</td>\n",
       "    </tr>\n",
       "  </tbody>\n",
       "</table>\n",
       "<p>5 rows × 85 columns</p>\n",
       "</div>"
      ],
      "text/plain": [
       "   AGER_TYP  ALTERSKATEGORIE_GROB  ANREDE_KZ  CJT_GESAMTTYP  \\\n",
       "0       NaN                   2.0          1            2.0   \n",
       "1       NaN                   1.0          2            5.0   \n",
       "2       NaN                   3.0          2            3.0   \n",
       "3       2.0                   4.0          2            2.0   \n",
       "4       NaN                   3.0          1            5.0   \n",
       "\n",
       "   FINANZ_MINIMALIST  FINANZ_SPARER  FINANZ_VORSORGER  FINANZ_ANLEGER  \\\n",
       "0                  3              4                 3               5   \n",
       "1                  1              5                 2               5   \n",
       "2                  1              4                 1               2   \n",
       "3                  4              2                 5               2   \n",
       "4                  4              3                 4               1   \n",
       "\n",
       "   FINANZ_UNAUFFAELLIGER  FINANZ_HAUSBAUER    ...     PLZ8_ANTG1  PLZ8_ANTG2  \\\n",
       "0                      5                 3    ...            NaN         NaN   \n",
       "1                      4                 5    ...            2.0         3.0   \n",
       "2                      3                 5    ...            3.0         3.0   \n",
       "3                      1                 2    ...            2.0         2.0   \n",
       "4                      3                 2    ...            2.0         4.0   \n",
       "\n",
       "   PLZ8_ANTG3  PLZ8_ANTG4  PLZ8_BAUMAX  PLZ8_HHZ  PLZ8_GBZ  ARBEIT  \\\n",
       "0         NaN         NaN          NaN       NaN       NaN     NaN   \n",
       "1         2.0         1.0          1.0       5.0       4.0     3.0   \n",
       "2         1.0         0.0          1.0       4.0       4.0     3.0   \n",
       "3         2.0         0.0          1.0       3.0       4.0     2.0   \n",
       "4         2.0         1.0          2.0       3.0       3.0     4.0   \n",
       "\n",
       "   ORTSGR_KLS9  RELAT_AB  \n",
       "0          NaN       NaN  \n",
       "1          5.0       4.0  \n",
       "2          5.0       2.0  \n",
       "3          3.0       3.0  \n",
       "4          6.0       5.0  \n",
       "\n",
       "[5 rows x 85 columns]"
      ]
     },
     "execution_count": 9,
     "metadata": {},
     "output_type": "execute_result"
    }
   ],
   "source": [
    "azdias_clean.head()"
   ]
  },
  {
   "cell_type": "markdown",
   "metadata": {},
   "source": [
    "#### Step 1.1.2: Assess Missing Data in Each Column\n",
    "\n",
    "How much missing data is present in each column? There are a few columns that are outliers in terms of the proportion of values that are missing. You will want to use matplotlib's [`hist()`](https://matplotlib.org/api/_as_gen/matplotlib.pyplot.hist.html) function to visualize the distribution of missing value counts to find these columns. Identify and document these columns. While some of these columns might have justifications for keeping or re-encoding the data, for this project you should just remove them from the dataframe. (Feel free to make remarks about these outlier columns in the discussion, however!)\n",
    "\n",
    "For the remaining features, are there any patterns in which columns have, or share, missing data?"
   ]
  },
  {
   "cell_type": "code",
   "execution_count": 10,
   "metadata": {},
   "outputs": [],
   "source": [
    "# Perform an assessment of how much missing data there is in each column of the\n",
    "# dataset.\n",
    "missing_data_stats_col = azdias_clean.isnull().sum()/azdias.shape[0]"
   ]
  },
  {
   "cell_type": "code",
   "execution_count": 11,
   "metadata": {},
   "outputs": [],
   "source": [
    "# Investigate patterns in the amount of missing data in each column.\n",
    "missing_data_stats_col = pd.Series(missing_data_stats_col)"
   ]
  },
  {
   "cell_type": "code",
   "execution_count": 12,
   "metadata": {
    "scrolled": true
   },
   "outputs": [
    {
     "data": {
      "image/png": "[encoded data removed]",
      "text/plain": [
       "<matplotlib.figure.Figure at 0x7f1c1843a518>"
      ]
     },
     "metadata": {
      "needs_background": "light"
     },
     "output_type": "display_data"
    }
   ],
   "source": [
    "bin_edges = np.arange(0, 1, 0.02)\n",
    "tick_locs = np.arange(0, 1, 0.1)\n",
    "missing_data_stats_col.plot.hist(bins=bin_edges);\n",
    "plt.xticks(tick_locs);"
   ]
  },
  {
   "cell_type": "code",
   "execution_count": 13,
   "metadata": {
    "scrolled": true
   },
   "outputs": [
    {
     "data": {
      "text/plain": [
       "AGER_TYP        0.769554\n",
       "GEBURTSJAHR     0.440203\n",
       "TITEL_KZ        0.997576\n",
       "ALTER_HH        0.348137\n",
       "KK_KUNDENTYP    0.655967\n",
       "KBA05_BAUMAX    0.534687\n",
       "dtype: float64"
      ]
     },
     "execution_count": 13,
     "metadata": {},
     "output_type": "execute_result"
    }
   ],
   "source": [
    "missing_data_stats_col[missing_data_stats_col>0.2]"
   ]
  },
  {
   "cell_type": "code",
   "execution_count": 14,
   "metadata": {
    "scrolled": true
   },
   "outputs": [
    {
     "data": {
      "text/plain": [
       "['AGER_TYP',\n",
       " 'GEBURTSJAHR',\n",
       " 'TITEL_KZ',\n",
       " 'ALTER_HH',\n",
       " 'KK_KUNDENTYP',\n",
       " 'KBA05_BAUMAX']"
      ]
     },
     "execution_count": 14,
     "metadata": {},
     "output_type": "execute_result"
    }
   ],
   "source": [
    "to_drop_cols = missing_data_stats_col[missing_data_stats_col>0.3].index.tolist()\n",
    "to_drop_cols"
   ]
  },
  {
   "cell_type": "code",
   "execution_count": 15,
   "metadata": {},
   "outputs": [
    {
     "data": {
      "text/html": [
       "<div>\n",
       "<style scoped>\n",
       "    .dataframe tbody tr th:only-of-type {\n",
       "        vertical-align: middle;\n",
       "    }\n",
       "\n",
       "    .dataframe tbody tr th {\n",
       "        vertical-align: top;\n",
       "    }\n",
       "\n",
       "    .dataframe thead th {\n",
       "        text-align: right;\n",
       "    }\n",
       "</style>\n",
       "<table border=\"1\" class=\"dataframe\">\n",
       "  <thead>\n",
       "    <tr style=\"text-align: right;\">\n",
       "      <th></th>\n",
       "      <th>AGER_TYP</th>\n",
       "      <th>GEBURTSJAHR</th>\n",
       "      <th>TITEL_KZ</th>\n",
       "      <th>ALTER_HH</th>\n",
       "      <th>KK_KUNDENTYP</th>\n",
       "      <th>KBA05_BAUMAX</th>\n",
       "    </tr>\n",
       "  </thead>\n",
       "  <tbody>\n",
       "    <tr>\n",
       "      <th>233014</th>\n",
       "      <td>1.0</td>\n",
       "      <td>NaN</td>\n",
       "      <td>NaN</td>\n",
       "      <td>18.0</td>\n",
       "      <td>NaN</td>\n",
       "      <td>NaN</td>\n",
       "    </tr>\n",
       "    <tr>\n",
       "      <th>504194</th>\n",
       "      <td>NaN</td>\n",
       "      <td>1960.0</td>\n",
       "      <td>NaN</td>\n",
       "      <td>14.0</td>\n",
       "      <td>2.0</td>\n",
       "      <td>1.0</td>\n",
       "    </tr>\n",
       "    <tr>\n",
       "      <th>45803</th>\n",
       "      <td>NaN</td>\n",
       "      <td>1965.0</td>\n",
       "      <td>NaN</td>\n",
       "      <td>15.0</td>\n",
       "      <td>NaN</td>\n",
       "      <td>NaN</td>\n",
       "    </tr>\n",
       "    <tr>\n",
       "      <th>864788</th>\n",
       "      <td>NaN</td>\n",
       "      <td>NaN</td>\n",
       "      <td>NaN</td>\n",
       "      <td>NaN</td>\n",
       "      <td>NaN</td>\n",
       "      <td>5.0</td>\n",
       "    </tr>\n",
       "    <tr>\n",
       "      <th>886077</th>\n",
       "      <td>NaN</td>\n",
       "      <td>NaN</td>\n",
       "      <td>NaN</td>\n",
       "      <td>NaN</td>\n",
       "      <td>NaN</td>\n",
       "      <td>NaN</td>\n",
       "    </tr>\n",
       "    <tr>\n",
       "      <th>72501</th>\n",
       "      <td>2.0</td>\n",
       "      <td>1954.0</td>\n",
       "      <td>NaN</td>\n",
       "      <td>12.0</td>\n",
       "      <td>NaN</td>\n",
       "      <td>NaN</td>\n",
       "    </tr>\n",
       "    <tr>\n",
       "      <th>890209</th>\n",
       "      <td>NaN</td>\n",
       "      <td>1975.0</td>\n",
       "      <td>NaN</td>\n",
       "      <td>17.0</td>\n",
       "      <td>5.0</td>\n",
       "      <td>3.0</td>\n",
       "    </tr>\n",
       "    <tr>\n",
       "      <th>857530</th>\n",
       "      <td>NaN</td>\n",
       "      <td>NaN</td>\n",
       "      <td>NaN</td>\n",
       "      <td>NaN</td>\n",
       "      <td>NaN</td>\n",
       "      <td>NaN</td>\n",
       "    </tr>\n",
       "    <tr>\n",
       "      <th>290630</th>\n",
       "      <td>NaN</td>\n",
       "      <td>NaN</td>\n",
       "      <td>NaN</td>\n",
       "      <td>NaN</td>\n",
       "      <td>NaN</td>\n",
       "      <td>NaN</td>\n",
       "    </tr>\n",
       "    <tr>\n",
       "      <th>90395</th>\n",
       "      <td>NaN</td>\n",
       "      <td>NaN</td>\n",
       "      <td>NaN</td>\n",
       "      <td>NaN</td>\n",
       "      <td>NaN</td>\n",
       "      <td>NaN</td>\n",
       "    </tr>\n",
       "  </tbody>\n",
       "</table>\n",
       "</div>"
      ],
      "text/plain": [
       "        AGER_TYP  GEBURTSJAHR  TITEL_KZ  ALTER_HH  KK_KUNDENTYP  KBA05_BAUMAX\n",
       "233014       1.0          NaN       NaN      18.0           NaN           NaN\n",
       "504194       NaN       1960.0       NaN      14.0           2.0           1.0\n",
       "45803        NaN       1965.0       NaN      15.0           NaN           NaN\n",
       "864788       NaN          NaN       NaN       NaN           NaN           5.0\n",
       "886077       NaN          NaN       NaN       NaN           NaN           NaN\n",
       "72501        2.0       1954.0       NaN      12.0           NaN           NaN\n",
       "890209       NaN       1975.0       NaN      17.0           5.0           3.0\n",
       "857530       NaN          NaN       NaN       NaN           NaN           NaN\n",
       "290630       NaN          NaN       NaN       NaN           NaN           NaN\n",
       "90395        NaN          NaN       NaN       NaN           NaN           NaN"
      ]
     },
     "execution_count": 15,
     "metadata": {},
     "output_type": "execute_result"
    }
   ],
   "source": [
    "azdias[to_drop_cols].sample(10)"
   ]
  },
  {
   "cell_type": "code",
   "execution_count": 16,
   "metadata": {},
   "outputs": [
    {
     "data": {
      "text/plain": [
       "3.0    65151\n",
       "2.0    62564\n",
       "5.0    48038\n",
       "4.0    44512\n",
       "6.0    44114\n",
       "1.0    42230\n",
       "Name: KK_KUNDENTYP, dtype: int64"
      ]
     },
     "execution_count": 16,
     "metadata": {},
     "output_type": "execute_result"
    }
   ],
   "source": [
    "azdias['KK_KUNDENTYP'].value_counts()"
   ]
  },
  {
   "cell_type": "code",
   "execution_count": 17,
   "metadata": {},
   "outputs": [
    {
     "data": {
      "text/plain": [
       "AGER_TYP        685843\n",
       "GEBURTSJAHR     392318\n",
       "TITEL_KZ        889061\n",
       "ALTER_HH        310267\n",
       "KK_KUNDENTYP    584612\n",
       "KBA05_BAUMAX    476524\n",
       "dtype: int64"
      ]
     },
     "execution_count": 17,
     "metadata": {},
     "output_type": "execute_result"
    }
   ],
   "source": [
    "azdias[to_drop_cols].isnull().sum()"
   ]
  },
  {
   "cell_type": "code",
   "execution_count": 18,
   "metadata": {},
   "outputs": [
    {
     "data": {
      "text/plain": [
       "(891221, 79)"
      ]
     },
     "execution_count": 18,
     "metadata": {},
     "output_type": "execute_result"
    }
   ],
   "source": [
    "# Remove the outlier columns from the dataset. (You'll perform other data\n",
    "# engineering tasks such as re-encoding and imputation later.)\n",
    "azdias_clean.drop(to_drop_cols, axis=1, inplace=True)\n",
    "azdias_clean.shape"
   ]
  },
  {
   "cell_type": "markdown",
   "metadata": {},
   "source": [
    "#### Discussion 1.1.2: Assess Missing Data in Each Column\n",
    "\n",
    "Based on the histogram of missing data statistics, the distribution is right skewed, there are 6 columns with relative high percentage of missing data, most of the columns are with missing data below 20 percent, over 30 columns have no or less than 5% missing data.\n",
    "\n",
    "(Are there any patterns in missing values? Which columns were removed from the dataset?)"
   ]
  },
  {
   "cell_type": "markdown",
   "metadata": {},
   "source": [
    "#### Step 1.1.3: Assess Missing Data in Each Row\n",
    "\n",
    "Now, you'll perform a similar assessment for the rows of the dataset. How much data is missing in each row? As with the columns, you should see some groups of points that have a very different numbers of missing values. Divide the data into two subsets: one for data points that are above some threshold for missing values, and a second subset for points below that threshold.\n",
    "\n",
    "In order to know what to do with the outlier rows, we should see if the distribution of data values on columns that are not missing data (or are missing very little data) are similar or different between the two groups. Select at least five of these columns and compare the distribution of values.\n",
    "- You can use seaborn's [`countplot()`](https://seaborn.pydata.org/generated/seaborn.countplot.html) function to create a bar chart of code frequencies and matplotlib's [`subplot()`](https://matplotlib.org/api/_as_gen/matplotlib.pyplot.subplot.html) function to put bar charts for the two subplots side by side.\n",
    "- To reduce repeated code, you might want to write a function that can perform this comparison, taking as one of its arguments a column to be compared.\n",
    "\n",
    "Depending on what you observe in your comparison, this will have implications on how you approach your conclusions later in the analysis. If the distributions of non-missing features look similar between the data with many missing values and the data with few or no missing values, then we could argue that simply dropping those points from the analysis won't present a major issue. On the other hand, if the data with many missing values looks very different from the data with few or no missing values, then we should make a note on those data as special. We'll revisit these data later on. **Either way, you should continue your analysis for now using just the subset of the data with few or no missing values.**"
   ]
  },
  {
   "cell_type": "code",
   "execution_count": 19,
   "metadata": {},
   "outputs": [],
   "source": [
    "# How much data is missing in each row of the dataset?\n",
    "missing_data_stats_row = azdias_clean.isnull().sum(axis=1)"
   ]
  },
  {
   "cell_type": "code",
   "execution_count": 20,
   "metadata": {
    "scrolled": true
   },
   "outputs": [
    {
     "data": {
      "image/png": "[encoded data removed]",
      "text/plain": [
       "<matplotlib.figure.Figure at 0x7f1be34b8cf8>"
      ]
     },
     "metadata": {
      "needs_background": "light"
     },
     "output_type": "display_data"
    }
   ],
   "source": [
    "#bin_edges = np.arange(0, 1, 0.02)\n",
    "#tick_locs = np.arange(0, 1, 0.1)\n",
    "missing_data_stats_row.plot.hist(bins=20);\n",
    "#plt.xticks(tick_locs);"
   ]
  },
  {
   "cell_type": "code",
   "execution_count": 21,
   "metadata": {},
   "outputs": [],
   "source": [
    "idx1 = missing_data_stats_row[missing_data_stats_row>=30].index\n",
    "idx2 = missing_data_stats_row[missing_data_stats_row<30].index"
   ]
  },
  {
   "cell_type": "code",
   "execution_count": 22,
   "metadata": {},
   "outputs": [],
   "source": [
    "# Write code to divide the data into two subsets based on the number of missing\n",
    "# values in each row.\n",
    "azdias_subset1 = azdias_clean.iloc[idx1]\n",
    "azdias_subset2 = azdias_clean.iloc[idx2]"
   ]
  },
  {
   "cell_type": "code",
   "execution_count": 23,
   "metadata": {},
   "outputs": [
    {
     "name": "stdout",
     "output_type": "stream",
     "text": [
      "(93160, 79)\n"
     ]
    },
    {
     "data": {
      "text/html": [
       "<div>\n",
       "<style scoped>\n",
       "    .dataframe tbody tr th:only-of-type {\n",
       "        vertical-align: middle;\n",
       "    }\n",
       "\n",
       "    .dataframe tbody tr th {\n",
       "        vertical-align: top;\n",
       "    }\n",
       "\n",
       "    .dataframe thead th {\n",
       "        text-align: right;\n",
       "    }\n",
       "</style>\n",
       "<table border=\"1\" class=\"dataframe\">\n",
       "  <thead>\n",
       "    <tr style=\"text-align: right;\">\n",
       "      <th></th>\n",
       "      <th>ALTERSKATEGORIE_GROB</th>\n",
       "      <th>ANREDE_KZ</th>\n",
       "      <th>CJT_GESAMTTYP</th>\n",
       "      <th>FINANZ_MINIMALIST</th>\n",
       "      <th>FINANZ_SPARER</th>\n",
       "      <th>FINANZ_VORSORGER</th>\n",
       "      <th>FINANZ_ANLEGER</th>\n",
       "      <th>FINANZ_UNAUFFAELLIGER</th>\n",
       "      <th>FINANZ_HAUSBAUER</th>\n",
       "      <th>FINANZTYP</th>\n",
       "      <th>...</th>\n",
       "      <th>PLZ8_ANTG1</th>\n",
       "      <th>PLZ8_ANTG2</th>\n",
       "      <th>PLZ8_ANTG3</th>\n",
       "      <th>PLZ8_ANTG4</th>\n",
       "      <th>PLZ8_BAUMAX</th>\n",
       "      <th>PLZ8_HHZ</th>\n",
       "      <th>PLZ8_GBZ</th>\n",
       "      <th>ARBEIT</th>\n",
       "      <th>ORTSGR_KLS9</th>\n",
       "      <th>RELAT_AB</th>\n",
       "    </tr>\n",
       "  </thead>\n",
       "  <tbody>\n",
       "    <tr>\n",
       "      <th>798078</th>\n",
       "      <td>2.0</td>\n",
       "      <td>2</td>\n",
       "      <td>6.0</td>\n",
       "      <td>3</td>\n",
       "      <td>4</td>\n",
       "      <td>3</td>\n",
       "      <td>5</td>\n",
       "      <td>5</td>\n",
       "      <td>3</td>\n",
       "      <td>4</td>\n",
       "      <td>...</td>\n",
       "      <td>NaN</td>\n",
       "      <td>NaN</td>\n",
       "      <td>NaN</td>\n",
       "      <td>NaN</td>\n",
       "      <td>NaN</td>\n",
       "      <td>NaN</td>\n",
       "      <td>NaN</td>\n",
       "      <td>NaN</td>\n",
       "      <td>NaN</td>\n",
       "      <td>NaN</td>\n",
       "    </tr>\n",
       "    <tr>\n",
       "      <th>596743</th>\n",
       "      <td>3.0</td>\n",
       "      <td>2</td>\n",
       "      <td>6.0</td>\n",
       "      <td>3</td>\n",
       "      <td>4</td>\n",
       "      <td>3</td>\n",
       "      <td>5</td>\n",
       "      <td>5</td>\n",
       "      <td>3</td>\n",
       "      <td>4</td>\n",
       "      <td>...</td>\n",
       "      <td>NaN</td>\n",
       "      <td>NaN</td>\n",
       "      <td>NaN</td>\n",
       "      <td>NaN</td>\n",
       "      <td>NaN</td>\n",
       "      <td>NaN</td>\n",
       "      <td>NaN</td>\n",
       "      <td>NaN</td>\n",
       "      <td>NaN</td>\n",
       "      <td>NaN</td>\n",
       "    </tr>\n",
       "    <tr>\n",
       "      <th>99075</th>\n",
       "      <td>2.0</td>\n",
       "      <td>1</td>\n",
       "      <td>2.0</td>\n",
       "      <td>3</td>\n",
       "      <td>4</td>\n",
       "      <td>3</td>\n",
       "      <td>5</td>\n",
       "      <td>5</td>\n",
       "      <td>3</td>\n",
       "      <td>4</td>\n",
       "      <td>...</td>\n",
       "      <td>NaN</td>\n",
       "      <td>NaN</td>\n",
       "      <td>NaN</td>\n",
       "      <td>NaN</td>\n",
       "      <td>NaN</td>\n",
       "      <td>NaN</td>\n",
       "      <td>NaN</td>\n",
       "      <td>NaN</td>\n",
       "      <td>NaN</td>\n",
       "      <td>NaN</td>\n",
       "    </tr>\n",
       "    <tr>\n",
       "      <th>505292</th>\n",
       "      <td>3.0</td>\n",
       "      <td>1</td>\n",
       "      <td>6.0</td>\n",
       "      <td>3</td>\n",
       "      <td>4</td>\n",
       "      <td>3</td>\n",
       "      <td>5</td>\n",
       "      <td>5</td>\n",
       "      <td>3</td>\n",
       "      <td>4</td>\n",
       "      <td>...</td>\n",
       "      <td>NaN</td>\n",
       "      <td>NaN</td>\n",
       "      <td>NaN</td>\n",
       "      <td>NaN</td>\n",
       "      <td>NaN</td>\n",
       "      <td>NaN</td>\n",
       "      <td>NaN</td>\n",
       "      <td>NaN</td>\n",
       "      <td>NaN</td>\n",
       "      <td>NaN</td>\n",
       "    </tr>\n",
       "    <tr>\n",
       "      <th>450492</th>\n",
       "      <td>1.0</td>\n",
       "      <td>2</td>\n",
       "      <td>6.0</td>\n",
       "      <td>3</td>\n",
       "      <td>4</td>\n",
       "      <td>3</td>\n",
       "      <td>5</td>\n",
       "      <td>5</td>\n",
       "      <td>3</td>\n",
       "      <td>4</td>\n",
       "      <td>...</td>\n",
       "      <td>NaN</td>\n",
       "      <td>NaN</td>\n",
       "      <td>NaN</td>\n",
       "      <td>NaN</td>\n",
       "      <td>NaN</td>\n",
       "      <td>NaN</td>\n",
       "      <td>NaN</td>\n",
       "      <td>NaN</td>\n",
       "      <td>NaN</td>\n",
       "      <td>NaN</td>\n",
       "    </tr>\n",
       "  </tbody>\n",
       "</table>\n",
       "<p>5 rows × 79 columns</p>\n",
       "</div>"
      ],
      "text/plain": [
       "        ALTERSKATEGORIE_GROB  ANREDE_KZ  CJT_GESAMTTYP  FINANZ_MINIMALIST  \\\n",
       "798078                   2.0          2            6.0                  3   \n",
       "596743                   3.0          2            6.0                  3   \n",
       "99075                    2.0          1            2.0                  3   \n",
       "505292                   3.0          1            6.0                  3   \n",
       "450492                   1.0          2            6.0                  3   \n",
       "\n",
       "        FINANZ_SPARER  FINANZ_VORSORGER  FINANZ_ANLEGER  \\\n",
       "798078              4                 3               5   \n",
       "596743              4                 3               5   \n",
       "99075               4                 3               5   \n",
       "505292              4                 3               5   \n",
       "450492              4                 3               5   \n",
       "\n",
       "        FINANZ_UNAUFFAELLIGER  FINANZ_HAUSBAUER  FINANZTYP    ...     \\\n",
       "798078                      5                 3          4    ...      \n",
       "596743                      5                 3          4    ...      \n",
       "99075                       5                 3          4    ...      \n",
       "505292                      5                 3          4    ...      \n",
       "450492                      5                 3          4    ...      \n",
       "\n",
       "        PLZ8_ANTG1  PLZ8_ANTG2  PLZ8_ANTG3  PLZ8_ANTG4  PLZ8_BAUMAX  PLZ8_HHZ  \\\n",
       "798078         NaN         NaN         NaN         NaN          NaN       NaN   \n",
       "596743         NaN         NaN         NaN         NaN          NaN       NaN   \n",
       "99075          NaN         NaN         NaN         NaN          NaN       NaN   \n",
       "505292         NaN         NaN         NaN         NaN          NaN       NaN   \n",
       "450492         NaN         NaN         NaN         NaN          NaN       NaN   \n",
       "\n",
       "        PLZ8_GBZ  ARBEIT  ORTSGR_KLS9  RELAT_AB  \n",
       "798078       NaN     NaN          NaN       NaN  \n",
       "596743       NaN     NaN          NaN       NaN  \n",
       "99075        NaN     NaN          NaN       NaN  \n",
       "505292       NaN     NaN          NaN       NaN  \n",
       "450492       NaN     NaN          NaN       NaN  \n",
       "\n",
       "[5 rows x 79 columns]"
      ]
     },
     "execution_count": 23,
     "metadata": {},
     "output_type": "execute_result"
    }
   ],
   "source": [
    "# Compare the distribution of values for at least five columns where there are\n",
    "# no or few missing values, between the two subsets.\n",
    "print(azdias_subset1.shape)\n",
    "azdias_subset1.sample(5)"
   ]
  },
  {
   "cell_type": "code",
   "execution_count": 24,
   "metadata": {
    "scrolled": true
   },
   "outputs": [
    {
     "name": "stdout",
     "output_type": "stream",
     "text": [
      "(798061, 79)\n"
     ]
    },
    {
     "data": {
      "text/html": [
       "<div>\n",
       "<style scoped>\n",
       "    .dataframe tbody tr th:only-of-type {\n",
       "        vertical-align: middle;\n",
       "    }\n",
       "\n",
       "    .dataframe tbody tr th {\n",
       "        vertical-align: top;\n",
       "    }\n",
       "\n",
       "    .dataframe thead th {\n",
       "        text-align: right;\n",
       "    }\n",
       "</style>\n",
       "<table border=\"1\" class=\"dataframe\">\n",
       "  <thead>\n",
       "    <tr style=\"text-align: right;\">\n",
       "      <th></th>\n",
       "      <th>ALTERSKATEGORIE_GROB</th>\n",
       "      <th>ANREDE_KZ</th>\n",
       "      <th>CJT_GESAMTTYP</th>\n",
       "      <th>FINANZ_MINIMALIST</th>\n",
       "      <th>FINANZ_SPARER</th>\n",
       "      <th>FINANZ_VORSORGER</th>\n",
       "      <th>FINANZ_ANLEGER</th>\n",
       "      <th>FINANZ_UNAUFFAELLIGER</th>\n",
       "      <th>FINANZ_HAUSBAUER</th>\n",
       "      <th>FINANZTYP</th>\n",
       "      <th>...</th>\n",
       "      <th>PLZ8_ANTG1</th>\n",
       "      <th>PLZ8_ANTG2</th>\n",
       "      <th>PLZ8_ANTG3</th>\n",
       "      <th>PLZ8_ANTG4</th>\n",
       "      <th>PLZ8_BAUMAX</th>\n",
       "      <th>PLZ8_HHZ</th>\n",
       "      <th>PLZ8_GBZ</th>\n",
       "      <th>ARBEIT</th>\n",
       "      <th>ORTSGR_KLS9</th>\n",
       "      <th>RELAT_AB</th>\n",
       "    </tr>\n",
       "  </thead>\n",
       "  <tbody>\n",
       "    <tr>\n",
       "      <th>599634</th>\n",
       "      <td>1.0</td>\n",
       "      <td>2</td>\n",
       "      <td>6.0</td>\n",
       "      <td>2</td>\n",
       "      <td>5</td>\n",
       "      <td>3</td>\n",
       "      <td>5</td>\n",
       "      <td>5</td>\n",
       "      <td>3</td>\n",
       "      <td>1</td>\n",
       "      <td>...</td>\n",
       "      <td>2.0</td>\n",
       "      <td>3.0</td>\n",
       "      <td>2.0</td>\n",
       "      <td>1.0</td>\n",
       "      <td>1.0</td>\n",
       "      <td>5.0</td>\n",
       "      <td>4.0</td>\n",
       "      <td>3.0</td>\n",
       "      <td>6.0</td>\n",
       "      <td>4.0</td>\n",
       "    </tr>\n",
       "    <tr>\n",
       "      <th>153571</th>\n",
       "      <td>3.0</td>\n",
       "      <td>2</td>\n",
       "      <td>5.0</td>\n",
       "      <td>1</td>\n",
       "      <td>5</td>\n",
       "      <td>2</td>\n",
       "      <td>5</td>\n",
       "      <td>4</td>\n",
       "      <td>5</td>\n",
       "      <td>1</td>\n",
       "      <td>...</td>\n",
       "      <td>3.0</td>\n",
       "      <td>3.0</td>\n",
       "      <td>1.0</td>\n",
       "      <td>0.0</td>\n",
       "      <td>1.0</td>\n",
       "      <td>5.0</td>\n",
       "      <td>5.0</td>\n",
       "      <td>3.0</td>\n",
       "      <td>4.0</td>\n",
       "      <td>3.0</td>\n",
       "    </tr>\n",
       "    <tr>\n",
       "      <th>117515</th>\n",
       "      <td>4.0</td>\n",
       "      <td>2</td>\n",
       "      <td>1.0</td>\n",
       "      <td>5</td>\n",
       "      <td>1</td>\n",
       "      <td>5</td>\n",
       "      <td>1</td>\n",
       "      <td>2</td>\n",
       "      <td>2</td>\n",
       "      <td>2</td>\n",
       "      <td>...</td>\n",
       "      <td>3.0</td>\n",
       "      <td>2.0</td>\n",
       "      <td>0.0</td>\n",
       "      <td>0.0</td>\n",
       "      <td>1.0</td>\n",
       "      <td>4.0</td>\n",
       "      <td>5.0</td>\n",
       "      <td>2.0</td>\n",
       "      <td>3.0</td>\n",
       "      <td>3.0</td>\n",
       "    </tr>\n",
       "    <tr>\n",
       "      <th>868188</th>\n",
       "      <td>3.0</td>\n",
       "      <td>1</td>\n",
       "      <td>3.0</td>\n",
       "      <td>2</td>\n",
       "      <td>4</td>\n",
       "      <td>2</td>\n",
       "      <td>3</td>\n",
       "      <td>4</td>\n",
       "      <td>2</td>\n",
       "      <td>1</td>\n",
       "      <td>...</td>\n",
       "      <td>1.0</td>\n",
       "      <td>4.0</td>\n",
       "      <td>3.0</td>\n",
       "      <td>1.0</td>\n",
       "      <td>3.0</td>\n",
       "      <td>3.0</td>\n",
       "      <td>2.0</td>\n",
       "      <td>4.0</td>\n",
       "      <td>7.0</td>\n",
       "      <td>5.0</td>\n",
       "    </tr>\n",
       "    <tr>\n",
       "      <th>874556</th>\n",
       "      <td>3.0</td>\n",
       "      <td>2</td>\n",
       "      <td>2.0</td>\n",
       "      <td>2</td>\n",
       "      <td>5</td>\n",
       "      <td>1</td>\n",
       "      <td>5</td>\n",
       "      <td>3</td>\n",
       "      <td>2</td>\n",
       "      <td>6</td>\n",
       "      <td>...</td>\n",
       "      <td>4.0</td>\n",
       "      <td>1.0</td>\n",
       "      <td>0.0</td>\n",
       "      <td>0.0</td>\n",
       "      <td>1.0</td>\n",
       "      <td>2.0</td>\n",
       "      <td>3.0</td>\n",
       "      <td>3.0</td>\n",
       "      <td>2.0</td>\n",
       "      <td>2.0</td>\n",
       "    </tr>\n",
       "  </tbody>\n",
       "</table>\n",
       "<p>5 rows × 79 columns</p>\n",
       "</div>"
      ],
      "text/plain": [
       "        ALTERSKATEGORIE_GROB  ANREDE_KZ  CJT_GESAMTTYP  FINANZ_MINIMALIST  \\\n",
       "599634                   1.0          2            6.0                  2   \n",
       "153571                   3.0          2            5.0                  1   \n",
       "117515                   4.0          2            1.0                  5   \n",
       "868188                   3.0          1            3.0                  2   \n",
       "874556                   3.0          2            2.0                  2   \n",
       "\n",
       "        FINANZ_SPARER  FINANZ_VORSORGER  FINANZ_ANLEGER  \\\n",
       "599634              5                 3               5   \n",
       "153571              5                 2               5   \n",
       "117515              1                 5               1   \n",
       "868188              4                 2               3   \n",
       "874556              5                 1               5   \n",
       "\n",
       "        FINANZ_UNAUFFAELLIGER  FINANZ_HAUSBAUER  FINANZTYP    ...     \\\n",
       "599634                      5                 3          1    ...      \n",
       "153571                      4                 5          1    ...      \n",
       "117515                      2                 2          2    ...      \n",
       "868188                      4                 2          1    ...      \n",
       "874556                      3                 2          6    ...      \n",
       "\n",
       "        PLZ8_ANTG1  PLZ8_ANTG2  PLZ8_ANTG3  PLZ8_ANTG4  PLZ8_BAUMAX  PLZ8_HHZ  \\\n",
       "599634         2.0         3.0         2.0         1.0          1.0       5.0   \n",
       "153571         3.0         3.0         1.0         0.0          1.0       5.0   \n",
       "117515         3.0         2.0         0.0         0.0          1.0       4.0   \n",
       "868188         1.0         4.0         3.0         1.0          3.0       3.0   \n",
       "874556         4.0         1.0         0.0         0.0          1.0       2.0   \n",
       "\n",
       "        PLZ8_GBZ  ARBEIT  ORTSGR_KLS9  RELAT_AB  \n",
       "599634       4.0     3.0          6.0       4.0  \n",
       "153571       5.0     3.0          4.0       3.0  \n",
       "117515       5.0     2.0          3.0       3.0  \n",
       "868188       2.0     4.0          7.0       5.0  \n",
       "874556       3.0     3.0          2.0       2.0  \n",
       "\n",
       "[5 rows x 79 columns]"
      ]
     },
     "execution_count": 24,
     "metadata": {},
     "output_type": "execute_result"
    }
   ],
   "source": [
    "print(azdias_subset2.shape)\n",
    "azdias_subset2.sample(5)"
   ]
  },
  {
   "cell_type": "code",
   "execution_count": 25,
   "metadata": {},
   "outputs": [
    {
     "data": {
      "text/html": [
       "<div>\n",
       "<style scoped>\n",
       "    .dataframe tbody tr th:only-of-type {\n",
       "        vertical-align: middle;\n",
       "    }\n",
       "\n",
       "    .dataframe tbody tr th {\n",
       "        vertical-align: top;\n",
       "    }\n",
       "\n",
       "    .dataframe thead th {\n",
       "        text-align: right;\n",
       "    }\n",
       "</style>\n",
       "<table border=\"1\" class=\"dataframe\">\n",
       "  <thead>\n",
       "    <tr style=\"text-align: right;\">\n",
       "      <th></th>\n",
       "      <th>ALTERSKATEGORIE_GROB</th>\n",
       "      <th>ANREDE_KZ</th>\n",
       "      <th>CJT_GESAMTTYP</th>\n",
       "      <th>FINANZ_MINIMALIST</th>\n",
       "      <th>FINANZ_SPARER</th>\n",
       "      <th>FINANZ_VORSORGER</th>\n",
       "      <th>FINANZ_ANLEGER</th>\n",
       "      <th>FINANZ_UNAUFFAELLIGER</th>\n",
       "      <th>FINANZ_HAUSBAUER</th>\n",
       "      <th>FINANZTYP</th>\n",
       "      <th>...</th>\n",
       "      <th>PLZ8_ANTG1</th>\n",
       "      <th>PLZ8_ANTG2</th>\n",
       "      <th>PLZ8_ANTG3</th>\n",
       "      <th>PLZ8_ANTG4</th>\n",
       "      <th>PLZ8_BAUMAX</th>\n",
       "      <th>PLZ8_HHZ</th>\n",
       "      <th>PLZ8_GBZ</th>\n",
       "      <th>ARBEIT</th>\n",
       "      <th>ORTSGR_KLS9</th>\n",
       "      <th>RELAT_AB</th>\n",
       "    </tr>\n",
       "  </thead>\n",
       "  <tbody>\n",
       "    <tr>\n",
       "      <th>count</th>\n",
       "      <td>93082.000000</td>\n",
       "      <td>93160.000000</td>\n",
       "      <td>93051.000000</td>\n",
       "      <td>93160.000000</td>\n",
       "      <td>93160.000000</td>\n",
       "      <td>93160.000000</td>\n",
       "      <td>93160.000000</td>\n",
       "      <td>93160.000000</td>\n",
       "      <td>93160.000000</td>\n",
       "      <td>93160.000000</td>\n",
       "      <td>...</td>\n",
       "      <td>0.0</td>\n",
       "      <td>0.0</td>\n",
       "      <td>0.0</td>\n",
       "      <td>0.0</td>\n",
       "      <td>0.0</td>\n",
       "      <td>0.0</td>\n",
       "      <td>0.0</td>\n",
       "      <td>12.000000</td>\n",
       "      <td>12.000000</td>\n",
       "      <td>12.000000</td>\n",
       "    </tr>\n",
       "    <tr>\n",
       "      <th>mean</th>\n",
       "      <td>2.430889</td>\n",
       "      <td>1.527351</td>\n",
       "      <td>4.740701</td>\n",
       "      <td>3.208265</td>\n",
       "      <td>3.720459</td>\n",
       "      <td>3.128811</td>\n",
       "      <td>4.681312</td>\n",
       "      <td>4.722993</td>\n",
       "      <td>2.741187</td>\n",
       "      <td>3.729208</td>\n",
       "      <td>...</td>\n",
       "      <td>NaN</td>\n",
       "      <td>NaN</td>\n",
       "      <td>NaN</td>\n",
       "      <td>NaN</td>\n",
       "      <td>NaN</td>\n",
       "      <td>NaN</td>\n",
       "      <td>NaN</td>\n",
       "      <td>3.083333</td>\n",
       "      <td>4.833333</td>\n",
       "      <td>2.916667</td>\n",
       "    </tr>\n",
       "    <tr>\n",
       "      <th>std</th>\n",
       "      <td>0.868609</td>\n",
       "      <td>0.499254</td>\n",
       "      <td>1.645007</td>\n",
       "      <td>0.646951</td>\n",
       "      <td>0.853282</td>\n",
       "      <td>0.632291</td>\n",
       "      <td>0.876499</td>\n",
       "      <td>0.741143</td>\n",
       "      <td>0.639537</td>\n",
       "      <td>0.754508</td>\n",
       "      <td>...</td>\n",
       "      <td>NaN</td>\n",
       "      <td>NaN</td>\n",
       "      <td>NaN</td>\n",
       "      <td>NaN</td>\n",
       "      <td>NaN</td>\n",
       "      <td>NaN</td>\n",
       "      <td>NaN</td>\n",
       "      <td>1.164500</td>\n",
       "      <td>2.480225</td>\n",
       "      <td>1.240112</td>\n",
       "    </tr>\n",
       "    <tr>\n",
       "      <th>min</th>\n",
       "      <td>1.000000</td>\n",
       "      <td>1.000000</td>\n",
       "      <td>1.000000</td>\n",
       "      <td>1.000000</td>\n",
       "      <td>1.000000</td>\n",
       "      <td>1.000000</td>\n",
       "      <td>1.000000</td>\n",
       "      <td>1.000000</td>\n",
       "      <td>1.000000</td>\n",
       "      <td>1.000000</td>\n",
       "      <td>...</td>\n",
       "      <td>NaN</td>\n",
       "      <td>NaN</td>\n",
       "      <td>NaN</td>\n",
       "      <td>NaN</td>\n",
       "      <td>NaN</td>\n",
       "      <td>NaN</td>\n",
       "      <td>NaN</td>\n",
       "      <td>1.000000</td>\n",
       "      <td>2.000000</td>\n",
       "      <td>1.000000</td>\n",
       "    </tr>\n",
       "    <tr>\n",
       "      <th>25%</th>\n",
       "      <td>2.000000</td>\n",
       "      <td>1.000000</td>\n",
       "      <td>4.000000</td>\n",
       "      <td>3.000000</td>\n",
       "      <td>4.000000</td>\n",
       "      <td>3.000000</td>\n",
       "      <td>5.000000</td>\n",
       "      <td>5.000000</td>\n",
       "      <td>3.000000</td>\n",
       "      <td>4.000000</td>\n",
       "      <td>...</td>\n",
       "      <td>NaN</td>\n",
       "      <td>NaN</td>\n",
       "      <td>NaN</td>\n",
       "      <td>NaN</td>\n",
       "      <td>NaN</td>\n",
       "      <td>NaN</td>\n",
       "      <td>NaN</td>\n",
       "      <td>2.000000</td>\n",
       "      <td>3.000000</td>\n",
       "      <td>2.000000</td>\n",
       "    </tr>\n",
       "    <tr>\n",
       "      <th>50%</th>\n",
       "      <td>3.000000</td>\n",
       "      <td>2.000000</td>\n",
       "      <td>6.000000</td>\n",
       "      <td>3.000000</td>\n",
       "      <td>4.000000</td>\n",
       "      <td>3.000000</td>\n",
       "      <td>5.000000</td>\n",
       "      <td>5.000000</td>\n",
       "      <td>3.000000</td>\n",
       "      <td>4.000000</td>\n",
       "      <td>...</td>\n",
       "      <td>NaN</td>\n",
       "      <td>NaN</td>\n",
       "      <td>NaN</td>\n",
       "      <td>NaN</td>\n",
       "      <td>NaN</td>\n",
       "      <td>NaN</td>\n",
       "      <td>NaN</td>\n",
       "      <td>3.000000</td>\n",
       "      <td>4.000000</td>\n",
       "      <td>3.000000</td>\n",
       "    </tr>\n",
       "    <tr>\n",
       "      <th>75%</th>\n",
       "      <td>3.000000</td>\n",
       "      <td>2.000000</td>\n",
       "      <td>6.000000</td>\n",
       "      <td>3.000000</td>\n",
       "      <td>4.000000</td>\n",
       "      <td>3.000000</td>\n",
       "      <td>5.000000</td>\n",
       "      <td>5.000000</td>\n",
       "      <td>3.000000</td>\n",
       "      <td>4.000000</td>\n",
       "      <td>...</td>\n",
       "      <td>NaN</td>\n",
       "      <td>NaN</td>\n",
       "      <td>NaN</td>\n",
       "      <td>NaN</td>\n",
       "      <td>NaN</td>\n",
       "      <td>NaN</td>\n",
       "      <td>NaN</td>\n",
       "      <td>4.000000</td>\n",
       "      <td>5.750000</td>\n",
       "      <td>4.000000</td>\n",
       "    </tr>\n",
       "    <tr>\n",
       "      <th>max</th>\n",
       "      <td>4.000000</td>\n",
       "      <td>2.000000</td>\n",
       "      <td>6.000000</td>\n",
       "      <td>5.000000</td>\n",
       "      <td>5.000000</td>\n",
       "      <td>5.000000</td>\n",
       "      <td>5.000000</td>\n",
       "      <td>5.000000</td>\n",
       "      <td>4.000000</td>\n",
       "      <td>6.000000</td>\n",
       "      <td>...</td>\n",
       "      <td>NaN</td>\n",
       "      <td>NaN</td>\n",
       "      <td>NaN</td>\n",
       "      <td>NaN</td>\n",
       "      <td>NaN</td>\n",
       "      <td>NaN</td>\n",
       "      <td>NaN</td>\n",
       "      <td>5.000000</td>\n",
       "      <td>9.000000</td>\n",
       "      <td>5.000000</td>\n",
       "    </tr>\n",
       "  </tbody>\n",
       "</table>\n",
       "<p>8 rows × 75 columns</p>\n",
       "</div>"
      ],
      "text/plain": [
       "       ALTERSKATEGORIE_GROB     ANREDE_KZ  CJT_GESAMTTYP  FINANZ_MINIMALIST  \\\n",
       "count          93082.000000  93160.000000   93051.000000       93160.000000   \n",
       "mean               2.430889      1.527351       4.740701           3.208265   \n",
       "std                0.868609      0.499254       1.645007           0.646951   \n",
       "min                1.000000      1.000000       1.000000           1.000000   \n",
       "25%                2.000000      1.000000       4.000000           3.000000   \n",
       "50%                3.000000      2.000000       6.000000           3.000000   \n",
       "75%                3.000000      2.000000       6.000000           3.000000   \n",
       "max                4.000000      2.000000       6.000000           5.000000   \n",
       "\n",
       "       FINANZ_SPARER  FINANZ_VORSORGER  FINANZ_ANLEGER  FINANZ_UNAUFFAELLIGER  \\\n",
       "count   93160.000000      93160.000000    93160.000000           93160.000000   \n",
       "mean        3.720459          3.128811        4.681312               4.722993   \n",
       "std         0.853282          0.632291        0.876499               0.741143   \n",
       "min         1.000000          1.000000        1.000000               1.000000   \n",
       "25%         4.000000          3.000000        5.000000               5.000000   \n",
       "50%         4.000000          3.000000        5.000000               5.000000   \n",
       "75%         4.000000          3.000000        5.000000               5.000000   \n",
       "max         5.000000          5.000000        5.000000               5.000000   \n",
       "\n",
       "       FINANZ_HAUSBAUER     FINANZTYP    ...      PLZ8_ANTG1  PLZ8_ANTG2  \\\n",
       "count      93160.000000  93160.000000    ...             0.0         0.0   \n",
       "mean           2.741187      3.729208    ...             NaN         NaN   \n",
       "std            0.639537      0.754508    ...             NaN         NaN   \n",
       "min            1.000000      1.000000    ...             NaN         NaN   \n",
       "25%            3.000000      4.000000    ...             NaN         NaN   \n",
       "50%            3.000000      4.000000    ...             NaN         NaN   \n",
       "75%            3.000000      4.000000    ...             NaN         NaN   \n",
       "max            4.000000      6.000000    ...             NaN         NaN   \n",
       "\n",
       "       PLZ8_ANTG3  PLZ8_ANTG4  PLZ8_BAUMAX  PLZ8_HHZ  PLZ8_GBZ     ARBEIT  \\\n",
       "count         0.0         0.0          0.0       0.0       0.0  12.000000   \n",
       "mean          NaN         NaN          NaN       NaN       NaN   3.083333   \n",
       "std           NaN         NaN          NaN       NaN       NaN   1.164500   \n",
       "min           NaN         NaN          NaN       NaN       NaN   1.000000   \n",
       "25%           NaN         NaN          NaN       NaN       NaN   2.000000   \n",
       "50%           NaN         NaN          NaN       NaN       NaN   3.000000   \n",
       "75%           NaN         NaN          NaN       NaN       NaN   4.000000   \n",
       "max           NaN         NaN          NaN       NaN       NaN   5.000000   \n",
       "\n",
       "       ORTSGR_KLS9   RELAT_AB  \n",
       "count    12.000000  12.000000  \n",
       "mean      4.833333   2.916667  \n",
       "std       2.480225   1.240112  \n",
       "min       2.000000   1.000000  \n",
       "25%       3.000000   2.000000  \n",
       "50%       4.000000   3.000000  \n",
       "75%       5.750000   4.000000  \n",
       "max       9.000000   5.000000  \n",
       "\n",
       "[8 rows x 75 columns]"
      ]
     },
     "execution_count": 25,
     "metadata": {},
     "output_type": "execute_result"
    }
   ],
   "source": [
    "azdias_subset1.describe()"
   ]
  },
  {
   "cell_type": "code",
   "execution_count": 26,
   "metadata": {},
   "outputs": [
    {
     "data": {
      "text/html": [
       "<div>\n",
       "<style scoped>\n",
       "    .dataframe tbody tr th:only-of-type {\n",
       "        vertical-align: middle;\n",
       "    }\n",
       "\n",
       "    .dataframe tbody tr th {\n",
       "        vertical-align: top;\n",
       "    }\n",
       "\n",
       "    .dataframe thead th {\n",
       "        text-align: right;\n",
       "    }\n",
       "</style>\n",
       "<table border=\"1\" class=\"dataframe\">\n",
       "  <thead>\n",
       "    <tr style=\"text-align: right;\">\n",
       "      <th></th>\n",
       "      <th>ALTERSKATEGORIE_GROB</th>\n",
       "      <th>ANREDE_KZ</th>\n",
       "      <th>CJT_GESAMTTYP</th>\n",
       "      <th>FINANZ_MINIMALIST</th>\n",
       "      <th>FINANZ_SPARER</th>\n",
       "      <th>FINANZ_VORSORGER</th>\n",
       "      <th>FINANZ_ANLEGER</th>\n",
       "      <th>FINANZ_UNAUFFAELLIGER</th>\n",
       "      <th>FINANZ_HAUSBAUER</th>\n",
       "      <th>FINANZTYP</th>\n",
       "      <th>...</th>\n",
       "      <th>PLZ8_ANTG1</th>\n",
       "      <th>PLZ8_ANTG2</th>\n",
       "      <th>PLZ8_ANTG3</th>\n",
       "      <th>PLZ8_ANTG4</th>\n",
       "      <th>PLZ8_BAUMAX</th>\n",
       "      <th>PLZ8_HHZ</th>\n",
       "      <th>PLZ8_GBZ</th>\n",
       "      <th>ARBEIT</th>\n",
       "      <th>ORTSGR_KLS9</th>\n",
       "      <th>RELAT_AB</th>\n",
       "    </tr>\n",
       "  </thead>\n",
       "  <tbody>\n",
       "    <tr>\n",
       "      <th>count</th>\n",
       "      <td>795258.000000</td>\n",
       "      <td>798061.000000</td>\n",
       "      <td>793316.000000</td>\n",
       "      <td>798061.000000</td>\n",
       "      <td>798061.000000</td>\n",
       "      <td>798061.000000</td>\n",
       "      <td>798061.000000</td>\n",
       "      <td>798061.000000</td>\n",
       "      <td>798061.000000</td>\n",
       "      <td>798061.000000</td>\n",
       "      <td>...</td>\n",
       "      <td>774706.000000</td>\n",
       "      <td>774706.000000</td>\n",
       "      <td>774706.000000</td>\n",
       "      <td>774706.000000</td>\n",
       "      <td>774706.000000</td>\n",
       "      <td>774706.000000</td>\n",
       "      <td>774706.000000</td>\n",
       "      <td>793834.000000</td>\n",
       "      <td>793935.000000</td>\n",
       "      <td>793834.000000</td>\n",
       "    </tr>\n",
       "    <tr>\n",
       "      <th>mean</th>\n",
       "      <td>2.795412</td>\n",
       "      <td>1.521485</td>\n",
       "      <td>3.502893</td>\n",
       "      <td>3.058917</td>\n",
       "      <td>2.716047</td>\n",
       "      <td>3.432892</td>\n",
       "      <td>2.840955</td>\n",
       "      <td>2.658348</td>\n",
       "      <td>3.114102</td>\n",
       "      <td>3.797751</td>\n",
       "      <td>...</td>\n",
       "      <td>2.253330</td>\n",
       "      <td>2.801858</td>\n",
       "      <td>1.595426</td>\n",
       "      <td>0.699166</td>\n",
       "      <td>1.943913</td>\n",
       "      <td>3.612821</td>\n",
       "      <td>3.381087</td>\n",
       "      <td>3.166687</td>\n",
       "      <td>5.293396</td>\n",
       "      <td>3.071035</td>\n",
       "    </tr>\n",
       "    <tr>\n",
       "      <th>std</th>\n",
       "      <td>1.018409</td>\n",
       "      <td>0.499538</td>\n",
       "      <td>1.537612</td>\n",
       "      <td>1.377577</td>\n",
       "      <td>1.485090</td>\n",
       "      <td>1.376866</td>\n",
       "      <td>1.472782</td>\n",
       "      <td>1.399530</td>\n",
       "      <td>1.408109</td>\n",
       "      <td>2.084705</td>\n",
       "      <td>...</td>\n",
       "      <td>0.972008</td>\n",
       "      <td>0.920309</td>\n",
       "      <td>0.986736</td>\n",
       "      <td>0.727137</td>\n",
       "      <td>1.459654</td>\n",
       "      <td>0.973967</td>\n",
       "      <td>1.111598</td>\n",
       "      <td>0.999070</td>\n",
       "      <td>2.303377</td>\n",
       "      <td>1.360535</td>\n",
       "    </tr>\n",
       "    <tr>\n",
       "      <th>min</th>\n",
       "      <td>1.000000</td>\n",
       "      <td>1.000000</td>\n",
       "      <td>1.000000</td>\n",
       "      <td>1.000000</td>\n",
       "      <td>1.000000</td>\n",
       "      <td>1.000000</td>\n",
       "      <td>1.000000</td>\n",
       "      <td>1.000000</td>\n",
       "      <td>1.000000</td>\n",
       "      <td>1.000000</td>\n",
       "      <td>...</td>\n",
       "      <td>0.000000</td>\n",
       "      <td>0.000000</td>\n",
       "      <td>0.000000</td>\n",
       "      <td>0.000000</td>\n",
       "      <td>1.000000</td>\n",
       "      <td>1.000000</td>\n",
       "      <td>1.000000</td>\n",
       "      <td>1.000000</td>\n",
       "      <td>1.000000</td>\n",
       "      <td>1.000000</td>\n",
       "    </tr>\n",
       "    <tr>\n",
       "      <th>25%</th>\n",
       "      <td>2.000000</td>\n",
       "      <td>1.000000</td>\n",
       "      <td>2.000000</td>\n",
       "      <td>2.000000</td>\n",
       "      <td>1.000000</td>\n",
       "      <td>2.000000</td>\n",
       "      <td>1.000000</td>\n",
       "      <td>1.000000</td>\n",
       "      <td>2.000000</td>\n",
       "      <td>2.000000</td>\n",
       "      <td>...</td>\n",
       "      <td>1.000000</td>\n",
       "      <td>2.000000</td>\n",
       "      <td>1.000000</td>\n",
       "      <td>0.000000</td>\n",
       "      <td>1.000000</td>\n",
       "      <td>3.000000</td>\n",
       "      <td>3.000000</td>\n",
       "      <td>3.000000</td>\n",
       "      <td>4.000000</td>\n",
       "      <td>2.000000</td>\n",
       "    </tr>\n",
       "    <tr>\n",
       "      <th>50%</th>\n",
       "      <td>3.000000</td>\n",
       "      <td>2.000000</td>\n",
       "      <td>4.000000</td>\n",
       "      <td>3.000000</td>\n",
       "      <td>3.000000</td>\n",
       "      <td>4.000000</td>\n",
       "      <td>3.000000</td>\n",
       "      <td>2.000000</td>\n",
       "      <td>3.000000</td>\n",
       "      <td>4.000000</td>\n",
       "      <td>...</td>\n",
       "      <td>2.000000</td>\n",
       "      <td>3.000000</td>\n",
       "      <td>2.000000</td>\n",
       "      <td>1.000000</td>\n",
       "      <td>1.000000</td>\n",
       "      <td>4.000000</td>\n",
       "      <td>3.000000</td>\n",
       "      <td>3.000000</td>\n",
       "      <td>5.000000</td>\n",
       "      <td>3.000000</td>\n",
       "    </tr>\n",
       "    <tr>\n",
       "      <th>75%</th>\n",
       "      <td>4.000000</td>\n",
       "      <td>2.000000</td>\n",
       "      <td>5.000000</td>\n",
       "      <td>4.000000</td>\n",
       "      <td>4.000000</td>\n",
       "      <td>5.000000</td>\n",
       "      <td>4.000000</td>\n",
       "      <td>4.000000</td>\n",
       "      <td>4.000000</td>\n",
       "      <td>6.000000</td>\n",
       "      <td>...</td>\n",
       "      <td>3.000000</td>\n",
       "      <td>3.000000</td>\n",
       "      <td>2.000000</td>\n",
       "      <td>1.000000</td>\n",
       "      <td>3.000000</td>\n",
       "      <td>4.000000</td>\n",
       "      <td>4.000000</td>\n",
       "      <td>4.000000</td>\n",
       "      <td>7.000000</td>\n",
       "      <td>4.000000</td>\n",
       "    </tr>\n",
       "    <tr>\n",
       "      <th>max</th>\n",
       "      <td>4.000000</td>\n",
       "      <td>2.000000</td>\n",
       "      <td>6.000000</td>\n",
       "      <td>5.000000</td>\n",
       "      <td>5.000000</td>\n",
       "      <td>5.000000</td>\n",
       "      <td>5.000000</td>\n",
       "      <td>5.000000</td>\n",
       "      <td>5.000000</td>\n",
       "      <td>6.000000</td>\n",
       "      <td>...</td>\n",
       "      <td>4.000000</td>\n",
       "      <td>4.000000</td>\n",
       "      <td>3.000000</td>\n",
       "      <td>2.000000</td>\n",
       "      <td>5.000000</td>\n",
       "      <td>5.000000</td>\n",
       "      <td>5.000000</td>\n",
       "      <td>5.000000</td>\n",
       "      <td>9.000000</td>\n",
       "      <td>5.000000</td>\n",
       "    </tr>\n",
       "  </tbody>\n",
       "</table>\n",
       "<p>8 rows × 75 columns</p>\n",
       "</div>"
      ],
      "text/plain": [
       "       ALTERSKATEGORIE_GROB      ANREDE_KZ  CJT_GESAMTTYP  FINANZ_MINIMALIST  \\\n",
       "count         795258.000000  798061.000000  793316.000000      798061.000000   \n",
       "mean               2.795412       1.521485       3.502893           3.058917   \n",
       "std                1.018409       0.499538       1.537612           1.377577   \n",
       "min                1.000000       1.000000       1.000000           1.000000   \n",
       "25%                2.000000       1.000000       2.000000           2.000000   \n",
       "50%                3.000000       2.000000       4.000000           3.000000   \n",
       "75%                4.000000       2.000000       5.000000           4.000000   \n",
       "max                4.000000       2.000000       6.000000           5.000000   \n",
       "\n",
       "       FINANZ_SPARER  FINANZ_VORSORGER  FINANZ_ANLEGER  FINANZ_UNAUFFAELLIGER  \\\n",
       "count  798061.000000     798061.000000   798061.000000          798061.000000   \n",
       "mean        2.716047          3.432892        2.840955               2.658348   \n",
       "std         1.485090          1.376866        1.472782               1.399530   \n",
       "min         1.000000          1.000000        1.000000               1.000000   \n",
       "25%         1.000000          2.000000        1.000000               1.000000   \n",
       "50%         3.000000          4.000000        3.000000               2.000000   \n",
       "75%         4.000000          5.000000        4.000000               4.000000   \n",
       "max         5.000000          5.000000        5.000000               5.000000   \n",
       "\n",
       "       FINANZ_HAUSBAUER      FINANZTYP      ...           PLZ8_ANTG1  \\\n",
       "count     798061.000000  798061.000000      ...        774706.000000   \n",
       "mean           3.114102       3.797751      ...             2.253330   \n",
       "std            1.408109       2.084705      ...             0.972008   \n",
       "min            1.000000       1.000000      ...             0.000000   \n",
       "25%            2.000000       2.000000      ...             1.000000   \n",
       "50%            3.000000       4.000000      ...             2.000000   \n",
       "75%            4.000000       6.000000      ...             3.000000   \n",
       "max            5.000000       6.000000      ...             4.000000   \n",
       "\n",
       "          PLZ8_ANTG2     PLZ8_ANTG3     PLZ8_ANTG4    PLZ8_BAUMAX  \\\n",
       "count  774706.000000  774706.000000  774706.000000  774706.000000   \n",
       "mean        2.801858       1.595426       0.699166       1.943913   \n",
       "std         0.920309       0.986736       0.727137       1.459654   \n",
       "min         0.000000       0.000000       0.000000       1.000000   \n",
       "25%         2.000000       1.000000       0.000000       1.000000   \n",
       "50%         3.000000       2.000000       1.000000       1.000000   \n",
       "75%         3.000000       2.000000       1.000000       3.000000   \n",
       "max         4.000000       3.000000       2.000000       5.000000   \n",
       "\n",
       "            PLZ8_HHZ       PLZ8_GBZ         ARBEIT    ORTSGR_KLS9  \\\n",
       "count  774706.000000  774706.000000  793834.000000  793935.000000   \n",
       "mean        3.612821       3.381087       3.166687       5.293396   \n",
       "std         0.973967       1.111598       0.999070       2.303377   \n",
       "min         1.000000       1.000000       1.000000       1.000000   \n",
       "25%         3.000000       3.000000       3.000000       4.000000   \n",
       "50%         4.000000       3.000000       3.000000       5.000000   \n",
       "75%         4.000000       4.000000       4.000000       7.000000   \n",
       "max         5.000000       5.000000       5.000000       9.000000   \n",
       "\n",
       "            RELAT_AB  \n",
       "count  793834.000000  \n",
       "mean        3.071035  \n",
       "std         1.360535  \n",
       "min         1.000000  \n",
       "25%         2.000000  \n",
       "50%         3.000000  \n",
       "75%         4.000000  \n",
       "max         5.000000  \n",
       "\n",
       "[8 rows x 75 columns]"
      ]
     },
     "execution_count": 26,
     "metadata": {},
     "output_type": "execute_result"
    }
   ],
   "source": [
    "azdias_subset2.describe()"
   ]
  },
  {
   "cell_type": "code",
   "execution_count": 27,
   "metadata": {},
   "outputs": [],
   "source": [
    "azdias_clean = azdias_subset2"
   ]
  },
  {
   "cell_type": "markdown",
   "metadata": {},
   "source": [
    "#### Discussion 1.1.3: Assess Missing Data in Each Row\n",
    "\n",
    "The subset with more than 25 missing values in rows are mostly located in the same columns, thus qualitatively different from the other subset with fewer or no missing values.\n",
    "\n",
    "(Are the data with lots of missing values are qualitatively different from data with few or no missing values?)"
   ]
  },
  {
   "cell_type": "markdown",
   "metadata": {},
   "source": [
    "### Step 1.2: Select and Re-Encode Features\n",
    "\n",
    "Checking for missing data isn't the only way in which you can prepare a dataset for analysis. Since the unsupervised learning techniques to be used will only work on data that is encoded numerically, you need to make a few encoding changes or additional assumptions to be able to make progress. In addition, while almost all of the values in the dataset are encoded using numbers, not all of them represent numeric values. Check the third column of the feature summary (`feat_info`) for a summary of types of measurement.\n",
    "- For numeric and interval data, these features can be kept without changes.\n",
    "- Most of the variables in the dataset are ordinal in nature. While ordinal values may technically be non-linear in spacing, make the simplifying assumption that the ordinal variables can be treated as being interval in nature (that is, kept without any changes).\n",
    "- Special handling may be necessary for the remaining two variable types: categorical, and 'mixed'.\n",
    "\n",
    "In the first two parts of this sub-step, you will perform an investigation of the categorical and mixed-type features and make a decision on each of them, whether you will keep, drop, or re-encode each. Then, in the last part, you will create a new data frame with only the selected and engineered columns.\n",
    "\n",
    "Data wrangling is often the trickiest part of the data analysis process, and there's a lot of it to be done here. But stick with it: once you're done with this step, you'll be ready to get to the machine learning parts of the project!"
   ]
  },
  {
   "cell_type": "code",
   "execution_count": 28,
   "metadata": {},
   "outputs": [
    {
     "data": {
      "text/plain": [
       "ordinal        49\n",
       "categorical    21\n",
       "numeric         7\n",
       "mixed           7\n",
       "interval        1\n",
       "Name: type, dtype: int64"
      ]
     },
     "execution_count": 28,
     "metadata": {},
     "output_type": "execute_result"
    }
   ],
   "source": [
    "# How many features are there of each data type?\n",
    "feat_info.type.value_counts()"
   ]
  },
  {
   "cell_type": "markdown",
   "metadata": {},
   "source": [
    "#### Step 1.2.1: Re-Encode Categorical Features\n",
    "\n",
    "For categorical data, you would ordinarily need to encode the levels as dummy variables. Depending on the number of categories, perform one of the following:\n",
    "- For binary (two-level) categoricals that take numeric values, you can keep them without needing to do anything.\n",
    "- There is one binary variable that takes on non-numeric values. For this one, you need to re-encode the values as numbers or create a dummy variable.\n",
    "- For multi-level categoricals (three or more values), you can choose to encode the values using multiple dummy variables (e.g. via [OneHotEncoder](http://scikit-learn.org/stable/modules/generated/sklearn.preprocessing.OneHotEncoder.html)), or (to keep things straightforward) just drop them from the analysis. As always, document your choices in the Discussion section."
   ]
  },
  {
   "cell_type": "code",
   "execution_count": 29,
   "metadata": {},
   "outputs": [
    {
     "data": {
      "text/plain": [
       "array(['AGER_TYP', 'ANREDE_KZ', 'CJT_GESAMTTYP', 'FINANZTYP',\n",
       "       'GFK_URLAUBERTYP', 'GREEN_AVANTGARDE', 'LP_FAMILIE_FEIN',\n",
       "       'LP_FAMILIE_GROB', 'LP_STATUS_FEIN', 'LP_STATUS_GROB',\n",
       "       'NATIONALITAET_KZ', 'SHOPPER_TYP', 'SOHO_KZ', 'TITEL_KZ',\n",
       "       'VERS_TYP', 'ZABEOTYP', 'KK_KUNDENTYP', 'GEBAEUDETYP',\n",
       "       'OST_WEST_KZ', 'CAMEO_DEUG_2015', 'CAMEO_DEU_2015'], dtype=object)"
      ]
     },
     "execution_count": 29,
     "metadata": {},
     "output_type": "execute_result"
    }
   ],
   "source": [
    "# Assess categorical variables: which are binary, which are multi-level, and\n",
    "# which one needs to be re-encoded?\n",
    "cats = feat_info[feat_info.type=='categorical']['attribute']\n",
    "cats.values"
   ]
  },
  {
   "cell_type": "code",
   "execution_count": 30,
   "metadata": {},
   "outputs": [],
   "source": [
    "def attribute_info(arr):\n",
    "    levels = []\n",
    "    nums = []\n",
    "    for i in range(len(arr)):\n",
    "        levels.append(azdias[arr.values[i]].dropna().unique().tolist())\n",
    "        nums.append(len(azdias[arr.values[i]].dropna().unique()))\n",
    "    df = pd.DataFrame(arr)\n",
    "    df.loc[:, 'level'] = levels\n",
    "    df.loc[:, 'level_num'] = nums\n",
    "    \n",
    "    return df"
   ]
  },
  {
   "cell_type": "code",
   "execution_count": 31,
   "metadata": {
    "scrolled": false
   },
   "outputs": [
    {
     "data": {
      "text/html": [
       "<div>\n",
       "<style scoped>\n",
       "    .dataframe tbody tr th:only-of-type {\n",
       "        vertical-align: middle;\n",
       "    }\n",
       "\n",
       "    .dataframe tbody tr th {\n",
       "        vertical-align: top;\n",
       "    }\n",
       "\n",
       "    .dataframe thead th {\n",
       "        text-align: right;\n",
       "    }\n",
       "</style>\n",
       "<table border=\"1\" class=\"dataframe\">\n",
       "  <thead>\n",
       "    <tr style=\"text-align: right;\">\n",
       "      <th></th>\n",
       "      <th>attribute</th>\n",
       "      <th>level</th>\n",
       "      <th>level_num</th>\n",
       "    </tr>\n",
       "  </thead>\n",
       "  <tbody>\n",
       "    <tr>\n",
       "      <th>0</th>\n",
       "      <td>AGER_TYP</td>\n",
       "      <td>[2.0, 3.0, 1.0]</td>\n",
       "      <td>3</td>\n",
       "    </tr>\n",
       "    <tr>\n",
       "      <th>2</th>\n",
       "      <td>ANREDE_KZ</td>\n",
       "      <td>[1, 2]</td>\n",
       "      <td>2</td>\n",
       "    </tr>\n",
       "    <tr>\n",
       "      <th>3</th>\n",
       "      <td>CJT_GESAMTTYP</td>\n",
       "      <td>[2.0, 5.0, 3.0, 4.0, 1.0, 6.0]</td>\n",
       "      <td>6</td>\n",
       "    </tr>\n",
       "    <tr>\n",
       "      <th>10</th>\n",
       "      <td>FINANZTYP</td>\n",
       "      <td>[4, 1, 6, 5, 2, 3]</td>\n",
       "      <td>6</td>\n",
       "    </tr>\n",
       "    <tr>\n",
       "      <th>12</th>\n",
       "      <td>GFK_URLAUBERTYP</td>\n",
       "      <td>[10.0, 1.0, 5.0, 12.0, 9.0, 3.0, 8.0, 11.0, 4....</td>\n",
       "      <td>12</td>\n",
       "    </tr>\n",
       "    <tr>\n",
       "      <th>13</th>\n",
       "      <td>GREEN_AVANTGARDE</td>\n",
       "      <td>[0, 1]</td>\n",
       "      <td>2</td>\n",
       "    </tr>\n",
       "    <tr>\n",
       "      <th>17</th>\n",
       "      <td>LP_FAMILIE_FEIN</td>\n",
       "      <td>[2.0, 5.0, 1.0, 10.0, 7.0, 11.0, 3.0, 8.0, 4.0...</td>\n",
       "      <td>11</td>\n",
       "    </tr>\n",
       "    <tr>\n",
       "      <th>18</th>\n",
       "      <td>LP_FAMILIE_GROB</td>\n",
       "      <td>[2.0, 3.0, 1.0, 5.0, 4.0]</td>\n",
       "      <td>5</td>\n",
       "    </tr>\n",
       "    <tr>\n",
       "      <th>19</th>\n",
       "      <td>LP_STATUS_FEIN</td>\n",
       "      <td>[1.0, 2.0, 3.0, 9.0, 4.0, 10.0, 5.0, 8.0, 6.0,...</td>\n",
       "      <td>10</td>\n",
       "    </tr>\n",
       "    <tr>\n",
       "      <th>20</th>\n",
       "      <td>LP_STATUS_GROB</td>\n",
       "      <td>[1.0, 2.0, 4.0, 5.0, 3.0]</td>\n",
       "      <td>5</td>\n",
       "    </tr>\n",
       "    <tr>\n",
       "      <th>21</th>\n",
       "      <td>NATIONALITAET_KZ</td>\n",
       "      <td>[1.0, 3.0, 2.0]</td>\n",
       "      <td>3</td>\n",
       "    </tr>\n",
       "    <tr>\n",
       "      <th>38</th>\n",
       "      <td>SHOPPER_TYP</td>\n",
       "      <td>[3.0, 2.0, 1.0, 0.0]</td>\n",
       "      <td>4</td>\n",
       "    </tr>\n",
       "    <tr>\n",
       "      <th>39</th>\n",
       "      <td>SOHO_KZ</td>\n",
       "      <td>[1.0, 0.0]</td>\n",
       "      <td>2</td>\n",
       "    </tr>\n",
       "    <tr>\n",
       "      <th>40</th>\n",
       "      <td>TITEL_KZ</td>\n",
       "      <td>[4.0, 1.0, 3.0, 5.0, 2.0]</td>\n",
       "      <td>5</td>\n",
       "    </tr>\n",
       "    <tr>\n",
       "      <th>41</th>\n",
       "      <td>VERS_TYP</td>\n",
       "      <td>[2.0, 1.0]</td>\n",
       "      <td>2</td>\n",
       "    </tr>\n",
       "    <tr>\n",
       "      <th>42</th>\n",
       "      <td>ZABEOTYP</td>\n",
       "      <td>[3, 5, 4, 1, 6, 2]</td>\n",
       "      <td>6</td>\n",
       "    </tr>\n",
       "    <tr>\n",
       "      <th>47</th>\n",
       "      <td>KK_KUNDENTYP</td>\n",
       "      <td>[1.0, 3.0, 6.0, 4.0, 2.0, 5.0]</td>\n",
       "      <td>6</td>\n",
       "    </tr>\n",
       "    <tr>\n",
       "      <th>52</th>\n",
       "      <td>GEBAEUDETYP</td>\n",
       "      <td>[8.0, 1.0, 3.0, 2.0, 6.0, 4.0, 5.0]</td>\n",
       "      <td>7</td>\n",
       "    </tr>\n",
       "    <tr>\n",
       "      <th>55</th>\n",
       "      <td>OST_WEST_KZ</td>\n",
       "      <td>[W, O]</td>\n",
       "      <td>2</td>\n",
       "    </tr>\n",
       "    <tr>\n",
       "      <th>57</th>\n",
       "      <td>CAMEO_DEUG_2015</td>\n",
       "      <td>[8, 4, 2, 6, 1, 9, 5, 7, 3]</td>\n",
       "      <td>9</td>\n",
       "    </tr>\n",
       "    <tr>\n",
       "      <th>58</th>\n",
       "      <td>CAMEO_DEU_2015</td>\n",
       "      <td>[8A, 4C, 2A, 6B, 8C, 4A, 2D, 1A, 1E, 9D, 5C, 8...</td>\n",
       "      <td>44</td>\n",
       "    </tr>\n",
       "  </tbody>\n",
       "</table>\n",
       "</div>"
      ],
      "text/plain": [
       "           attribute                                              level  \\\n",
       "0           AGER_TYP                                    [2.0, 3.0, 1.0]   \n",
       "2          ANREDE_KZ                                             [1, 2]   \n",
       "3      CJT_GESAMTTYP                     [2.0, 5.0, 3.0, 4.0, 1.0, 6.0]   \n",
       "10         FINANZTYP                                 [4, 1, 6, 5, 2, 3]   \n",
       "12   GFK_URLAUBERTYP  [10.0, 1.0, 5.0, 12.0, 9.0, 3.0, 8.0, 11.0, 4....   \n",
       "13  GREEN_AVANTGARDE                                             [0, 1]   \n",
       "17   LP_FAMILIE_FEIN  [2.0, 5.0, 1.0, 10.0, 7.0, 11.0, 3.0, 8.0, 4.0...   \n",
       "18   LP_FAMILIE_GROB                          [2.0, 3.0, 1.0, 5.0, 4.0]   \n",
       "19    LP_STATUS_FEIN  [1.0, 2.0, 3.0, 9.0, 4.0, 10.0, 5.0, 8.0, 6.0,...   \n",
       "20    LP_STATUS_GROB                          [1.0, 2.0, 4.0, 5.0, 3.0]   \n",
       "21  NATIONALITAET_KZ                                    [1.0, 3.0, 2.0]   \n",
       "38       SHOPPER_TYP                               [3.0, 2.0, 1.0, 0.0]   \n",
       "39           SOHO_KZ                                         [1.0, 0.0]   \n",
       "40          TITEL_KZ                          [4.0, 1.0, 3.0, 5.0, 2.0]   \n",
       "41          VERS_TYP                                         [2.0, 1.0]   \n",
       "42          ZABEOTYP                                 [3, 5, 4, 1, 6, 2]   \n",
       "47      KK_KUNDENTYP                     [1.0, 3.0, 6.0, 4.0, 2.0, 5.0]   \n",
       "52       GEBAEUDETYP                [8.0, 1.0, 3.0, 2.0, 6.0, 4.0, 5.0]   \n",
       "55       OST_WEST_KZ                                             [W, O]   \n",
       "57   CAMEO_DEUG_2015                        [8, 4, 2, 6, 1, 9, 5, 7, 3]   \n",
       "58    CAMEO_DEU_2015  [8A, 4C, 2A, 6B, 8C, 4A, 2D, 1A, 1E, 9D, 5C, 8...   \n",
       "\n",
       "    level_num  \n",
       "0           3  \n",
       "2           2  \n",
       "3           6  \n",
       "10          6  \n",
       "12         12  \n",
       "13          2  \n",
       "17         11  \n",
       "18          5  \n",
       "19         10  \n",
       "20          5  \n",
       "21          3  \n",
       "38          4  \n",
       "39          2  \n",
       "40          5  \n",
       "41          2  \n",
       "42          6  \n",
       "47          6  \n",
       "52          7  \n",
       "55          2  \n",
       "57          9  \n",
       "58         44  "
      ]
     },
     "execution_count": 31,
     "metadata": {},
     "output_type": "execute_result"
    }
   ],
   "source": [
    "cats = attribute_info(cats)\n",
    "cats"
   ]
  },
  {
   "cell_type": "code",
   "execution_count": 32,
   "metadata": {
    "scrolled": false
   },
   "outputs": [
    {
     "data": {
      "text/plain": [
       "2            ANREDE_KZ\n",
       "13    GREEN_AVANTGARDE\n",
       "39             SOHO_KZ\n",
       "41            VERS_TYP\n",
       "55         OST_WEST_KZ\n",
       "Name: attribute, dtype: object"
      ]
     },
     "execution_count": 32,
     "metadata": {},
     "output_type": "execute_result"
    }
   ],
   "source": [
    "bin_level_cats = cats[cats.level_num==2]['attribute']\n",
    "bin_level_cats"
   ]
  },
  {
   "cell_type": "code",
   "execution_count": 33,
   "metadata": {},
   "outputs": [
    {
     "data": {
      "text/plain": [
       "ANREDE_KZ               0\n",
       "GREEN_AVANTGARDE        0\n",
       "SOHO_KZ                 0\n",
       "VERS_TYP            36721\n",
       "OST_WEST_KZ             0\n",
       "dtype: int64"
      ]
     },
     "execution_count": 33,
     "metadata": {},
     "output_type": "execute_result"
    }
   ],
   "source": [
    "azdias_clean[bin_level_cats].isnull().sum()"
   ]
  },
  {
   "cell_type": "markdown",
   "metadata": {},
   "source": [
    "- One thing must be tended to here with binary categoricals is to convert the values in column `OST_WEST_KZ` to numerics. Otherweise, it is not suitable for scikit-learn. "
   ]
  },
  {
   "cell_type": "code",
   "execution_count": 34,
   "metadata": {},
   "outputs": [
    {
     "data": {
      "text/plain": [
       "1    1\n",
       "2    1\n",
       "3    1\n",
       "4    1\n",
       "5    1\n",
       "Name: OST_WEST_KZ, dtype: int64"
      ]
     },
     "execution_count": 34,
     "metadata": {},
     "output_type": "execute_result"
    }
   ],
   "source": [
    "azdias_clean['OST_WEST_KZ'] = azdias_clean.loc[:,'OST_WEST_KZ'].apply(lambda x : 0 if x == 'O' else (1 if x == 'W' else np.nan))\n",
    "azdias_clean['OST_WEST_KZ'].head()"
   ]
  },
  {
   "cell_type": "code",
   "execution_count": 35,
   "metadata": {},
   "outputs": [],
   "source": [
    "def impute(df, stg='most_frequent'):\n",
    "    imr = Imputer(missing_values='NaN', strategy=stg, axis=0)\n",
    "    imr = imr.fit(df.values)\n",
    "    df = imr.transform(df.values)\n",
    "    return df"
   ]
  },
  {
   "cell_type": "code",
   "execution_count": 36,
   "metadata": {},
   "outputs": [],
   "source": [
    "azdias_clean[bin_level_cats] = impute(azdias_clean[bin_level_cats])"
   ]
  },
  {
   "cell_type": "code",
   "execution_count": 37,
   "metadata": {},
   "outputs": [
    {
     "data": {
      "text/plain": [
       "16"
      ]
     },
     "execution_count": 37,
     "metadata": {},
     "output_type": "execute_result"
    }
   ],
   "source": [
    "multi_level_cats = cats[cats.level_num>2]['attribute'].tolist()\n",
    "len(multi_level_cats)"
   ]
  },
  {
   "cell_type": "code",
   "execution_count": 38,
   "metadata": {},
   "outputs": [
    {
     "data": {
      "text/plain": [
       "13"
      ]
     },
     "execution_count": 38,
     "metadata": {},
     "output_type": "execute_result"
    }
   ],
   "source": [
    "multi_level_cats = [item for item in multi_level_cats if item not in to_drop_cols]\n",
    "len(multi_level_cats)"
   ]
  },
  {
   "cell_type": "code",
   "execution_count": 39,
   "metadata": {
    "scrolled": false
   },
   "outputs": [
    {
     "data": {
      "text/plain": [
       "CJT_GESAMTTYP        4745\n",
       "FINANZTYP               0\n",
       "GFK_URLAUBERTYP      4745\n",
       "LP_FAMILIE_FEIN     31468\n",
       "LP_FAMILIE_GROB     31468\n",
       "LP_STATUS_FEIN       4745\n",
       "LP_STATUS_GROB       4745\n",
       "NATIONALITAET_KZ    33918\n",
       "SHOPPER_TYP         36721\n",
       "ZABEOTYP                0\n",
       "GEBAEUDETYP             0\n",
       "CAMEO_DEUG_2015      6198\n",
       "CAMEO_DEU_2015       6198\n",
       "dtype: int64"
      ]
     },
     "execution_count": 39,
     "metadata": {},
     "output_type": "execute_result"
    }
   ],
   "source": [
    "azdias_clean[multi_level_cats].isnull().sum()"
   ]
  },
  {
   "cell_type": "code",
   "execution_count": 40,
   "metadata": {},
   "outputs": [],
   "source": [
    "#azdias_clean['CAMEO_DEU_2015'].value_counts().sort_values(ascending=False)\n",
    "azdias_clean['CAMEO_DEU_2015'].replace(np.nan, '6B', inplace=True)"
   ]
  },
  {
   "cell_type": "code",
   "execution_count": 41,
   "metadata": {},
   "outputs": [],
   "source": [
    "azdias_clean[multi_level_cats[:-1]] = impute(azdias_clean[multi_level_cats[:-1]])"
   ]
  },
  {
   "cell_type": "markdown",
   "metadata": {},
   "source": [
    "- binary (two-level) categoricals: ANREDE_KZ, GREEN_AVANTGARDE, SOHO_KZ, VERS_TYP, OST_WEST_KZ\n",
    "- others are multi-level categoricals."
   ]
  },
  {
   "cell_type": "code",
   "execution_count": 42,
   "metadata": {
    "scrolled": true
   },
   "outputs": [],
   "source": [
    "# Re-encode categorical variable(s) to be kept in the analysis."
   ]
  },
  {
   "cell_type": "code",
   "execution_count": 43,
   "metadata": {},
   "outputs": [
    {
     "name": "stdout",
     "output_type": "stream",
     "text": [
      "(798061, 13)\n"
     ]
    },
    {
     "data": {
      "text/plain": [
       "CJT_GESAMTTYP       False\n",
       "FINANZTYP           False\n",
       "GFK_URLAUBERTYP     False\n",
       "LP_FAMILIE_FEIN     False\n",
       "LP_FAMILIE_GROB     False\n",
       "LP_STATUS_FEIN      False\n",
       "LP_STATUS_GROB      False\n",
       "NATIONALITAET_KZ    False\n",
       "SHOPPER_TYP         False\n",
       "ZABEOTYP            False\n",
       "GEBAEUDETYP         False\n",
       "CAMEO_DEUG_2015     False\n",
       "CAMEO_DEU_2015      False\n",
       "dtype: bool"
      ]
     },
     "execution_count": 43,
     "metadata": {},
     "output_type": "execute_result"
    }
   ],
   "source": [
    "df = azdias_clean[multi_level_cats]\n",
    "print(df.shape)\n",
    "df.isnull().any()"
   ]
  },
  {
   "cell_type": "code",
   "execution_count": 44,
   "metadata": {},
   "outputs": [
    {
     "name": "stdout",
     "output_type": "stream",
     "text": [
      "(798061, 43)\n"
     ]
    },
    {
     "data": {
      "text/html": [
       "<div>\n",
       "<style scoped>\n",
       "    .dataframe tbody tr th:only-of-type {\n",
       "        vertical-align: middle;\n",
       "    }\n",
       "\n",
       "    .dataframe tbody tr th {\n",
       "        vertical-align: top;\n",
       "    }\n",
       "\n",
       "    .dataframe thead th {\n",
       "        text-align: right;\n",
       "    }\n",
       "</style>\n",
       "<table border=\"1\" class=\"dataframe\">\n",
       "  <thead>\n",
       "    <tr style=\"text-align: right;\">\n",
       "      <th></th>\n",
       "      <th>CAMEO_DEU_2015_1B</th>\n",
       "      <th>CAMEO_DEU_2015_1C</th>\n",
       "      <th>CAMEO_DEU_2015_1D</th>\n",
       "      <th>CAMEO_DEU_2015_1E</th>\n",
       "      <th>CAMEO_DEU_2015_2A</th>\n",
       "      <th>CAMEO_DEU_2015_2B</th>\n",
       "      <th>CAMEO_DEU_2015_2C</th>\n",
       "      <th>CAMEO_DEU_2015_2D</th>\n",
       "      <th>CAMEO_DEU_2015_3A</th>\n",
       "      <th>CAMEO_DEU_2015_3B</th>\n",
       "      <th>...</th>\n",
       "      <th>CAMEO_DEU_2015_7E</th>\n",
       "      <th>CAMEO_DEU_2015_8A</th>\n",
       "      <th>CAMEO_DEU_2015_8B</th>\n",
       "      <th>CAMEO_DEU_2015_8C</th>\n",
       "      <th>CAMEO_DEU_2015_8D</th>\n",
       "      <th>CAMEO_DEU_2015_9A</th>\n",
       "      <th>CAMEO_DEU_2015_9B</th>\n",
       "      <th>CAMEO_DEU_2015_9C</th>\n",
       "      <th>CAMEO_DEU_2015_9D</th>\n",
       "      <th>CAMEO_DEU_2015_9E</th>\n",
       "    </tr>\n",
       "  </thead>\n",
       "  <tbody>\n",
       "    <tr>\n",
       "      <th>1</th>\n",
       "      <td>0</td>\n",
       "      <td>0</td>\n",
       "      <td>0</td>\n",
       "      <td>0</td>\n",
       "      <td>0</td>\n",
       "      <td>0</td>\n",
       "      <td>0</td>\n",
       "      <td>0</td>\n",
       "      <td>0</td>\n",
       "      <td>0</td>\n",
       "      <td>...</td>\n",
       "      <td>0</td>\n",
       "      <td>1</td>\n",
       "      <td>0</td>\n",
       "      <td>0</td>\n",
       "      <td>0</td>\n",
       "      <td>0</td>\n",
       "      <td>0</td>\n",
       "      <td>0</td>\n",
       "      <td>0</td>\n",
       "      <td>0</td>\n",
       "    </tr>\n",
       "  </tbody>\n",
       "</table>\n",
       "<p>1 rows × 43 columns</p>\n",
       "</div>"
      ],
      "text/plain": [
       "   CAMEO_DEU_2015_1B  CAMEO_DEU_2015_1C  CAMEO_DEU_2015_1D  CAMEO_DEU_2015_1E  \\\n",
       "1                  0                  0                  0                  0   \n",
       "\n",
       "   CAMEO_DEU_2015_2A  CAMEO_DEU_2015_2B  CAMEO_DEU_2015_2C  CAMEO_DEU_2015_2D  \\\n",
       "1                  0                  0                  0                  0   \n",
       "\n",
       "   CAMEO_DEU_2015_3A  CAMEO_DEU_2015_3B        ...          CAMEO_DEU_2015_7E  \\\n",
       "1                  0                  0        ...                          0   \n",
       "\n",
       "   CAMEO_DEU_2015_8A  CAMEO_DEU_2015_8B  CAMEO_DEU_2015_8C  CAMEO_DEU_2015_8D  \\\n",
       "1                  1                  0                  0                  0   \n",
       "\n",
       "   CAMEO_DEU_2015_9A  CAMEO_DEU_2015_9B  CAMEO_DEU_2015_9C  CAMEO_DEU_2015_9D  \\\n",
       "1                  0                  0                  0                  0   \n",
       "\n",
       "   CAMEO_DEU_2015_9E  \n",
       "1                  0  \n",
       "\n",
       "[1 rows x 43 columns]"
      ]
     },
     "execution_count": 44,
     "metadata": {},
     "output_type": "execute_result"
    }
   ],
   "source": [
    "dummies = pd.get_dummies(df['CAMEO_DEU_2015'], prefix='CAMEO_DEU_2015', drop_first=True)\n",
    "print(dummies.shape)\n",
    "dummies.head(1)"
   ]
  },
  {
   "cell_type": "code",
   "execution_count": 45,
   "metadata": {},
   "outputs": [],
   "source": [
    "df1 = df.drop('CAMEO_DEU_2015', axis=1)"
   ]
  },
  {
   "cell_type": "code",
   "execution_count": 46,
   "metadata": {},
   "outputs": [
    {
     "name": "stdout",
     "output_type": "stream",
     "text": [
      "(798061, 72)\n"
     ]
    },
    {
     "data": {
      "text/html": [
       "<div>\n",
       "<style scoped>\n",
       "    .dataframe tbody tr th:only-of-type {\n",
       "        vertical-align: middle;\n",
       "    }\n",
       "\n",
       "    .dataframe tbody tr th {\n",
       "        vertical-align: top;\n",
       "    }\n",
       "\n",
       "    .dataframe thead th {\n",
       "        text-align: right;\n",
       "    }\n",
       "</style>\n",
       "<table border=\"1\" class=\"dataframe\">\n",
       "  <thead>\n",
       "    <tr style=\"text-align: right;\">\n",
       "      <th></th>\n",
       "      <th>CJT_GESAMTTYP_2</th>\n",
       "      <th>CJT_GESAMTTYP_3</th>\n",
       "      <th>CJT_GESAMTTYP_4</th>\n",
       "      <th>CJT_GESAMTTYP_5</th>\n",
       "      <th>CJT_GESAMTTYP_6</th>\n",
       "      <th>FINANZTYP_2</th>\n",
       "      <th>FINANZTYP_3</th>\n",
       "      <th>FINANZTYP_4</th>\n",
       "      <th>FINANZTYP_5</th>\n",
       "      <th>FINANZTYP_6</th>\n",
       "      <th>...</th>\n",
       "      <th>GEBAEUDETYP_6</th>\n",
       "      <th>GEBAEUDETYP_8</th>\n",
       "      <th>CAMEO_DEUG_2015_2</th>\n",
       "      <th>CAMEO_DEUG_2015_3</th>\n",
       "      <th>CAMEO_DEUG_2015_4</th>\n",
       "      <th>CAMEO_DEUG_2015_5</th>\n",
       "      <th>CAMEO_DEUG_2015_6</th>\n",
       "      <th>CAMEO_DEUG_2015_7</th>\n",
       "      <th>CAMEO_DEUG_2015_8</th>\n",
       "      <th>CAMEO_DEUG_2015_9</th>\n",
       "    </tr>\n",
       "  </thead>\n",
       "  <tbody>\n",
       "    <tr>\n",
       "      <th>1</th>\n",
       "      <td>0</td>\n",
       "      <td>0</td>\n",
       "      <td>0</td>\n",
       "      <td>1</td>\n",
       "      <td>0</td>\n",
       "      <td>0</td>\n",
       "      <td>0</td>\n",
       "      <td>0</td>\n",
       "      <td>0</td>\n",
       "      <td>0</td>\n",
       "      <td>...</td>\n",
       "      <td>0</td>\n",
       "      <td>1</td>\n",
       "      <td>0</td>\n",
       "      <td>0</td>\n",
       "      <td>0</td>\n",
       "      <td>0</td>\n",
       "      <td>0</td>\n",
       "      <td>0</td>\n",
       "      <td>1</td>\n",
       "      <td>0</td>\n",
       "    </tr>\n",
       "  </tbody>\n",
       "</table>\n",
       "<p>1 rows × 72 columns</p>\n",
       "</div>"
      ],
      "text/plain": [
       "   CJT_GESAMTTYP_2  CJT_GESAMTTYP_3  CJT_GESAMTTYP_4  CJT_GESAMTTYP_5  \\\n",
       "1                0                0                0                1   \n",
       "\n",
       "   CJT_GESAMTTYP_6  FINANZTYP_2  FINANZTYP_3  FINANZTYP_4  FINANZTYP_5  \\\n",
       "1                0            0            0            0            0   \n",
       "\n",
       "   FINANZTYP_6        ...          GEBAEUDETYP_6  GEBAEUDETYP_8  \\\n",
       "1            0        ...                      0              1   \n",
       "\n",
       "   CAMEO_DEUG_2015_2  CAMEO_DEUG_2015_3  CAMEO_DEUG_2015_4  CAMEO_DEUG_2015_5  \\\n",
       "1                  0                  0                  0                  0   \n",
       "\n",
       "   CAMEO_DEUG_2015_6  CAMEO_DEUG_2015_7  CAMEO_DEUG_2015_8  CAMEO_DEUG_2015_9  \n",
       "1                  0                  0                  1                  0  \n",
       "\n",
       "[1 rows x 72 columns]"
      ]
     },
     "execution_count": 46,
     "metadata": {},
     "output_type": "execute_result"
    }
   ],
   "source": [
    "df1 = df1.astype('int')\n",
    "dummies_ = pd.get_dummies(data=df1, columns=df1.columns, drop_first=True)\n",
    "\n",
    "print(dummies_.shape)\n",
    "dummies_.head(1)"
   ]
  },
  {
   "cell_type": "code",
   "execution_count": 47,
   "metadata": {},
   "outputs": [
    {
     "data": {
      "text/plain": [
       "(798061, 181)"
      ]
     },
     "execution_count": 47,
     "metadata": {},
     "output_type": "execute_result"
    }
   ],
   "source": [
    "azdias_clean.drop(multi_level_cats, axis=1, inplace=True)\n",
    "azdias_clean = azdias_clean.join([dummies, dummies_])\n",
    "azdias_clean.shape"
   ]
  },
  {
   "cell_type": "markdown",
   "metadata": {},
   "source": [
    "#### Discussion 1.2.1: Re-Encode Categorical Features\n",
    "\n",
    "(Double-click this cell and replace this text with your own text, reporting your findings and decisions regarding categorical features. Which ones did you keep, which did you drop, and what engineering steps did you perform?)"
   ]
  },
  {
   "cell_type": "markdown",
   "metadata": {},
   "source": [
    "#### Step 1.2.2: Engineer Mixed-Type Features\n",
    "\n",
    "There are a handful of features that are marked as \"mixed\" in the feature summary that require special treatment in order to be included in the analysis. There are two in particular that deserve attention; the handling of the rest are up to your own choices:\n",
    "- \"PRAEGENDE_JUGENDJAHRE\" combines information on three dimensions: generation by decade, movement (mainstream vs. avantgarde), and nation (east vs. west). While there aren't enough levels to disentangle east from west, you should create two new variables to capture the other two dimensions: an interval-type variable for decade, and a binary variable for movement.\n",
    "- \"CAMEO_INTL_2015\" combines information on two axes: wealth and life stage. Break up the two-digit codes by their 'tens'-place and 'ones'-place digits into two new ordinal variables (which, for the purposes of this project, is equivalent to just treating them as their raw numeric values).\n",
    "- If you decide to keep or engineer new features around the other mixed-type features, make sure you note your steps in the Discussion section.\n",
    "\n",
    "Be sure to check `Data_Dictionary.md` for the details needed to finish these tasks."
   ]
  },
  {
   "cell_type": "code",
   "execution_count": 48,
   "metadata": {
    "scrolled": true
   },
   "outputs": [
    {
     "data": {
      "text/plain": [
       "array(['LP_LEBENSPHASE_FEIN', 'LP_LEBENSPHASE_GROB',\n",
       "       'PRAEGENDE_JUGENDJAHRE', 'WOHNLAGE', 'CAMEO_INTL_2015',\n",
       "       'KBA05_BAUMAX', 'PLZ8_BAUMAX'], dtype=object)"
      ]
     },
     "execution_count": 48,
     "metadata": {},
     "output_type": "execute_result"
    }
   ],
   "source": [
    "mix = feat_info[feat_info.type=='mixed']['attribute']\n",
    "mix.values"
   ]
  },
  {
   "cell_type": "code",
   "execution_count": 49,
   "metadata": {
    "scrolled": false
   },
   "outputs": [
    {
     "data": {
      "text/html": [
       "<div>\n",
       "<style scoped>\n",
       "    .dataframe tbody tr th:only-of-type {\n",
       "        vertical-align: middle;\n",
       "    }\n",
       "\n",
       "    .dataframe tbody tr th {\n",
       "        vertical-align: top;\n",
       "    }\n",
       "\n",
       "    .dataframe thead th {\n",
       "        text-align: right;\n",
       "    }\n",
       "</style>\n",
       "<table border=\"1\" class=\"dataframe\">\n",
       "  <thead>\n",
       "    <tr style=\"text-align: right;\">\n",
       "      <th></th>\n",
       "      <th>attribute</th>\n",
       "      <th>level</th>\n",
       "      <th>level_num</th>\n",
       "    </tr>\n",
       "  </thead>\n",
       "  <tbody>\n",
       "    <tr>\n",
       "      <th>15</th>\n",
       "      <td>LP_LEBENSPHASE_FEIN</td>\n",
       "      <td>[15.0, 21.0, 3.0, 32.0, 8.0, 2.0, 5.0, 10.0, 4...</td>\n",
       "      <td>40</td>\n",
       "    </tr>\n",
       "    <tr>\n",
       "      <th>16</th>\n",
       "      <td>LP_LEBENSPHASE_GROB</td>\n",
       "      <td>[4.0, 6.0, 1.0, 10.0, 2.0, 3.0, 5.0, 7.0, 12.0...</td>\n",
       "      <td>12</td>\n",
       "    </tr>\n",
       "    <tr>\n",
       "      <th>22</th>\n",
       "      <td>PRAEGENDE_JUGENDJAHRE</td>\n",
       "      <td>[14.0, 15.0, 8.0, 3.0, 10.0, 11.0, 5.0, 9.0, 6...</td>\n",
       "      <td>15</td>\n",
       "    </tr>\n",
       "    <tr>\n",
       "      <th>56</th>\n",
       "      <td>WOHNLAGE</td>\n",
       "      <td>[4.0, 2.0, 7.0, 3.0, 5.0, 1.0, 8.0, 0.0]</td>\n",
       "      <td>8</td>\n",
       "    </tr>\n",
       "    <tr>\n",
       "      <th>59</th>\n",
       "      <td>CAMEO_INTL_2015</td>\n",
       "      <td>[51, 24, 12, 43, 54, 22, 14, 13, 15, 33, 41, 3...</td>\n",
       "      <td>21</td>\n",
       "    </tr>\n",
       "    <tr>\n",
       "      <th>64</th>\n",
       "      <td>KBA05_BAUMAX</td>\n",
       "      <td>[5.0, 1.0, 2.0, 3.0, 4.0]</td>\n",
       "      <td>5</td>\n",
       "    </tr>\n",
       "    <tr>\n",
       "      <th>79</th>\n",
       "      <td>PLZ8_BAUMAX</td>\n",
       "      <td>[1.0, 2.0, 4.0, 5.0, 3.0]</td>\n",
       "      <td>5</td>\n",
       "    </tr>\n",
       "  </tbody>\n",
       "</table>\n",
       "</div>"
      ],
      "text/plain": [
       "                attribute                                              level  \\\n",
       "15    LP_LEBENSPHASE_FEIN  [15.0, 21.0, 3.0, 32.0, 8.0, 2.0, 5.0, 10.0, 4...   \n",
       "16    LP_LEBENSPHASE_GROB  [4.0, 6.0, 1.0, 10.0, 2.0, 3.0, 5.0, 7.0, 12.0...   \n",
       "22  PRAEGENDE_JUGENDJAHRE  [14.0, 15.0, 8.0, 3.0, 10.0, 11.0, 5.0, 9.0, 6...   \n",
       "56               WOHNLAGE           [4.0, 2.0, 7.0, 3.0, 5.0, 1.0, 8.0, 0.0]   \n",
       "59        CAMEO_INTL_2015  [51, 24, 12, 43, 54, 22, 14, 13, 15, 33, 41, 3...   \n",
       "64           KBA05_BAUMAX                          [5.0, 1.0, 2.0, 3.0, 4.0]   \n",
       "79            PLZ8_BAUMAX                          [1.0, 2.0, 4.0, 5.0, 3.0]   \n",
       "\n",
       "    level_num  \n",
       "15         40  \n",
       "16         12  \n",
       "22         15  \n",
       "56          8  \n",
       "59         21  \n",
       "64          5  \n",
       "79          5  "
      ]
     },
     "execution_count": 49,
     "metadata": {},
     "output_type": "execute_result"
    }
   ],
   "source": [
    "mix = attribute_info(mix)\n",
    "mix"
   ]
  },
  {
   "cell_type": "markdown",
   "metadata": {},
   "source": [
    "1. As stated in `Data_Dictionary.md`, data values in column `PRAEGENDE_JUGENDJAHRE` combines information on three dimensions(generation by decades; avantgarde vs. mainstream; east vs. west) as follows: \n",
    "    - -1: unknown (converted to NaNs)\n",
    "    -  0: unknown (converted to NaNs)\n",
    "    -  1: 40s - war years (Mainstream, E+W)\n",
    "    -  2: 40s - reconstruction years (Avantgarde, E+W)\n",
    "    -  3: 50s - economic miracle (Mainstream, E+W)\n",
    "    -  4: 50s - milk bar / Individualisation (Avantgarde, E+W)\n",
    "    -  5: 60s - economic miracle (Mainstream, E+W)\n",
    "    -  6: 60s - generation 68 / student protestors (Avantgarde, W)\n",
    "    -  7: 60s - opponents to the building of the Wall (Avantgarde, E)\n",
    "    -  8: 70s - family orientation (Mainstream, E+W)\n",
    "    -  9: 70s - peace movement (Avantgarde, E+W)\n",
    "    - 10: 80s - Generation Golf (Mainstream, W)\n",
    "    - 11: 80s - ecological awareness (Avantgarde, W)\n",
    "    - 12: 80s - FDJ / communist party youth organisation (Mainstream, E)\n",
    "    - 13: 80s - Swords into ploughshares (Avantgarde, E)\n",
    "    - 14: 90s - digital media kids (Mainstream, E+W)\n",
    "    - 15: 90s - ecological awareness (Avantgarde, E+W)\n"
   ]
  },
  {
   "cell_type": "code",
   "execution_count": 50,
   "metadata": {
    "scrolled": false
   },
   "outputs": [
    {
     "data": {
      "text/plain": [
       "6    225530\n",
       "4    175200\n",
       "5    151770\n",
       "3    114353\n",
       "2     74296\n",
       "1     28157\n",
       "Name: GENERATION, dtype: int64"
      ]
     },
     "execution_count": 50,
     "metadata": {},
     "output_type": "execute_result"
    }
   ],
   "source": [
    "# Investigate \"PRAEGENDE_JUGENDJAHRE\" and engineer two new variables.\n",
    "# azdias_clean['PRAEGENDE_JUGENDJAHRE'].isnull().sum()\n",
    "# create an interval variable for generation by decade\n",
    "bins = [0, 2, 4, 7, 9, 13, 15]\n",
    "#generations = ['40s', '50s', '60s', '70s', '80s', '90s']\n",
    "generations = [1, 2, 3, 4, 5, 6]\n",
    "azdias_clean['GENERATION'] = pd.cut(azdias_clean.loc[:,'PRAEGENDE_JUGENDJAHRE'], bins, labels=generations)\n",
    "azdias_clean['GENERATION'].value_counts()"
   ]
  },
  {
   "cell_type": "code",
   "execution_count": 51,
   "metadata": {
    "scrolled": false
   },
   "outputs": [
    {
     "data": {
      "text/plain": [
       "1.0    594081\n",
       "2.0    175225\n",
       "Name: MOVEMENT, dtype: int64"
      ]
     },
     "execution_count": 51,
     "metadata": {},
     "output_type": "execute_result"
    }
   ],
   "source": [
    "# create a binary variable for movement (mainstream vs. avantgarde)\n",
    "main = [1, 3, 5, 8, 10, 12, 14]\n",
    "avant = [2, 4, 6, 7, 9, 11, 13, 15]\n",
    "azdias_clean['MOVEMENT'] = azdias_clean.loc[:,'PRAEGENDE_JUGENDJAHRE'].apply(lambda x : 1 if x in main else (2 if x in avant else np.nan))\n",
    "azdias_clean['MOVEMENT'].value_counts()"
   ]
  },
  {
   "cell_type": "code",
   "execution_count": 52,
   "metadata": {},
   "outputs": [
    {
     "data": {
      "text/plain": [
       "MOVEMENT      28755\n",
       "GENERATION    28755\n",
       "dtype: int64"
      ]
     },
     "execution_count": 52,
     "metadata": {},
     "output_type": "execute_result"
    }
   ],
   "source": [
    "# check the two variables created from 'PRAEGENDE_JUGENDJAHRE'\n",
    "azdias_clean[['MOVEMENT', 'GENERATION']].isnull().sum()"
   ]
  },
  {
   "cell_type": "code",
   "execution_count": 53,
   "metadata": {},
   "outputs": [],
   "source": [
    "azdias_clean[['MOVEMENT', 'GENERATION']] = impute(azdias_clean[['MOVEMENT', 'GENERATION']])"
   ]
  },
  {
   "cell_type": "markdown",
   "metadata": {},
   "source": [
    "2. As stated in `Data_Dictionary.md`, the data values in column `CAMEO_INTL_2015` (German CAMEO: Wealth / Life Stage Typology), are mapped to international code. The two-digit codes can be broken by their 'tens'-place and 'ones'-place digits into two new ordinal variables (which, for the purposes of this project, is equivalent to just treating them as their raw numeric values).\n",
    "    - -1: unknown\n",
    "    - 11: Wealthy Households - Pre-Family Couples & Singles\n",
    "    - 12: Wealthy Households - Young Couples With Children\n",
    "    - 13: Wealthy Households - Families With School Age Children\n",
    "    - 14: Wealthy Households - Older Families &  Mature Couples\n",
    "    - 15: Wealthy Households - Elders In Retirement\n",
    "    - 21: Prosperous Households - Pre-Family Couples & Singles\n",
    "    - 22: Prosperous Households - Young Couples With Children\n",
    "    - 23: Prosperous Households - Families With School Age Children\n",
    "    - 24: Prosperous Households - Older Families & Mature Couples\n",
    "    - 25: Prosperous Households - Elders In Retirement\n",
    "    - 31: Comfortable Households - Pre-Family Couples & Singles\n",
    "    - 32: Comfortable Households - Young Couples With Children\n",
    "    - 33: Comfortable Households - Families With School Age Children\n",
    "    - 34: Comfortable Households - Older Families & Mature Couples\n",
    "    - 35: Comfortable Households - Elders In Retirement\n",
    "    - 41: Less Affluent Households - Pre-Family Couples & Singles\n",
    "    - 42: Less Affluent Households - Young Couples With Children\n",
    "    - 43: Less Affluent Households - Families With School Age Children\n",
    "    - 44: Less Affluent Households - Older Families & Mature Couples\n",
    "    - 45: Less Affluent Households - Elders In Retirement\n",
    "    - 51: Poorer Households - Pre-Family Couples & Singles\n",
    "    - 52: Poorer Households - Young Couples With Children\n",
    "    - 53: Poorer Households - Families With School Age Children\n",
    "    - 54: Poorer Households - Older Families & Mature Couples\n",
    "    - 55: Poorer Households - Elders In Retirement\n",
    "    - XX: unknown"
   ]
  },
  {
   "cell_type": "code",
   "execution_count": 54,
   "metadata": {
    "scrolled": true
   },
   "outputs": [],
   "source": [
    "# Investigate \"CAMEO_INTL_2015\" and engineer two new variables.\n",
    "azdias_clean['CAMEO_INTL_2015'] = azdias_clean['CAMEO_INTL_2015'].astype('float')"
   ]
  },
  {
   "cell_type": "code",
   "execution_count": 55,
   "metadata": {},
   "outputs": [
    {
     "data": {
      "text/html": [
       "<div>\n",
       "<style scoped>\n",
       "    .dataframe tbody tr th:only-of-type {\n",
       "        vertical-align: middle;\n",
       "    }\n",
       "\n",
       "    .dataframe tbody tr th {\n",
       "        vertical-align: top;\n",
       "    }\n",
       "\n",
       "    .dataframe thead th {\n",
       "        text-align: right;\n",
       "    }\n",
       "</style>\n",
       "<table border=\"1\" class=\"dataframe\">\n",
       "  <thead>\n",
       "    <tr style=\"text-align: right;\">\n",
       "      <th></th>\n",
       "      <th>CAMEO_INTL_2015</th>\n",
       "      <th>CAMEO_WEALTH</th>\n",
       "      <th>CAMEO_LIFE</th>\n",
       "    </tr>\n",
       "  </thead>\n",
       "  <tbody>\n",
       "    <tr>\n",
       "      <th>1</th>\n",
       "      <td>51.0</td>\n",
       "      <td>5.0</td>\n",
       "      <td>1.0</td>\n",
       "    </tr>\n",
       "    <tr>\n",
       "      <th>2</th>\n",
       "      <td>24.0</td>\n",
       "      <td>2.0</td>\n",
       "      <td>4.0</td>\n",
       "    </tr>\n",
       "    <tr>\n",
       "      <th>3</th>\n",
       "      <td>12.0</td>\n",
       "      <td>1.0</td>\n",
       "      <td>2.0</td>\n",
       "    </tr>\n",
       "  </tbody>\n",
       "</table>\n",
       "</div>"
      ],
      "text/plain": [
       "   CAMEO_INTL_2015  CAMEO_WEALTH  CAMEO_LIFE\n",
       "1             51.0           5.0         1.0\n",
       "2             24.0           2.0         4.0\n",
       "3             12.0           1.0         2.0"
      ]
     },
     "execution_count": 55,
     "metadata": {},
     "output_type": "execute_result"
    }
   ],
   "source": [
    "azdias_clean['CAMEO_WEALTH'] = azdias_clean['CAMEO_INTL_2015'].apply(lambda x: x//10)\n",
    "azdias_clean['CAMEO_LIFE'] = azdias_clean['CAMEO_INTL_2015'].apply(lambda x: x%10)\n",
    "azdias_clean[['CAMEO_INTL_2015', 'CAMEO_WEALTH', 'CAMEO_LIFE']].head(3)"
   ]
  },
  {
   "cell_type": "code",
   "execution_count": 56,
   "metadata": {},
   "outputs": [
    {
     "data": {
      "text/plain": [
       "(798061, 183)"
      ]
     },
     "execution_count": 56,
     "metadata": {},
     "output_type": "execute_result"
    }
   ],
   "source": [
    "azdias_clean.drop(['CAMEO_INTL_2015', 'PRAEGENDE_JUGENDJAHRE'] , axis=1, inplace=True)\n",
    "azdias_clean.shape"
   ]
  },
  {
   "cell_type": "code",
   "execution_count": 57,
   "metadata": {
    "scrolled": true
   },
   "outputs": [
    {
     "data": {
      "text/plain": [
       "CAMEO_WEALTH    6198\n",
       "CAMEO_LIFE      6198\n",
       "dtype: int64"
      ]
     },
     "execution_count": 57,
     "metadata": {},
     "output_type": "execute_result"
    }
   ],
   "source": [
    "azdias_clean[['CAMEO_WEALTH', 'CAMEO_LIFE']].isnull().sum()"
   ]
  },
  {
   "cell_type": "code",
   "execution_count": 58,
   "metadata": {},
   "outputs": [],
   "source": [
    "azdias_clean[['CAMEO_WEALTH', 'CAMEO_LIFE']] = impute(azdias_clean[['CAMEO_WEALTH', 'CAMEO_LIFE']])"
   ]
  },
  {
   "cell_type": "code",
   "execution_count": 59,
   "metadata": {
    "scrolled": true
   },
   "outputs": [
    {
     "data": {
      "text/html": [
       "<div>\n",
       "<style scoped>\n",
       "    .dataframe tbody tr th:only-of-type {\n",
       "        vertical-align: middle;\n",
       "    }\n",
       "\n",
       "    .dataframe tbody tr th {\n",
       "        vertical-align: top;\n",
       "    }\n",
       "\n",
       "    .dataframe thead th {\n",
       "        text-align: right;\n",
       "    }\n",
       "</style>\n",
       "<table border=\"1\" class=\"dataframe\">\n",
       "  <thead>\n",
       "    <tr style=\"text-align: right;\">\n",
       "      <th></th>\n",
       "      <th>LP_LEBENSPHASE_FEIN</th>\n",
       "      <th>LP_LEBENSPHASE_GROB</th>\n",
       "    </tr>\n",
       "  </thead>\n",
       "  <tbody>\n",
       "    <tr>\n",
       "      <th>435070</th>\n",
       "      <td>10.0</td>\n",
       "      <td>3.0</td>\n",
       "    </tr>\n",
       "    <tr>\n",
       "      <th>304311</th>\n",
       "      <td>30.0</td>\n",
       "      <td>9.0</td>\n",
       "    </tr>\n",
       "    <tr>\n",
       "      <th>816661</th>\n",
       "      <td>36.0</td>\n",
       "      <td>12.0</td>\n",
       "    </tr>\n",
       "    <tr>\n",
       "      <th>700266</th>\n",
       "      <td>19.0</td>\n",
       "      <td>5.0</td>\n",
       "    </tr>\n",
       "    <tr>\n",
       "      <th>800458</th>\n",
       "      <td>5.0</td>\n",
       "      <td>2.0</td>\n",
       "    </tr>\n",
       "  </tbody>\n",
       "</table>\n",
       "</div>"
      ],
      "text/plain": [
       "        LP_LEBENSPHASE_FEIN  LP_LEBENSPHASE_GROB\n",
       "435070                 10.0                  3.0\n",
       "304311                 30.0                  9.0\n",
       "816661                 36.0                 12.0\n",
       "700266                 19.0                  5.0\n",
       "800458                  5.0                  2.0"
      ]
     },
     "execution_count": 59,
     "metadata": {},
     "output_type": "execute_result"
    }
   ],
   "source": [
    "# Others: LP_LEBENSPHASE_FEIN (40) and LP_LEBENSPHASE_GROB (12)\n",
    "azdias_clean[['LP_LEBENSPHASE_FEIN', 'LP_LEBENSPHASE_GROB']].sample(5)"
   ]
  },
  {
   "cell_type": "code",
   "execution_count": 60,
   "metadata": {
    "scrolled": true
   },
   "outputs": [
    {
     "data": {
      "text/html": [
       "<div>\n",
       "<style scoped>\n",
       "    .dataframe tbody tr th:only-of-type {\n",
       "        vertical-align: middle;\n",
       "    }\n",
       "\n",
       "    .dataframe tbody tr th {\n",
       "        vertical-align: top;\n",
       "    }\n",
       "\n",
       "    .dataframe thead th {\n",
       "        text-align: right;\n",
       "    }\n",
       "</style>\n",
       "<table border=\"1\" class=\"dataframe\">\n",
       "  <thead>\n",
       "    <tr style=\"text-align: right;\">\n",
       "      <th></th>\n",
       "      <th>KBA05_BAUMAX</th>\n",
       "      <th>PLZ8_BAUMAX</th>\n",
       "    </tr>\n",
       "  </thead>\n",
       "  <tbody>\n",
       "    <tr>\n",
       "      <th>776456</th>\n",
       "      <td>NaN</td>\n",
       "      <td>1.0</td>\n",
       "    </tr>\n",
       "    <tr>\n",
       "      <th>680242</th>\n",
       "      <td>5.0</td>\n",
       "      <td>1.0</td>\n",
       "    </tr>\n",
       "    <tr>\n",
       "      <th>426921</th>\n",
       "      <td>NaN</td>\n",
       "      <td>1.0</td>\n",
       "    </tr>\n",
       "    <tr>\n",
       "      <th>402925</th>\n",
       "      <td>NaN</td>\n",
       "      <td>NaN</td>\n",
       "    </tr>\n",
       "    <tr>\n",
       "      <th>697457</th>\n",
       "      <td>5.0</td>\n",
       "      <td>5.0</td>\n",
       "    </tr>\n",
       "  </tbody>\n",
       "</table>\n",
       "</div>"
      ],
      "text/plain": [
       "        KBA05_BAUMAX  PLZ8_BAUMAX\n",
       "776456           NaN          1.0\n",
       "680242           5.0          1.0\n",
       "426921           NaN          1.0\n",
       "402925           NaN          NaN\n",
       "697457           5.0          5.0"
      ]
     },
     "execution_count": 60,
     "metadata": {},
     "output_type": "execute_result"
    }
   ],
   "source": [
    "# Others: KBA05_BAUMAX (5) and PLZ8_BAUMAX (5)\n",
    "azdias[['KBA05_BAUMAX', 'PLZ8_BAUMAX']].sample(5)"
   ]
  },
  {
   "cell_type": "code",
   "execution_count": 61,
   "metadata": {
    "scrolled": true
   },
   "outputs": [
    {
     "data": {
      "text/plain": [
       "592486    7.0\n",
       "774695    2.0\n",
       "284749    4.0\n",
       "190282    2.0\n",
       "111175    5.0\n",
       "Name: WOHNLAGE, dtype: float64"
      ]
     },
     "execution_count": 61,
     "metadata": {},
     "output_type": "execute_result"
    }
   ],
   "source": [
    "azdias['WOHNLAGE'].sample(5)"
   ]
  },
  {
   "cell_type": "code",
   "execution_count": 62,
   "metadata": {},
   "outputs": [],
   "source": [
    "mix_feat = ['LP_LEBENSPHASE_FEIN', 'LP_LEBENSPHASE_GROB', 'WOHNLAGE', 'PLZ8_BAUMAX']"
   ]
  },
  {
   "cell_type": "code",
   "execution_count": 63,
   "metadata": {},
   "outputs": [
    {
     "data": {
      "text/plain": [
       "LP_LEBENSPHASE_FEIN    50233\n",
       "LP_LEBENSPHASE_GROB    47340\n",
       "WOHNLAGE                   0\n",
       "PLZ8_BAUMAX            23355\n",
       "dtype: int64"
      ]
     },
     "execution_count": 63,
     "metadata": {},
     "output_type": "execute_result"
    }
   ],
   "source": [
    "azdias_clean[mix_feat].isnull().sum()"
   ]
  },
  {
   "cell_type": "code",
   "execution_count": 64,
   "metadata": {},
   "outputs": [],
   "source": [
    "azdias_clean[mix_feat] = impute(azdias_clean[mix_feat])"
   ]
  },
  {
   "cell_type": "code",
   "execution_count": 65,
   "metadata": {
    "scrolled": true
   },
   "outputs": [
    {
     "data": {
      "text/plain": [
       "(798061, 61)"
      ]
     },
     "execution_count": 65,
     "metadata": {},
     "output_type": "execute_result"
    }
   ],
   "source": [
    "df = azdias_clean[mix_feat]\n",
    "df = df.astype(int)\n",
    "dummies__ = pd.get_dummies(data=df, columns=df.columns, drop_first=True)\n",
    "dummies__.shape"
   ]
  },
  {
   "cell_type": "code",
   "execution_count": 66,
   "metadata": {},
   "outputs": [
    {
     "data": {
      "text/plain": [
       "(798061, 240)"
      ]
     },
     "execution_count": 66,
     "metadata": {},
     "output_type": "execute_result"
    }
   ],
   "source": [
    "azdias_clean = azdias_clean.join(dummies__)\n",
    "azdias_clean.drop(mix_feat, axis=1, inplace=True)\n",
    "azdias_clean.shape"
   ]
  },
  {
   "cell_type": "markdown",
   "metadata": {},
   "source": [
    "#### Discussion 1.2.2: Engineer Mixed-Type Features\n",
    "\n",
    "Based on information in `Data_Dictionary.md` about the mixed-type features:\n",
    "1. `LP_LEBENSPHASE_FEIN` and `LP_LEBENSPHASE_GROB` cover similar information however the former is more detailed with 40 levels and the latter only 12.\n",
    "2. `KBA05_BAUMAX` and `PLZ8_BAUMAX` cover also similar information, but the former one is already dropped in step 1.1.2 due to the amount of missing data values.\n",
    "3. `WOHNLAGE` is keeped.\n",
    "4. `PRAEGENDE_JUGENDJAHRE` is replaced by the two variables derived from it.\n",
    "5. `CAMEO_INTL_2015` is also replaced by the two variables derived from it, which indicate information about wealth and life stage.\n",
    "\n",
    "The features above overlapped with each other to certain extent, however I would like to keep them (except `KBA05_BAUMAX`) for now.\n",
    "\n",
    "(Which ones did you keep, which did you drop, and what engineering steps did you perform?)"
   ]
  },
  {
   "cell_type": "markdown",
   "metadata": {},
   "source": [
    "#### Step 1.2.3: Complete Feature Selection\n",
    "\n",
    "In order to finish this step up, you need to make sure that your data frame now only has the columns that you want to keep. To summarize, the dataframe should consist of the following:\n",
    "- All numeric, interval, and ordinal type columns from the original dataset.\n",
    "- Binary categorical features (all numerically-encoded).\n",
    "- Engineered features from other multi-level categorical features and mixed features.\n",
    "\n",
    "Make sure that for any new columns that you have engineered, that you've excluded the original columns from the final dataset. Otherwise, their values will interfere with the analysis later on the project. For example, you should not keep \"PRAEGENDE_JUGENDJAHRE\", since its values won't be useful for the algorithm: only the values derived from it in the engineered features you created should be retained. As a reminder, your data should only be from **the subset with few or no missing values**."
   ]
  },
  {
   "cell_type": "code",
   "execution_count": 67,
   "metadata": {},
   "outputs": [
    {
     "data": {
      "text/plain": [
       "374"
      ]
     },
     "execution_count": 67,
     "metadata": {},
     "output_type": "execute_result"
    }
   ],
   "source": [
    "# If there are other re-engineering tasks you need to perform, make sure you\n",
    "# take care of them here. (Dealing with missing data will come in step 2.1.)\n",
    "sum(azdias_clean.duplicated())"
   ]
  },
  {
   "cell_type": "code",
   "execution_count": 68,
   "metadata": {},
   "outputs": [
    {
     "data": {
      "text/plain": [
       "0"
      ]
     },
     "execution_count": 68,
     "metadata": {},
     "output_type": "execute_result"
    }
   ],
   "source": [
    "# Do whatever you need to in order to ensure that the dataframe only contains\n",
    "# the columns that should be passed to the algorithm functions.\n",
    "azdias_clean.drop_duplicates(inplace=True)\n",
    "sum(azdias_clean.duplicated())"
   ]
  },
  {
   "cell_type": "markdown",
   "metadata": {},
   "source": [
    "### Step 1.3: Create a Cleaning Function\n",
    "\n",
    "Even though you've finished cleaning up the general population demographics data, it's important to look ahead to the future and realize that you'll need to perform the same cleaning steps on the customer demographics data. In this substep, complete the function below to execute the main feature selection, encoding, and re-engineering steps you performed above. Then, when it comes to looking at the customer data in Step 3, you can just run this function on that DataFrame to get the trimmed dataset in a single step."
   ]
  },
  {
   "cell_type": "code",
   "execution_count": 69,
   "metadata": {},
   "outputs": [],
   "source": [
    "def clean_data(df, feat_info, multi_level_cats, to_drop_cols):\n",
    "    \"\"\"\n",
    "    Perform feature trimming, re-encoding, and engineering for demographics\n",
    "    data\n",
    "    \n",
    "    INPUT: Demographics DataFrame\n",
    "    OUTPUT: Trimmed and cleaned demographics DataFrame\n",
    "    \"\"\"\n",
    "    \n",
    "    # Put in code here to execute all main cleaning steps:\n",
    "    # convert missing value codes into NaNs, ...\n",
    "    for i, col in enumerate(feat_info['attribute']):\n",
    "        vals=[]\n",
    "        try:\n",
    "            vals=[int(x) for x in feat_info.loc[i,'missing_or_unknown'] if x not in ['X', 'XX']]\n",
    "            vals += ['X', 'XX']\n",
    "            df[col].replace(vals, np.nan, inplace=True)\n",
    "        except:\n",
    "            pass\n",
    "    \n",
    "    # remove selected columns and rows, ...\n",
    "    missing_data_rows = df.isnull().sum(axis=1)\n",
    "    to_drop_rows = missing_data_rows[missing_data_rows>=30].index.tolist()\n",
    "    print('Rows to be dropped (with over 20% of missing values): {}.'.format(len(to_drop_rows)))\n",
    "    df.drop(to_drop_rows, axis=0, inplace=True)\n",
    "\n",
    "    df.drop(to_drop_cols, axis=1, inplace=True)\n",
    "    # select, re-encode, and engineer column values.\n",
    "    # binary categorical `OST_WEST_KZ`\n",
    "    df['OST_WEST_KZ'] = df.loc[:,'OST_WEST_KZ'].apply(lambda x : 0 if x == 'O' else (1 if x == 'W' else np.nan))\n",
    "    # multi-level categoricals: pre-defined columns\n",
    "    df1 = df.loc[:, multi_level_cats]\n",
    "    df1[multi_level_cats[:-1]] = impute(df1[multi_level_cats[:-1]])\n",
    "    median = df['CAMEO_DEU_2015'].value_counts().sort_values(ascending=False).index[0]\n",
    "    df1['CAMEO_DEU_2015'].replace(np.nan, median, inplace=True)\n",
    "\n",
    "    dummies = pd.get_dummies(df1['CAMEO_DEU_2015'], prefix='CAMEO_DEU_2015', drop_first=True)\n",
    "    df1.drop('CAMEO_DEU_2015', axis=1, inplace=True)\n",
    "    df1 = df1.astype('int')\n",
    "    dummies_ = pd.get_dummies(data=df1, columns=df1.columns, drop_first=True)\n",
    "    \n",
    "    df.drop(multi_level_cats, axis=1, inplace=True)\n",
    "    df = df.join([dummies, dummies_])\n",
    "    \n",
    "    mix_feat = ['LP_LEBENSPHASE_FEIN', 'LP_LEBENSPHASE_GROB', 'WOHNLAGE', 'PLZ8_BAUMAX']\n",
    "    df2 = df.loc[:,mix_feat]\n",
    "    df2[mix_feat] = impute(df2[mix_feat])\n",
    "    df2 = df2.astype('int')\n",
    "    dummies__ = pd.get_dummies(data=df2, columns=df2.columns, drop_first=True)\n",
    "    df.drop(mix_feat, axis=1, inplace=True)\n",
    "    df = df.join(dummies__)\n",
    "    \n",
    "    #mixed-type features\n",
    "    bins = [0, 2, 4, 7, 9, 13, 15]\n",
    "    generations = [6, 5, 4, 3, 2, 1]\n",
    "    df['GENERATION'] = pd.cut(df.loc[:,'PRAEGENDE_JUGENDJAHRE'], bins, labels=generations)\n",
    "    main = [1, 3, 5, 8, 10, 12, 14]\n",
    "    avant = [2, 4, 6, 7, 9, 11, 13, 15]\n",
    "    df['MOVEMENT'] = df.loc[:,'PRAEGENDE_JUGENDJAHRE'].apply(lambda x : 1 if x in main else (2 if x in avant else np.nan))\n",
    "\n",
    "    df['CAMEO_INTL_2015'] = df['CAMEO_INTL_2015'].astype('float')\n",
    "    df['CAMEO_WEALTH'] = df['CAMEO_INTL_2015'].apply(lambda x: x//10)\n",
    "    df['CAMEO_LIFE'] = df['CAMEO_INTL_2015'].apply(lambda x: x%10)\n",
    "    df.drop(['CAMEO_INTL_2015', 'PRAEGENDE_JUGENDJAHRE'] , axis=1, inplace=True)\n",
    "    \n",
    "    df[['MOVEMENT', 'GENERATION']] = impute(df[['MOVEMENT', 'GENERATION']])\n",
    "    df[['CAMEO_WEALTH', 'CAMEO_LIFE']] = impute(df[['CAMEO_WEALTH', 'CAMEO_LIFE']])\n",
    "    \n",
    "    df.drop_duplicates(inplace=True)\n",
    "    df['GENERATION'] = df['GENERATION'].astype(int)\n",
    "\n",
    "    columns = df.keys()\n",
    "    df = impute(df)\n",
    "    df = pd.DataFrame(df, columns=columns)\n",
    "    # Return the cleaned dataframe.\n",
    "    return df, len(to_drop_rows)    "
   ]
  },
  {
   "cell_type": "markdown",
   "metadata": {},
   "source": [
    "## Step 2: Feature Transformation\n",
    "\n",
    "### Step 2.1: Apply Feature Scaling\n",
    "\n",
    "Before we apply dimensionality reduction techniques to the data, we need to perform feature scaling so that the principal component vectors are not influenced by the natural differences in scale for features. Starting from this part of the project, you'll want to keep an eye on the [API reference page for sklearn](http://scikit-learn.org/stable/modules/classes.html) to help you navigate to all of the classes and functions that you'll need. In this substep, you'll need to check the following:\n",
    "\n",
    "- sklearn requires that data not have missing values in order for its estimators to work properly. So, before applying the scaler to your data, make sure that you've cleaned the DataFrame of the remaining missing values. This can be as simple as just removing all data points with missing data, or applying an [Imputer](http://scikit-learn.org/stable/modules/generated/sklearn.preprocessing.Imputer.html) to replace all missing values. You might also try a more complicated procedure where you temporarily remove missing values in order to compute the scaling parameters before re-introducing those missing values and applying imputation. Think about how much missing data you have and what possible effects each approach might have on your analysis, and justify your decision in the discussion section below.\n",
    "- For the actual scaling function, a [StandardScaler](http://scikit-learn.org/stable/modules/generated/sklearn.preprocessing.StandardScaler.html) instance is suggested, scaling each feature to mean 0 and standard deviation 1.\n",
    "- For these classes, you can make use of the `.fit_transform()` method to both fit a procedure to the data as well as apply the transformation to the data at the same time. Don't forget to keep the fit sklearn objects handy, since you'll be applying them to the customer demographics data towards the end of the project."
   ]
  },
  {
   "cell_type": "code",
   "execution_count": 70,
   "metadata": {
    "scrolled": false
   },
   "outputs": [
    {
     "data": {
      "text/plain": [
       "KKK                     64891\n",
       "REGIOTYP                64891\n",
       "W_KEIT_KIND_HH          59282\n",
       "KBA05_ANTG1             40161\n",
       "KBA05_ANTG2             40161\n",
       "MOBI_REGIO              40161\n",
       "KBA05_ANTG4             40161\n",
       "KBA05_GBZ               40161\n",
       "KBA05_ANTG3             40161\n",
       "HEALTH_TYP              36709\n",
       "PLZ8_ANTG2              23328\n",
       "PLZ8_ANTG1              23328\n",
       "PLZ8_ANTG3              23328\n",
       "PLZ8_ANTG4              23328\n",
       "PLZ8_HHZ                23328\n",
       "PLZ8_GBZ                23328\n",
       "KBA13_ANZAHL_PKW        12614\n",
       "ANZ_HAUSHALTE_AKTIV      6459\n",
       "ONLINE_AFFINITAET        4745\n",
       "RETOURTYP_BK_S           4745\n",
       "ARBEIT                   4226\n",
       "RELAT_AB                 4226\n",
       "ORTSGR_KLS9              4125\n",
       "ANZ_HH_TITEL             3857\n",
       "ALTERSKATEGORIE_GROB     2803\n",
       "INNENSTADT                592\n",
       "EWDICHTE                  592\n",
       "BALLRAUM                  592\n",
       "KONSUMNAEHE                71\n",
       "GEBAEUDETYP_RASTER          7\n",
       "                        ...  \n",
       "LP_STATUS_GROB_5            0\n",
       "CAMEO_LIFE                  0\n",
       "GEBAEUDETYP_6               0\n",
       "CAMEO_WEALTH                0\n",
       "MOVEMENT                    0\n",
       "GENERATION                  0\n",
       "CAMEO_DEUG_2015_9           0\n",
       "CAMEO_DEUG_2015_8           0\n",
       "CAMEO_DEUG_2015_7           0\n",
       "CAMEO_DEUG_2015_6           0\n",
       "CAMEO_DEUG_2015_5           0\n",
       "CAMEO_DEUG_2015_4           0\n",
       "CAMEO_DEUG_2015_3           0\n",
       "CAMEO_DEUG_2015_2           0\n",
       "GEBAEUDETYP_8               0\n",
       "GEBAEUDETYP_5               0\n",
       "NATIONALITAET_KZ_2          0\n",
       "GEBAEUDETYP_4               0\n",
       "GEBAEUDETYP_3               0\n",
       "GEBAEUDETYP_2               0\n",
       "ZABEOTYP_6                  0\n",
       "ZABEOTYP_5                  0\n",
       "ZABEOTYP_4                  0\n",
       "ZABEOTYP_3                  0\n",
       "ZABEOTYP_2                  0\n",
       "SHOPPER_TYP_3               0\n",
       "SHOPPER_TYP_2               0\n",
       "SHOPPER_TYP_1               0\n",
       "NATIONALITAET_KZ_3          0\n",
       "GFK_URLAUBERTYP_8           0\n",
       "Length: 240, dtype: int64"
      ]
     },
     "execution_count": 70,
     "metadata": {},
     "output_type": "execute_result"
    }
   ],
   "source": [
    "azdias_clean.isnull().sum().sort_values(ascending=False)"
   ]
  },
  {
   "cell_type": "code",
   "execution_count": 71,
   "metadata": {},
   "outputs": [
    {
     "name": "stdout",
     "output_type": "stream",
     "text": [
      "0\n",
      "ALTERSKATEGORIE_GROB      0\n",
      "ANREDE_KZ                 0\n",
      "FINANZ_MINIMALIST         0\n",
      "FINANZ_SPARER             0\n",
      "FINANZ_VORSORGER          0\n",
      "FINANZ_ANLEGER            0\n",
      "FINANZ_UNAUFFAELLIGER     0\n",
      "FINANZ_HAUSBAUER          0\n",
      "GREEN_AVANTGARDE          0\n",
      "HEALTH_TYP                0\n",
      "RETOURTYP_BK_S            0\n",
      "SEMIO_SOZ                 0\n",
      "SEMIO_FAM                 0\n",
      "SEMIO_REL                 0\n",
      "SEMIO_MAT                 0\n",
      "SEMIO_VERT                0\n",
      "SEMIO_LUST                0\n",
      "SEMIO_ERL                 0\n",
      "SEMIO_KULT                0\n",
      "SEMIO_RAT                 0\n",
      "SEMIO_KRIT                0\n",
      "SEMIO_DOM                 0\n",
      "SEMIO_KAEM                0\n",
      "SEMIO_PFLICHT             0\n",
      "SEMIO_TRADV               0\n",
      "SOHO_KZ                   0\n",
      "VERS_TYP                  0\n",
      "ANZ_PERSONEN              0\n",
      "ANZ_TITEL                 0\n",
      "HH_EINKOMMEN_SCORE        0\n",
      "                         ..\n",
      "LP_LEBENSPHASE_FEIN_33    0\n",
      "LP_LEBENSPHASE_FEIN_34    0\n",
      "LP_LEBENSPHASE_FEIN_35    0\n",
      "LP_LEBENSPHASE_FEIN_36    0\n",
      "LP_LEBENSPHASE_FEIN_37    0\n",
      "LP_LEBENSPHASE_FEIN_38    0\n",
      "LP_LEBENSPHASE_FEIN_39    0\n",
      "LP_LEBENSPHASE_FEIN_40    0\n",
      "LP_LEBENSPHASE_GROB_2     0\n",
      "LP_LEBENSPHASE_GROB_3     0\n",
      "LP_LEBENSPHASE_GROB_4     0\n",
      "LP_LEBENSPHASE_GROB_5     0\n",
      "LP_LEBENSPHASE_GROB_6     0\n",
      "LP_LEBENSPHASE_GROB_7     0\n",
      "LP_LEBENSPHASE_GROB_8     0\n",
      "LP_LEBENSPHASE_GROB_9     0\n",
      "LP_LEBENSPHASE_GROB_10    0\n",
      "LP_LEBENSPHASE_GROB_11    0\n",
      "LP_LEBENSPHASE_GROB_12    0\n",
      "WOHNLAGE_1                0\n",
      "WOHNLAGE_2                0\n",
      "WOHNLAGE_3                0\n",
      "WOHNLAGE_4                0\n",
      "WOHNLAGE_5                0\n",
      "WOHNLAGE_7                0\n",
      "WOHNLAGE_8                0\n",
      "PLZ8_BAUMAX_2             0\n",
      "PLZ8_BAUMAX_3             0\n",
      "PLZ8_BAUMAX_4             0\n",
      "PLZ8_BAUMAX_5             0\n",
      "Length: 240, dtype: int64\n",
      "(631811, 240)\n",
      "float64\n"
     ]
    }
   ],
   "source": [
    "if False:\n",
    "    columns = azdias_clean.columns\n",
    "    imputed_values = impute(azdias_clean)\n",
    "    azdias_clean = pd.DataFrame(imputed_values, columns=columns)\n",
    "else:\n",
    "    azdias_clean = azdias_clean.dropna()\n",
    "\n",
    "data = azdias_clean.values\n",
    "print(np.isnan(data).sum())\n",
    "print(azdias_clean.isnull().sum())\n",
    "print(azdias_clean.shape)\n",
    "print(data.dtype)\n",
    "# so to check if the data is suitable for scikit-learn, first explicitly convert the dataframe to numpy array,\n",
    "# and if the array has homogeneous numerical `dtype`, here 'float64', then it should be okay,\n",
    "# otherweise, check which columns have other types by uncommenting the code below, and return to the data cleaning process before.\n",
    "azdias_clean.select_dtypes(['category']).head(1)\n",
    "azdias_clean['GENERATION'] = azdias_clean['GENERATION'].astype(int)"
   ]
  },
  {
   "cell_type": "code",
   "execution_count": 72,
   "metadata": {},
   "outputs": [],
   "source": [
    "# Apply feature scaling to the general population demographics data.\n",
    "sc = StandardScaler()\n",
    "X = sc.fit_transform(data)"
   ]
  },
  {
   "cell_type": "markdown",
   "metadata": {},
   "source": [
    "### Discussion 2.1: Apply Feature Scaling\n",
    "\n",
    "So the remaining missing values are droped directly from the dataset, therefore leaving about 78.5% (623k) of valid data. Then the features are scaled using a StandardScaler instance."
   ]
  },
  {
   "cell_type": "markdown",
   "metadata": {},
   "source": [
    "### Step 2.2: Perform Dimensionality Reduction\n",
    "\n",
    "On your scaled data, you are now ready to apply dimensionality reduction techniques.\n",
    "\n",
    "- Use sklearn's [PCA](http://scikit-learn.org/stable/modules/generated/sklearn.decomposition.PCA.html) class to apply principal component analysis on the data, thus finding the vectors of maximal variance in the data. To start, you should not set any parameters (so all components are computed) or set a number of components that is at least half the number of features (so there's enough features to see the general trend in variability).\n",
    "- Check out the ratio of variance explained by each principal component as well as the cumulative variance explained. Try plotting the cumulative or sequential values using matplotlib's [`plot()`](https://matplotlib.org/api/_as_gen/matplotlib.pyplot.plot.html) function. Based on what you find, select a value for the number of transformed features you'll retain for the clustering part of the project.\n",
    "- Once you've made a choice for the number of components to keep, make sure you re-fit a PCA instance to perform the decided-on transformation."
   ]
  },
  {
   "cell_type": "code",
   "execution_count": 73,
   "metadata": {},
   "outputs": [
    {
     "name": "stdout",
     "output_type": "stream",
     "text": [
      "Time used: 119.11891865730286 s.\n"
     ]
    }
   ],
   "source": [
    "# Apply PCA to the data.\n",
    "start = time.time()\n",
    "pca = PCA(whiten=True)\n",
    "X_pca = pca.fit_transform(X)\n",
    "print('Time used: {} s.'.format(time.time()-start))"
   ]
  },
  {
   "cell_type": "code",
   "execution_count": 74,
   "metadata": {},
   "outputs": [],
   "source": [
    "# Investigate the variance accounted for by each principal component.\n",
    "num_components = X_pca.shape[1]\n",
    "idx = np.arange(num_components)\n",
    "vals = pca.explained_variance_ratio_\n",
    "cumvals = np.cumsum(vals)"
   ]
  },
  {
   "cell_type": "code",
   "execution_count": 75,
   "metadata": {
    "scrolled": true
   },
   "outputs": [
    {
     "data": {
      "image/png": "[encoded data removed]",
      "text/plain": [
       "<matplotlib.figure.Figure at 0x7f1bbfe98be0>"
      ]
     },
     "metadata": {
      "needs_background": "light"
     },
     "output_type": "display_data"
    }
   ],
   "source": [
    "fig, ax = plt.subplots(2,1,figsize=[10,8])\n",
    "ax[0].plot(idx, cumvals)\n",
    "ax[0].set_xlabel('# Principal Components')\n",
    "ax[0].set_ylabel('Variance explained (%)')\n",
    "ax[0].set_xlim([-1, X_pca.shape[1]])\n",
    "\n",
    "ax[0].axhline(y=0.50, linestyle=':', color='r')\n",
    "ax[0].axhline(y=0.80, linestyle=':', color='r')\n",
    "ax[0].axhline(y=0.99, linestyle=':', color='r')\n",
    "ax[0].axvline(x=38, linestyle=':', color='b')\n",
    "ax[0].axvline(x=105, linestyle=':', color='b')\n",
    "ax[0].axvline(x=175, linestyle=':', color='b')\n",
    "\n",
    "ax[1].plot(idx, vals)\n",
    "ax[1].axhline(y=0.01, linestyle=':', color='r')\n",
    "ax[1].axvline(x=14, linestyle=':', color='b')\n",
    "ax[1].set_xlim([-1, X_pca.shape[1]])\n",
    "ax[1].set_ylim([0, vals.max()])\n",
    "ax[1].set_xlabel('# Principal Components')\n",
    "ax[1].set_ylabel('Variance explained (%)')\n",
    "plt.show()"
   ]
  },
  {
   "cell_type": "code",
   "execution_count": 76,
   "metadata": {},
   "outputs": [],
   "source": [
    "# Re-apply PCA to the data while selecting for number of components to retain.\n",
    "num_components = 175\n",
    "pca = PCA(num_components)\n",
    "X_pca = pca.fit_transform(X)"
   ]
  },
  {
   "cell_type": "markdown",
   "metadata": {},
   "source": [
    "### Discussion 2.2: Perform Dimensionality Reduction\n",
    "\n",
    "So based on the plotted cumulative variance explained, as the number of components increase to max. n_components = n_features = 240, the explained variance increase to over 80% with about 105 components and almost 99% with about 175 components. For the next step of analysis, I would like to choose 105 principal components.\n",
    "\n",
    "(How many principal components / transformed features are you retaining for the next step of the analysis?)"
   ]
  },
  {
   "cell_type": "markdown",
   "metadata": {},
   "source": [
    "### Step 2.3: Interpret Principal Components\n",
    "\n",
    "Now that we have our transformed principal components, it's a nice idea to check out the weight of each variable on the first few components to see if they can be interpreted in some fashion.\n",
    "\n",
    "As a reminder, each principal component is a unit vector that points in the direction of highest variance (after accounting for the variance captured by earlier principal components). The further a weight is from zero, the more the principal component is in the direction of the corresponding feature. If two features have large weights of the same sign (both positive or both negative), then increases in one tend expect to be associated with increases in the other. To contrast, features with different signs can be expected to show a negative correlation: increases in one variable should result in a decrease in the other.\n",
    "\n",
    "- To investigate the features, you should map each weight to their corresponding feature name, then sort the features according to weight. The most interesting features for each principal component, then, will be those at the beginning and end of the sorted list. Use the data dictionary document to help you understand these most prominent features, their relationships, and what a positive or negative value on the principal component might indicate.\n",
    "- You should investigate and interpret feature associations from the first three principal components in this substep. To help facilitate this, you should write a function that you can call at any time to print the sorted list of feature weights, for the *i*-th principal component. This might come in handy in the next step of the project, when you interpret the tendencies of the discovered clusters."
   ]
  },
  {
   "cell_type": "code",
   "execution_count": 77,
   "metadata": {},
   "outputs": [],
   "source": [
    "# Map weights for the first principal component to corresponding feature names\n",
    "# and then print the linked values, sorted by weight.\n",
    "# HINT: Try defining a function here or in a new cell that you can reuse in the\n",
    "# other cells.\n",
    "dimensions = list(range(1,len(pca.components_)+1))\n",
    "components = pd.DataFrame(np.round(pca.components_, 4), columns=azdias_clean.keys())\n",
    "components.index = dimensions\n",
    "ratios = pca.explained_variance_ratio_.reshape(len(pca.components_), 1)\n",
    "variance_ratios = pd.DataFrame(np.round(ratios, 4), columns=['explained_variance'])\n",
    "variance_ratios.index = dimensions"
   ]
  },
  {
   "cell_type": "code",
   "execution_count": 78,
   "metadata": {},
   "outputs": [],
   "source": [
    "def plot_pc(pc, k, ax):\n",
    "    base_color = sns.color_palette()[0]\n",
    "    features = pc.reindex(pc.abs().sort_values(ascending=False).index)\n",
    "    features[:k].plot(ax=ax, kind='bar', color=base_color)"
   ]
  },
  {
   "cell_type": "code",
   "execution_count": 79,
   "metadata": {},
   "outputs": [
    {
     "data": {
      "image/png": "[encoded data removed]",
      "text/plain": [
       "<matplotlib.figure.Figure at 0x7f1bbfea3cc0>"
      ]
     },
     "metadata": {
      "needs_background": "light"
     },
     "output_type": "display_data"
    }
   ],
   "source": [
    "fig, ax = plt.subplots(figsize=(10,4))\n",
    "plot_pc(components.loc[1,:], 20, ax)"
   ]
  },
  {
   "cell_type": "code",
   "execution_count": 80,
   "metadata": {},
   "outputs": [
    {
     "data": {
      "image/png": "[encoded data removed]",
      "text/plain": [
       "<matplotlib.figure.Figure at 0x7f1bc06a7c88>"
      ]
     },
     "metadata": {
      "needs_background": "light"
     },
     "output_type": "display_data"
    }
   ],
   "source": [
    "# Map weights for the second principal component to corresponding feature names\n",
    "# and then print the linked values, sorted by weight.\n",
    "\n",
    "fig, ax = plt.subplots(figsize=(10,4))\n",
    "plot_pc(components.loc[2,:], 20, ax)"
   ]
  },
  {
   "cell_type": "code",
   "execution_count": 81,
   "metadata": {
    "scrolled": true
   },
   "outputs": [
    {
     "data": {
      "image/png": "[encoded data removed]",
      "text/plain": [
       "<matplotlib.figure.Figure at 0x7f1bbfc103c8>"
      ]
     },
     "metadata": {
      "needs_background": "light"
     },
     "output_type": "display_data"
    }
   ],
   "source": [
    "# Map weights for the third principal component to corresponding feature names\n",
    "# and then print the linked values, sorted by weight.\n",
    "\n",
    "fig, ax = plt.subplots(figsize=(10,4))\n",
    "plot_pc(components.loc[3,:], 20, ax)"
   ]
  },
  {
   "cell_type": "markdown",
   "metadata": {},
   "source": [
    "### Discussion 2.3: Interpret Principal Components\n",
    "\n",
    "Plots above indicate the relation between principal components and the original features in dataset. 20 features are selected for each principal components and sorted by the absolute value of corresponding weights, the greater the absolute value is, the stronger that feature is weighted in principal component, and the direction of change depends on the corresponding sign.\n",
    "\n",
    "(Can we interpret positive and negative values from them in a meaningful way?)"
   ]
  },
  {
   "cell_type": "markdown",
   "metadata": {},
   "source": [
    "## Step 3: Clustering\n",
    "\n",
    "### Step 3.1: Apply Clustering to General Population\n",
    "\n",
    "You've assessed and cleaned the demographics data, then scaled and transformed them. Now, it's time to see how the data clusters in the principal components space. In this substep, you will apply k-means clustering to the dataset and use the average within-cluster distances from each point to their assigned cluster's centroid to decide on a number of clusters to keep.\n",
    "\n",
    "- Use sklearn's [KMeans](http://scikit-learn.org/stable/modules/generated/sklearn.cluster.KMeans.html#sklearn.cluster.KMeans) class to perform k-means clustering on the PCA-transformed data.\n",
    "- Then, compute the average difference from each point to its assigned cluster's center. **Hint**: The KMeans object's `.score()` method might be useful here, but note that in sklearn, scores tend to be defined so that larger is better. Try applying it to a small, toy dataset, or use an internet search to help your understanding.\n",
    "- Perform the above two steps for a number of different cluster counts. You can then see how the average distance decreases with an increasing number of clusters. However, each additional cluster provides a smaller net benefit. Use this fact to select a final number of clusters in which to group the data. **Warning**: because of the large size of the dataset, it can take a long time for the algorithm to resolve. The more clusters to fit, the longer the algorithm will take. You should test for cluster counts through at least 10 clusters to get the full picture, but you shouldn't need to test for a number of clusters above about 30.\n",
    "- Once you've selected a final number of clusters to use, re-fit a KMeans instance to perform the clustering operation. Make sure that you also obtain the cluster assignments for the general demographics data, since you'll be using them in the final Step 3.3."
   ]
  },
  {
   "cell_type": "code",
   "execution_count": 83,
   "metadata": {
    "scrolled": true
   },
   "outputs": [],
   "source": [
    "def silhouette_plot(num, X):\n",
    "    # Silhouette analysis\n",
    "    # Reference: Python Machine Learning by Sebastian Raschka & Vahid Mirjalili\n",
    "    km = KMeans(n_clusters=num, init='k-means++', n_init=10, max_iter=300, tol=1e-4, random_state=0)\n",
    "    y_km = km.fit_predict(X)\n",
    "\n",
    "    cluster_labels = np.unique(y_km)\n",
    "    n_clusters = cluster_labels.shape[0]\n",
    "\n",
    "    silhouette_vals = silhouette_samples(X, y_km, metric='euclidean')\n",
    "\n",
    "    y_ax_lower, y_ax_upper = 0, 0\n",
    "    yticks = []\n",
    "\n",
    "    plt.figure(figsize=[5,10])\n",
    "    for i, c in enumerate(cluster_labels):\n",
    "        c_silhouette_vals = silhouette_vals[y_km == c]\n",
    "        c_silhouette_vals.sort()\n",
    "        y_ax_upper += len(c_silhouette_vals)\n",
    "        color = cm.jet(float(i)/n_clusters)\n",
    "        plt.barh(range(y_ax_lower, y_ax_upper),\n",
    "                c_silhouette_vals, height=1.0, edgecolor='none', color=color)\n",
    "        yticks.append((y_ax_lower+y_ax_upper)/2.)\n",
    "        y_ax_lower += len(c_silhouette_vals)\n",
    "\n",
    "    silhouette_avg = np.mean(silhouette_vals)\n",
    "\n",
    "    plt.axvline(silhouette_avg, color='red', linestyle='--')\n",
    "    plt.yticks(yticks, cluster_labels+1)\n",
    "    plt.ylabel('Cluster')\n",
    "    plt.xlabel('Silhouette coefficient')\n",
    "    plt.show()"
   ]
  },
  {
   "cell_type": "code",
   "execution_count": 84,
   "metadata": {},
   "outputs": [],
   "source": [
    "def elbow(X, max_num=15):\n",
    "    max_n_clusters = max_num\n",
    "    start = time.time()\n",
    "    avg_distances = []\n",
    "    metrics = []\n",
    "    distortions = []\n",
    "    for i in range(2, max_n_clusters+1):\n",
    "\n",
    "        # run k-means clustering on the data and...\n",
    "        kms = KMeans(n_clusters=i, init='k-means++', n_init=10, max_iter=300, tol=1e-4, random_state=0)\n",
    "        labels = kms.fit_predict(X)\n",
    "\n",
    "        # compute the average within-cluster distances.\n",
    "        distortions.append(kms.inertia_)\n",
    "        try:\n",
    "            metrics.append(silhouette_score(X, labels))\n",
    "        except:\n",
    "            metrics.append(0)\n",
    "        \n",
    "        print('{} centroids selected with inertia: {:.3f}.'.format(i, kms.inertia_))\n",
    "\n",
    "    print('Time used: ', time.time()-start)\n",
    "    \n",
    "    # Investigate the change in within-cluster distance across number of clusters.\n",
    "    # HINT: Use matplotlib's plot function to visualize this relationship.\n",
    "    fig, ax = plt.subplots(1,2, figsize=[15,4])\n",
    "    ax[0].plot(range(2, max_n_clusters+1), distortions, 'o-')\n",
    "    ax[1].plot(range(2, max_n_clusters+1), metrics, 'o-')\n",
    "    for i in range(2):\n",
    "        ax[i].set_xlim([1,20])\n",
    "        ax[i].set_xticks(list(range(1, max_n_clusters+1)))\n",
    "        ax[i].set_xlabel('# cluster centroids')\n",
    "    \n",
    "    ax[0].set_ylabel('within-cluster sum-of-squared-distance')\n",
    "    ax[1].set_ylabel('Silhouette coefficient')\n",
    "        \n",
    "    plt.show()\n",
    "    \n",
    "    return metrics, distortions"
   ]
  },
  {
   "cell_type": "code",
   "execution_count": 85,
   "metadata": {
    "scrolled": true
   },
   "outputs": [],
   "source": [
    "if False:\n",
    "    km = KMeans(n_clusters=10)\n",
    "    labels = km.fit_predict(reduced_X)\n",
    "\n",
    "    from mpl_toolkits.mplot3d import Axes3D\n",
    "    fig = plt.figure()\n",
    "    ax = fig.add_subplot(111, projection='3d')\n",
    "\n",
    "    ax.scatter(reduced_X[:, 0], reduced_X[:, 1], reduced_X[:, 2], c=labels, cmap='Set1')\n",
    "\n",
    "    centroids = km.cluster_centers_\n",
    "    ax.scatter(centroids[:, 0], centroids[:, 1], centroids[:, 2],\n",
    "                marker='x', s=169, linewidths=3,\n",
    "                color='w', zorder=10)\n",
    "\n",
    "    print(km.score(reduced_X), km.inertia_)\n",
    "    print(np.sqrt(km.inertia_/reduced_X.shape[0]))"
   ]
  },
  {
   "cell_type": "markdown",
   "metadata": {},
   "source": [
    "- Finding the optimal number of clusters and evaluate the quality of clustering"
   ]
  },
  {
   "cell_type": "markdown",
   "metadata": {},
   "source": [
    "1. using all data samples"
   ]
  },
  {
   "cell_type": "code",
   "execution_count": 86,
   "metadata": {},
   "outputs": [
    {
     "name": "stdout",
     "output_type": "stream",
     "text": [
      "2 centroids selected with inertia: 140318994.066.\n",
      "3 centroids selected with inertia: 135954475.551.\n",
      "4 centroids selected with inertia: 133208251.104.\n",
      "5 centroids selected with inertia: 130922962.242.\n",
      "6 centroids selected with inertia: 129260870.813.\n",
      "7 centroids selected with inertia: 126770176.064.\n",
      "8 centroids selected with inertia: 125625164.408.\n",
      "9 centroids selected with inertia: 124159163.069.\n",
      "10 centroids selected with inertia: 122679093.057.\n",
      "11 centroids selected with inertia: 121323966.214.\n",
      "12 centroids selected with inertia: 119492199.868.\n",
      "13 centroids selected with inertia: 118033838.888.\n",
      "14 centroids selected with inertia: 116455955.982.\n",
      "15 centroids selected with inertia: 116087471.789.\n",
      "16 centroids selected with inertia: 114040600.994.\n",
      "17 centroids selected with inertia: 113348299.363.\n",
      "18 centroids selected with inertia: 112508131.363.\n",
      "19 centroids selected with inertia: 112290987.921.\n",
      "20 centroids selected with inertia: 110331417.190.\n",
      "Time used:  5872.113545179367\n"
     ]
    },
    {
     "data": {
      "image/png": "[encoded data removed]",
      "text/plain": [
       "<matplotlib.figure.Figure at 0x7f1bc03aa780>"
      ]
     },
     "metadata": {
      "needs_background": "light"
     },
     "output_type": "display_data"
    },
    {
     "data": {
      "text/plain": [
       "([0, 0, 0, 0, 0, 0, 0, 0, 0, 0, 0, 0, 0, 0, 0, 0, 0, 0, 0],\n",
       " [140318994.06575853,\n",
       "  135954475.55129761,\n",
       "  133208251.10350782,\n",
       "  130922962.24167585,\n",
       "  129260870.81303982,\n",
       "  126770176.0642726,\n",
       "  125625164.40840685,\n",
       "  124159163.06887062,\n",
       "  122679093.05741768,\n",
       "  121323966.21426338,\n",
       "  119492199.86765955,\n",
       "  118033838.88812505,\n",
       "  116455955.98208342,\n",
       "  116087471.78892827,\n",
       "  114040600.99431701,\n",
       "  113348299.36345673,\n",
       "  112508131.36299723,\n",
       "  112290987.92054273,\n",
       "  110331417.19026011])"
      ]
     },
     "execution_count": 86,
     "metadata": {},
     "output_type": "execute_result"
    }
   ],
   "source": [
    "elbow(X_pca, max_num=20)"
   ]
  },
  {
   "cell_type": "code",
   "execution_count": 87,
   "metadata": {},
   "outputs": [],
   "source": [
    "#silhouette_plot(9, X_pca)"
   ]
  },
  {
   "cell_type": "markdown",
   "metadata": {},
   "source": [
    "2. using reduced data samples with reduced principal components"
   ]
  },
  {
   "cell_type": "code",
   "execution_count": 87,
   "metadata": {},
   "outputs": [],
   "source": [
    "reduced_X = PCA(n_components=14).fit_transform(X) # choose only the principal components that explain over 1% of variance"
   ]
  },
  {
   "cell_type": "code",
   "execution_count": 90,
   "metadata": {},
   "outputs": [
    {
     "name": "stdout",
     "output_type": "stream",
     "text": [
      "2 centroids selected with inertia: 315398.529.\n",
      "3 centroids selected with inertia: 281544.605.\n",
      "4 centroids selected with inertia: 259228.203.\n",
      "5 centroids selected with inertia: 243315.325.\n",
      "6 centroids selected with inertia: 225193.841.\n",
      "7 centroids selected with inertia: 210126.041.\n",
      "8 centroids selected with inertia: 200159.891.\n",
      "9 centroids selected with inertia: 192960.771.\n",
      "10 centroids selected with inertia: 184014.549.\n",
      "11 centroids selected with inertia: 174462.695.\n",
      "12 centroids selected with inertia: 168837.494.\n",
      "13 centroids selected with inertia: 163276.166.\n",
      "14 centroids selected with inertia: 157489.264.\n",
      "15 centroids selected with inertia: 155100.911.\n",
      "16 centroids selected with inertia: 149758.011.\n",
      "17 centroids selected with inertia: 146832.867.\n",
      "18 centroids selected with inertia: 141456.904.\n",
      "19 centroids selected with inertia: 140659.430.\n",
      "20 centroids selected with inertia: 134742.531.\n",
      "21 centroids selected with inertia: 133204.848.\n",
      "22 centroids selected with inertia: 130100.577.\n",
      "23 centroids selected with inertia: 129387.399.\n",
      "24 centroids selected with inertia: 126406.873.\n",
      "25 centroids selected with inertia: 124668.816.\n",
      "26 centroids selected with inertia: 121741.645.\n",
      "27 centroids selected with inertia: 120133.871.\n",
      "28 centroids selected with inertia: 117954.840.\n",
      "29 centroids selected with inertia: 116312.735.\n",
      "30 centroids selected with inertia: 115366.254.\n",
      "Time used:  43.44805383682251\n"
     ]
    },
    {
     "data": {
      "image/png": "[encoded data removed]",
      "text/plain": [
       "<matplotlib.figure.Figure at 0x7f1bc07d6da0>"
      ]
     },
     "metadata": {
      "needs_background": "light"
     },
     "output_type": "display_data"
    }
   ],
   "source": [
    "index = np.random.choice(X.shape[0], 5000, replace=False)\n",
    "_, _ = elbow(reduced_X[index], max_num=30)"
   ]
  },
  {
   "cell_type": "code",
   "execution_count": 96,
   "metadata": {},
   "outputs": [
    {
     "data": {
      "image/png": "[encoded data removed]",
      "text/plain": [
       "<matplotlib.figure.Figure at 0x7f1bb0c12048>"
      ]
     },
     "metadata": {
      "needs_background": "light"
     },
     "output_type": "display_data"
    }
   ],
   "source": [
    "silhouette_plot(10, reduced_X[index])"
   ]
  },
  {
   "cell_type": "code",
   "execution_count": 100,
   "metadata": {},
   "outputs": [
    {
     "name": "stdout",
     "output_type": "stream",
     "text": [
      "13.9786609512\n"
     ]
    }
   ],
   "source": [
    "# Re-fit the k-means model with the selected number of clusters and obtain\n",
    "# cluster predictions for the general population demographics data.\n",
    "from sklearn.cluster import MiniBatchKMeans\n",
    "kmeans = MiniBatchKMeans(init='k-means++', n_clusters=10, batch_size=10000, n_init=10, max_iter=300, tol=1e-4, random_state=0)\n",
    "labels = kmeans.fit_predict(X_pca)\n",
    "print(np.sqrt(kmeans.inertia_/X_pca.shape[0]))"
   ]
  },
  {
   "cell_type": "markdown",
   "metadata": {},
   "source": [
    "### Discussion 3.1: Apply Clustering to General Population\n",
    "\n",
    "Besides inertia (within-cluster sum of squared distance), I also implemented the silhouette analysis since it can be difficult to find an elbow point. With the Silhouette curve, we should be looking for the peak, and moreover the Silhouette plot serves as a good indicator of the quality of clustering.\n",
    "However after running with the whole dataset, I didn't find an appropriate value about cluster numbers using elbow method.\n",
    "\n",
    "So I tried again with reduced dimension and sample size of X, where only the first 14 principal components and 5000 random selected samples are implemented, the Silhouette curve doesn't provide useful information, but based on the scree plot, it seems to be a reasonable choice to choose 10 clusters.\n",
    "\n",
    "(Into how many clusters have you decided to segment the population?)"
   ]
  },
  {
   "cell_type": "markdown",
   "metadata": {},
   "source": [
    "### Step 3.2: Apply All Steps to the Customer Data\n",
    "\n",
    "Now that you have clusters and cluster centers for the general population, it's time to see how the customer data maps on to those clusters. Take care to not confuse this for re-fitting all of the models to the customer data. Instead, you're going to use the fits from the general population to clean, transform, and cluster the customer data. In the last step of the project, you will interpret how the general population fits apply to the customer data.\n",
    "\n",
    "- Don't forget when loading in the customers data, that it is semicolon (`;`) delimited.\n",
    "- Apply the same feature wrangling, selection, and engineering steps to the customer demographics using the `clean_data()` function you created earlier. (You can assume that the customer demographics data has similar meaning behind missing data patterns as the general demographics data.)\n",
    "- Use the sklearn objects from the general demographics data, and apply their transformations to the customers data. That is, you should not be using a `.fit()` or `.fit_transform()` method to re-fit the old objects, nor should you be creating new sklearn objects! Carry the data through the feature scaling, PCA, and clustering steps, obtaining cluster assignments for all of the data in the customer demographics data."
   ]
  },
  {
   "cell_type": "code",
   "execution_count": 101,
   "metadata": {},
   "outputs": [],
   "source": [
    "# Load in the customer demographics data.\n",
    "customers = pd.read_csv('Udacity_CUSTOMERS_Subset.csv', sep=';')"
   ]
  },
  {
   "cell_type": "code",
   "execution_count": 102,
   "metadata": {
    "scrolled": true
   },
   "outputs": [
    {
     "name": "stdout",
     "output_type": "stream",
     "text": [
      "Rows to be dropped (with over 20% of missing values): 49944.\n"
     ]
    }
   ],
   "source": [
    "customers_clean, drops = clean_data(customers.copy(), feat_info, multi_level_cats, to_drop_cols)"
   ]
  },
  {
   "cell_type": "code",
   "execution_count": 103,
   "metadata": {},
   "outputs": [],
   "source": [
    "customers_clean.loc[:,'GEBAEUDETYP_5'] = np.zeros(customers_clean.shape[0])"
   ]
  },
  {
   "cell_type": "code",
   "execution_count": 104,
   "metadata": {},
   "outputs": [
    {
     "name": "stdout",
     "output_type": "stream",
     "text": [
      "(631811, 240)\n",
      "(141120, 240)\n",
      "float64\n"
     ]
    }
   ],
   "source": [
    "print(azdias_clean.shape)\n",
    "print(customers_clean.shape)\n",
    "print(customers_clean.values.dtype)"
   ]
  },
  {
   "cell_type": "code",
   "execution_count": 105,
   "metadata": {},
   "outputs": [
    {
     "name": "stdout",
     "output_type": "stream",
     "text": [
      "0\n"
     ]
    }
   ],
   "source": [
    "X_cstm = customers_clean.values\n",
    "print(np.isnan(X_cstm).sum())"
   ]
  },
  {
   "cell_type": "code",
   "execution_count": 106,
   "metadata": {},
   "outputs": [],
   "source": [
    "# Apply preprocessing, feature transformation, and clustering from the general\n",
    "# demographics onto the customer data, obtaining cluster predictions for the\n",
    "# customer demographics data.\n",
    "X_cstm = sc.transform(X_cstm)\n",
    "X_cstm_pca = pca.transform(X_cstm)\n",
    "labels_cstm = kmeans.predict(X_cstm_pca)"
   ]
  },
  {
   "cell_type": "code",
   "execution_count": 107,
   "metadata": {},
   "outputs": [
    {
     "data": {
      "text/plain": [
       "array([0, 1, 2, 3, 4, 5, 6, 7, 8, 9], dtype=int32)"
      ]
     },
     "execution_count": 107,
     "metadata": {},
     "output_type": "execute_result"
    }
   ],
   "source": [
    "np.unique(labels_cstm)"
   ]
  },
  {
   "cell_type": "markdown",
   "metadata": {},
   "source": [
    "### Step 3.3: Compare Customer Data to Demographics Data\n",
    "\n",
    "At this point, you have clustered data based on demographics of the general population of Germany, and seen how the customer data for a mail-order sales company maps onto those demographic clusters. In this final substep, you will compare the two cluster distributions to see where the strongest customer base for the company is.\n",
    "\n",
    "Consider the proportion of persons in each cluster for the general population, and the proportions for the customers. If we think the company's customer base to be universal, then the cluster assignment proportions should be fairly similar between the two. If there are only particular segments of the population that are interested in the company's products, then we should see a mismatch from one to the other. If there is a higher proportion of persons in a cluster for the customer data compared to the general population (e.g. 5% of persons are assigned to a cluster for the general population, but 15% of the customer data is closest to that cluster's centroid) then that suggests the people in that cluster to be a target audience for the company. On the other hand, the proportion of the data in a cluster being larger in the general population than the customer data (e.g. only 2% of customers closest to a population centroid that captures 6% of the data) suggests that group of persons to be outside of the target demographics.\n",
    "\n",
    "Take a look at the following points in this step:\n",
    "\n",
    "- Compute the proportion of data points in each cluster for the general population and the customer data. Visualizations will be useful here: both for the individual dataset proportions, but also to visualize the ratios in cluster representation between groups. Seaborn's [`countplot()`](https://seaborn.pydata.org/generated/seaborn.countplot.html) or [`barplot()`](https://seaborn.pydata.org/generated/seaborn.barplot.html) function could be handy.\n",
    "  - Recall the analysis you performed in step 1.1.3 of the project, where you separated out certain data points from the dataset if they had more than a specified threshold of missing values. If you found that this group was qualitatively different from the main bulk of the data, you should treat this as an additional data cluster in this analysis. Make sure that you account for the number of data points in this subset, for both the general population and customer datasets, when making your computations!\n",
    "- Which cluster or clusters are overrepresented in the customer dataset compared to the general population? Select at least one such cluster and infer what kind of people might be represented by that cluster. Use the principal component interpretations from step 2.3 or look at additional components to help you make this inference. Alternatively, you can use the `.inverse_transform()` method of the PCA and StandardScaler objects to transform centroids back to the original data space and interpret the retrieved values directly.\n",
    "- Perform a similar investigation for the underrepresented clusters. Which cluster or clusters are underrepresented in the customer dataset compared to the general population, and what kinds of people are typified by these clusters?"
   ]
  },
  {
   "cell_type": "code",
   "execution_count": 157,
   "metadata": {},
   "outputs": [],
   "source": [
    "# Compare the proportion of data in each cluster for the customer data to the\n",
    "# proportion of data in each cluster for the general population.\n",
    "unique, counts = np.unique(labels, return_counts=True)\n",
    "population_clusters = pd.DataFrame({'cluster': unique, 'count': counts})\n",
    "population_clusters.loc[-1,['cluster','count']] = -1, azdias_subset1.shape[0]\n",
    "population_clusters.index = population_clusters.index + 1\n",
    "population_clusters = population_clusters.sort_index()\n",
    "population_clusters['percentage'] = population_clusters['count']/population_clusters['count'].sum()\n",
    "population_clusters['cluster'] = population_clusters['cluster'].astype('int')"
   ]
  },
  {
   "cell_type": "code",
   "execution_count": 158,
   "metadata": {},
   "outputs": [],
   "source": [
    "unique, counts = np.unique(labels_cstm, return_counts=True)\n",
    "customer_clusters = pd.DataFrame({'cluster': unique, 'count': counts})\n",
    "customer_clusters.loc[-1,['cluster','count']] = -1, drops\n",
    "customer_clusters.index = customer_clusters.index + 1\n",
    "customer_clusters = customer_clusters.sort_index()\n",
    "customer_clusters['percentage'] = customer_clusters['count']/customer_clusters['count'].sum()\n",
    "customer_clusters['cluster'] = customer_clusters['cluster'].astype('int')"
   ]
  },
  {
   "cell_type": "code",
   "execution_count": 159,
   "metadata": {},
   "outputs": [],
   "source": [
    "stats = pd.merge(population_clusters, customer_clusters, on='cluster', suffixes=('_population', '_customers'))"
   ]
  },
  {
   "cell_type": "code",
   "execution_count": 160,
   "metadata": {
    "scrolled": true
   },
   "outputs": [
    {
     "data": {
      "text/html": [
       "<div>\n",
       "<style scoped>\n",
       "    .dataframe tbody tr th:only-of-type {\n",
       "        vertical-align: middle;\n",
       "    }\n",
       "\n",
       "    .dataframe tbody tr th {\n",
       "        vertical-align: top;\n",
       "    }\n",
       "\n",
       "    .dataframe thead th {\n",
       "        text-align: right;\n",
       "    }\n",
       "</style>\n",
       "<table border=\"1\" class=\"dataframe\">\n",
       "  <thead>\n",
       "    <tr style=\"text-align: right;\">\n",
       "      <th></th>\n",
       "      <th>cluster</th>\n",
       "      <th>count_population</th>\n",
       "      <th>percentage_population</th>\n",
       "      <th>count_customers</th>\n",
       "      <th>percentage_customers</th>\n",
       "    </tr>\n",
       "  </thead>\n",
       "  <tbody>\n",
       "    <tr>\n",
       "      <th>0</th>\n",
       "      <td>-1</td>\n",
       "      <td>93160.0</td>\n",
       "      <td>0.128502</td>\n",
       "      <td>49944.0</td>\n",
       "      <td>0.261399</td>\n",
       "    </tr>\n",
       "    <tr>\n",
       "      <th>1</th>\n",
       "      <td>0</td>\n",
       "      <td>17441.0</td>\n",
       "      <td>0.024058</td>\n",
       "      <td>6.0</td>\n",
       "      <td>0.000031</td>\n",
       "    </tr>\n",
       "    <tr>\n",
       "      <th>2</th>\n",
       "      <td>1</td>\n",
       "      <td>75745.0</td>\n",
       "      <td>0.104480</td>\n",
       "      <td>35773.0</td>\n",
       "      <td>0.187230</td>\n",
       "    </tr>\n",
       "    <tr>\n",
       "      <th>3</th>\n",
       "      <td>2</td>\n",
       "      <td>177287.0</td>\n",
       "      <td>0.244544</td>\n",
       "      <td>37787.0</td>\n",
       "      <td>0.197771</td>\n",
       "    </tr>\n",
       "    <tr>\n",
       "      <th>4</th>\n",
       "      <td>3</td>\n",
       "      <td>10762.0</td>\n",
       "      <td>0.014845</td>\n",
       "      <td>2641.0</td>\n",
       "      <td>0.013823</td>\n",
       "    </tr>\n",
       "    <tr>\n",
       "      <th>5</th>\n",
       "      <td>4</td>\n",
       "      <td>42421.0</td>\n",
       "      <td>0.058514</td>\n",
       "      <td>3058.0</td>\n",
       "      <td>0.016005</td>\n",
       "    </tr>\n",
       "    <tr>\n",
       "      <th>6</th>\n",
       "      <td>5</td>\n",
       "      <td>48760.0</td>\n",
       "      <td>0.067258</td>\n",
       "      <td>1324.0</td>\n",
       "      <td>0.006930</td>\n",
       "    </tr>\n",
       "    <tr>\n",
       "      <th>7</th>\n",
       "      <td>6</td>\n",
       "      <td>118437.0</td>\n",
       "      <td>0.163368</td>\n",
       "      <td>2599.0</td>\n",
       "      <td>0.013603</td>\n",
       "    </tr>\n",
       "    <tr>\n",
       "      <th>8</th>\n",
       "      <td>7</td>\n",
       "      <td>41712.0</td>\n",
       "      <td>0.057536</td>\n",
       "      <td>29426.0</td>\n",
       "      <td>0.154011</td>\n",
       "    </tr>\n",
       "    <tr>\n",
       "      <th>9</th>\n",
       "      <td>8</td>\n",
       "      <td>77270.0</td>\n",
       "      <td>0.106584</td>\n",
       "      <td>28204.0</td>\n",
       "      <td>0.147615</td>\n",
       "    </tr>\n",
       "    <tr>\n",
       "      <th>10</th>\n",
       "      <td>9</td>\n",
       "      <td>21976.0</td>\n",
       "      <td>0.030313</td>\n",
       "      <td>302.0</td>\n",
       "      <td>0.001581</td>\n",
       "    </tr>\n",
       "  </tbody>\n",
       "</table>\n",
       "</div>"
      ],
      "text/plain": [
       "    cluster  count_population  percentage_population  count_customers  \\\n",
       "0        -1           93160.0               0.128502          49944.0   \n",
       "1         0           17441.0               0.024058              6.0   \n",
       "2         1           75745.0               0.104480          35773.0   \n",
       "3         2          177287.0               0.244544          37787.0   \n",
       "4         3           10762.0               0.014845           2641.0   \n",
       "5         4           42421.0               0.058514           3058.0   \n",
       "6         5           48760.0               0.067258           1324.0   \n",
       "7         6          118437.0               0.163368           2599.0   \n",
       "8         7           41712.0               0.057536          29426.0   \n",
       "9         8           77270.0               0.106584          28204.0   \n",
       "10        9           21976.0               0.030313            302.0   \n",
       "\n",
       "    percentage_customers  \n",
       "0               0.261399  \n",
       "1               0.000031  \n",
       "2               0.187230  \n",
       "3               0.197771  \n",
       "4               0.013823  \n",
       "5               0.016005  \n",
       "6               0.006930  \n",
       "7               0.013603  \n",
       "8               0.154011  \n",
       "9               0.147615  \n",
       "10              0.001581  "
      ]
     },
     "execution_count": 160,
     "metadata": {},
     "output_type": "execute_result"
    }
   ],
   "source": [
    "stats"
   ]
  },
  {
   "cell_type": "code",
   "execution_count": 161,
   "metadata": {},
   "outputs": [
    {
     "data": {
      "text/html": [
       "<div>\n",
       "<style scoped>\n",
       "    .dataframe tbody tr th:only-of-type {\n",
       "        vertical-align: middle;\n",
       "    }\n",
       "\n",
       "    .dataframe tbody tr th {\n",
       "        vertical-align: top;\n",
       "    }\n",
       "\n",
       "    .dataframe thead th {\n",
       "        text-align: right;\n",
       "    }\n",
       "</style>\n",
       "<table border=\"1\" class=\"dataframe\">\n",
       "  <thead>\n",
       "    <tr style=\"text-align: right;\">\n",
       "      <th></th>\n",
       "      <th>cluster</th>\n",
       "      <th>variable</th>\n",
       "      <th>value</th>\n",
       "    </tr>\n",
       "  </thead>\n",
       "  <tbody>\n",
       "    <tr>\n",
       "      <th>0</th>\n",
       "      <td>-1</td>\n",
       "      <td>percentage_population</td>\n",
       "      <td>0.128502</td>\n",
       "    </tr>\n",
       "    <tr>\n",
       "      <th>1</th>\n",
       "      <td>0</td>\n",
       "      <td>percentage_population</td>\n",
       "      <td>0.024058</td>\n",
       "    </tr>\n",
       "    <tr>\n",
       "      <th>2</th>\n",
       "      <td>1</td>\n",
       "      <td>percentage_population</td>\n",
       "      <td>0.104480</td>\n",
       "    </tr>\n",
       "    <tr>\n",
       "      <th>3</th>\n",
       "      <td>2</td>\n",
       "      <td>percentage_population</td>\n",
       "      <td>0.244544</td>\n",
       "    </tr>\n",
       "    <tr>\n",
       "      <th>4</th>\n",
       "      <td>3</td>\n",
       "      <td>percentage_population</td>\n",
       "      <td>0.014845</td>\n",
       "    </tr>\n",
       "    <tr>\n",
       "      <th>5</th>\n",
       "      <td>4</td>\n",
       "      <td>percentage_population</td>\n",
       "      <td>0.058514</td>\n",
       "    </tr>\n",
       "    <tr>\n",
       "      <th>6</th>\n",
       "      <td>5</td>\n",
       "      <td>percentage_population</td>\n",
       "      <td>0.067258</td>\n",
       "    </tr>\n",
       "    <tr>\n",
       "      <th>7</th>\n",
       "      <td>6</td>\n",
       "      <td>percentage_population</td>\n",
       "      <td>0.163368</td>\n",
       "    </tr>\n",
       "    <tr>\n",
       "      <th>8</th>\n",
       "      <td>7</td>\n",
       "      <td>percentage_population</td>\n",
       "      <td>0.057536</td>\n",
       "    </tr>\n",
       "    <tr>\n",
       "      <th>9</th>\n",
       "      <td>8</td>\n",
       "      <td>percentage_population</td>\n",
       "      <td>0.106584</td>\n",
       "    </tr>\n",
       "    <tr>\n",
       "      <th>10</th>\n",
       "      <td>9</td>\n",
       "      <td>percentage_population</td>\n",
       "      <td>0.030313</td>\n",
       "    </tr>\n",
       "    <tr>\n",
       "      <th>11</th>\n",
       "      <td>-1</td>\n",
       "      <td>percentage_customers</td>\n",
       "      <td>0.261399</td>\n",
       "    </tr>\n",
       "    <tr>\n",
       "      <th>12</th>\n",
       "      <td>0</td>\n",
       "      <td>percentage_customers</td>\n",
       "      <td>0.000031</td>\n",
       "    </tr>\n",
       "    <tr>\n",
       "      <th>13</th>\n",
       "      <td>1</td>\n",
       "      <td>percentage_customers</td>\n",
       "      <td>0.187230</td>\n",
       "    </tr>\n",
       "    <tr>\n",
       "      <th>14</th>\n",
       "      <td>2</td>\n",
       "      <td>percentage_customers</td>\n",
       "      <td>0.197771</td>\n",
       "    </tr>\n",
       "    <tr>\n",
       "      <th>15</th>\n",
       "      <td>3</td>\n",
       "      <td>percentage_customers</td>\n",
       "      <td>0.013823</td>\n",
       "    </tr>\n",
       "    <tr>\n",
       "      <th>16</th>\n",
       "      <td>4</td>\n",
       "      <td>percentage_customers</td>\n",
       "      <td>0.016005</td>\n",
       "    </tr>\n",
       "    <tr>\n",
       "      <th>17</th>\n",
       "      <td>5</td>\n",
       "      <td>percentage_customers</td>\n",
       "      <td>0.006930</td>\n",
       "    </tr>\n",
       "    <tr>\n",
       "      <th>18</th>\n",
       "      <td>6</td>\n",
       "      <td>percentage_customers</td>\n",
       "      <td>0.013603</td>\n",
       "    </tr>\n",
       "    <tr>\n",
       "      <th>19</th>\n",
       "      <td>7</td>\n",
       "      <td>percentage_customers</td>\n",
       "      <td>0.154011</td>\n",
       "    </tr>\n",
       "    <tr>\n",
       "      <th>20</th>\n",
       "      <td>8</td>\n",
       "      <td>percentage_customers</td>\n",
       "      <td>0.147615</td>\n",
       "    </tr>\n",
       "    <tr>\n",
       "      <th>21</th>\n",
       "      <td>9</td>\n",
       "      <td>percentage_customers</td>\n",
       "      <td>0.001581</td>\n",
       "    </tr>\n",
       "  </tbody>\n",
       "</table>\n",
       "</div>"
      ],
      "text/plain": [
       "    cluster               variable     value\n",
       "0        -1  percentage_population  0.128502\n",
       "1         0  percentage_population  0.024058\n",
       "2         1  percentage_population  0.104480\n",
       "3         2  percentage_population  0.244544\n",
       "4         3  percentage_population  0.014845\n",
       "5         4  percentage_population  0.058514\n",
       "6         5  percentage_population  0.067258\n",
       "7         6  percentage_population  0.163368\n",
       "8         7  percentage_population  0.057536\n",
       "9         8  percentage_population  0.106584\n",
       "10        9  percentage_population  0.030313\n",
       "11       -1   percentage_customers  0.261399\n",
       "12        0   percentage_customers  0.000031\n",
       "13        1   percentage_customers  0.187230\n",
       "14        2   percentage_customers  0.197771\n",
       "15        3   percentage_customers  0.013823\n",
       "16        4   percentage_customers  0.016005\n",
       "17        5   percentage_customers  0.006930\n",
       "18        6   percentage_customers  0.013603\n",
       "19        7   percentage_customers  0.154011\n",
       "20        8   percentage_customers  0.147615\n",
       "21        9   percentage_customers  0.001581"
      ]
     },
     "execution_count": 161,
     "metadata": {},
     "output_type": "execute_result"
    }
   ],
   "source": [
    "stats_ = stats.melt(id_vars=['cluster'], value_vars=['percentage_population', 'percentage_customers'])\n",
    "stats_"
   ]
  },
  {
   "cell_type": "code",
   "execution_count": 189,
   "metadata": {
    "scrolled": true
   },
   "outputs": [
    {
     "data": {
      "text/plain": [
       "<matplotlib.lines.Line2D at 0x7f7d9daf98d0>"
      ]
     },
     "execution_count": 189,
     "metadata": {},
     "output_type": "execute_result"
    },
    {
     "data": {
      "image/png": "[encoded data removed]",
      "text/plain": [
       "<matplotlib.figure.Figure at 0x7f7d9d6d9c18>"
      ]
     },
     "metadata": {
      "needs_background": "light"
     },
     "output_type": "display_data"
    }
   ],
   "source": [
    "fig, ax = plt.subplots(figsize=[10, 5])\n",
    "ax = sns.barplot(x='cluster', y='value', hue='variable', data=stats_)\n",
    "ax.set_xlabel('Cluster')\n",
    "ax.set_ylabel('Percentage of the whole sample')\n",
    "ax.axhline(y=0.05, color='r', linestyle=':')\n",
    "ax.axhline(y=0.15, color='r', linestyle=':')"
   ]
  },
  {
   "cell_type": "markdown",
   "metadata": {},
   "source": [
    "Cluster -1 is implemented to describe the samples with more than 30 missing data values, which are qualitatively different from the rest data points, since the missing values mostly located in the same columns, to avoid overlooking of potential cluster, I therefore grouped those data points together and set them to be cluster -1."
   ]
  },
  {
   "cell_type": "code",
   "execution_count": 114,
   "metadata": {
    "scrolled": false
   },
   "outputs": [
    {
     "data": {
      "text/plain": [
       "[1, 7, 8, 20]"
      ]
     },
     "execution_count": 114,
     "metadata": {},
     "output_type": "execute_result"
    }
   ],
   "source": [
    "# What kinds of people are part of a cluster that is overrepresented in the\n",
    "# customer data compared to the general population?\n",
    "stats[stats.percentage_customers>stats.percentage_population]['cluster'].values.tolist()"
   ]
  },
  {
   "cell_type": "code",
   "execution_count": 190,
   "metadata": {},
   "outputs": [],
   "source": [
    "def centroid_info(cluster_id, df, n_features, km, pca):\n",
    "    \n",
    "    centroid = km.cluster_centers_[cluster_id]\n",
    "    centroid = pca.inverse_transform(centroid)\n",
    "    c_ = pd.Series(centroid, index=df.keys())\n",
    "    base_color = sns.color_palette()[0]\n",
    "    feature_std = c_.reindex(c_.abs().sort_values(ascending=False).index)\n",
    "\n",
    "    fig, ax = plt.subplots()\n",
    "    feature_std[:n_features].plot.bar(color=base_color, ax=ax)\n",
    "    ax.axhline(y=1, color='r', linestyle=':')\n",
    "    ax.axhline(y=-1, color='r', linestyle=':')\n",
    "    \n",
    "    return c_, feature_std[:n_features]"
   ]
  },
  {
   "cell_type": "code",
   "execution_count": 192,
   "metadata": {
    "scrolled": false
   },
   "outputs": [
    {
     "data": {
      "image/png": "[encoded data removed]",
      "text/plain": [
       "<matplotlib.figure.Figure at 0x7f7d9a312ba8>"
      ]
     },
     "metadata": {
      "needs_background": "light"
     },
     "output_type": "display_data"
    }
   ],
   "source": [
    "c7_, features_7 = centroid_info(7, customers_clean, 12, kmeans, pca)"
   ]
  },
  {
   "cell_type": "code",
   "execution_count": 211,
   "metadata": {},
   "outputs": [
    {
     "data": {
      "text/plain": [
       "LP_LEBENSPHASE_GROB_3     0.834590\n",
       "LP_FAMILIE_GROB_5         0.981087\n",
       "LP_LEBENSPHASE_FEIN_39    0.249952\n",
       "LP_LEBENSPHASE_GROB_2     0.806869\n",
       "WOHNLAGE_5                0.499376\n",
       "WOHNLAGE_4                0.696522\n",
       "ANZ_PERSONEN              3.280511\n",
       "LP_FAMILIE_FEIN_10        0.640378\n",
       "LP_STATUS_GROB_3          0.284848\n",
       "LP_LEBENSPHASE_FEIN_38    0.152100\n",
       "LP_STATUS_FEIN_9          0.525784\n",
       "LP_STATUS_GROB_4          0.540949\n",
       "dtype: float64"
      ]
     },
     "execution_count": 211,
     "metadata": {},
     "output_type": "execute_result"
    }
   ],
   "source": [
    "mean = azdias_clean[features_7.index.tolist()].mean()\n",
    "std = azdias_clean[features_7.index.tolist()].std()\n",
    "c7_[features_7.index.tolist()]*std+mean"
   ]
  },
  {
   "cell_type": "code",
   "execution_count": 188,
   "metadata": {},
   "outputs": [
    {
     "data": {
      "text/plain": [
       "LP_LEBENSPHASE_GROB_3     0.135140\n",
       "LP_FAMILIE_GROB_5         0.252740\n",
       "LP_LEBENSPHASE_FEIN_39    0.021350\n",
       "LP_LEBENSPHASE_GROB_2     0.209933\n",
       "WOHNLAGE_5                0.090372\n",
       "WOHNLAGE_4                0.175348\n",
       "ANZ_PERSONEN              1.802965\n",
       "LP_FAMILIE_FEIN_10        0.173177\n",
       "LP_STATUS_GROB_3          0.049247\n",
       "LP_LEBENSPHASE_FEIN_38    0.017034\n",
       "LP_STATUS_FEIN_9          0.156175\n",
       "LP_STATUS_GROB_4          0.173362\n",
       "dtype: float64"
      ]
     },
     "execution_count": 188,
     "metadata": {},
     "output_type": "execute_result"
    }
   ],
   "source": [
    "azdias_clean[features_7.index.tolist()].mean()"
   ]
  },
  {
   "cell_type": "markdown",
   "metadata": {},
   "source": [
    "**Analysis**: around 6% of general population are assigned to cluster 7, whereas over 15% of the customers are closest to this cluster centroids, so this segment should be relatively popular with the mail-order company. After looking into the features, I found those features related to family status and neighborhood quality stand out. Such as there are high percentages of single high-income earners and family with 9-11 persons prefer the service provided by this company. More features can be interpreted in similar manner."
   ]
  },
  {
   "cell_type": "code",
   "execution_count": 143,
   "metadata": {
    "scrolled": true
   },
   "outputs": [
    {
     "data": {
      "text/plain": [
       "[0, 2, 3, 4, 5, 6, 9]"
      ]
     },
     "execution_count": 143,
     "metadata": {},
     "output_type": "execute_result"
    }
   ],
   "source": [
    "# What kinds of people are part of a cluster that is underrepresented in the\n",
    "# customer data compared to the general population?\n",
    "stats[stats.percentage_customers<stats.percentage_population]['cluster'].values.tolist()"
   ]
  },
  {
   "cell_type": "code",
   "execution_count": 213,
   "metadata": {
    "scrolled": false
   },
   "outputs": [
    {
     "data": {
      "image/png": "[encoded data removed]",
      "text/plain": [
       "<matplotlib.figure.Figure at 0x7f7d9a3394a8>"
      ]
     },
     "metadata": {
      "needs_background": "light"
     },
     "output_type": "display_data"
    }
   ],
   "source": [
    "c6_, features_6 = centroid_info(6, customers_clean, 12, kmeans, pca)"
   ]
  },
  {
   "cell_type": "code",
   "execution_count": 214,
   "metadata": {
    "scrolled": true
   },
   "outputs": [
    {
     "data": {
      "text/plain": [
       "FINANZ_SPARER            4.376312\n",
       "FINANZ_MINIMALIST        1.525029\n",
       "LP_STATUS_FEIN_2         0.503682\n",
       "FINANZ_VORSORGER         2.036174\n",
       "ALTERSKATEGORIE_GROB     1.789019\n",
       "ZABEOTYP_5               0.384355\n",
       "LP_LEBENSPHASE_FEIN_3    0.164935\n",
       "SEMIO_PFLICHT            5.856417\n",
       "SEMIO_TRADV              5.328433\n",
       "FINANZ_UNAUFFAELLIGER    3.763259\n",
       "SEMIO_REL                5.536257\n",
       "LP_LEBENSPHASE_FEIN_7    0.192690\n",
       "dtype: float64"
      ]
     },
     "execution_count": 214,
     "metadata": {},
     "output_type": "execute_result"
    }
   ],
   "source": [
    "mean = azdias_clean[features_6.index.tolist()].mean()\n",
    "std = azdias_clean[features_6.index.tolist()].std()\n",
    "c6_[features_6.index.tolist()]*std+mean"
   ]
  },
  {
   "cell_type": "code",
   "execution_count": 215,
   "metadata": {
    "scrolled": true
   },
   "outputs": [
    {
     "data": {
      "text/plain": [
       "FINANZ_SPARER            2.661581\n",
       "FINANZ_MINIMALIST        3.059337\n",
       "LP_STATUS_FEIN_2         0.128627\n",
       "FINANZ_VORSORGER         3.463954\n",
       "ALTERSKATEGORIE_GROB     2.804315\n",
       "ZABEOTYP_5               0.101008\n",
       "LP_LEBENSPHASE_FEIN_3    0.023262\n",
       "SEMIO_PFLICHT            4.118442\n",
       "SEMIO_TRADV              3.724816\n",
       "FINANZ_UNAUFFAELLIGER    2.551203\n",
       "SEMIO_REL                3.885695\n",
       "LP_LEBENSPHASE_FEIN_7    0.034694\n",
       "dtype: float64"
      ]
     },
     "execution_count": 215,
     "metadata": {},
     "output_type": "execute_result"
    }
   ],
   "source": [
    "azdias_clean[features_6.index.tolist()].mean()"
   ]
  },
  {
   "cell_type": "markdown",
   "metadata": {},
   "source": [
    "**Analysis**: over 16% of general population are assigned to cluster 6, whereas only around 2% of the customers are closest to this cluster centroids, so this segment should be relatively unpopular with the mail-order company. After looking into the features, I found those features related to financial typology, age and personality stand out. Such as people who like to save money and have high financial interest, orientation-seeking low-income earners, or prefer to be prepared for retirements may not prefer the service provided by this company. More features can be interpreted in similar manner."
   ]
  },
  {
   "cell_type": "markdown",
   "metadata": {},
   "source": [
    "### Discussion 3.3: Compare Customer Data to Demographics Data\n",
    "\n",
    "To interpret the results, I first compared the percentages of each clusters in general population and existing customers, then choose the clusters that overrepresented and underrepresented the most in the customer data set compared to the general population. Afterwards, the inverse transformation of centroids of those clusters should provide more information about the customer segments that might be relatively popular or unpopular. Instead of conducting the transformation directly back to the original data scales, I think it is better to look at the standardized features of those centroids first, which can tell us how much the customer segments we are looking for may deviate from the mean of all the samples, therefore I can sort the features based on their deviation from means, afterwards, convert the top features back to their original scale, and interpret the features directly by checking the scales documented in `Data_Dictionary.md`. \n",
    "\n",
    "(Can we describe segments of the population that are relatively popular with the mail-order company, or relatively unpopular with the company?)"
   ]
  },
  {
   "cell_type": "markdown",
   "metadata": {},
   "source": [
    "> Congratulations on making it this far in the project! Before you finish, make sure to check through the entire notebook from top to bottom to make sure that your analysis follows a logical flow and all of your findings are documented in **Discussion** cells. Once you've checked over all of your work, you should export the notebook as an HTML document to submit for evaluation. You can do this from the menu, navigating to **File -> Download as -> HTML (.html)**. You will submit both that document and this notebook for your project submission."
   ]
  },
  {
   "cell_type": "code",
   "execution_count": null,
   "metadata": {},
   "outputs": [],
   "source": []
  }
 ],
 "metadata": {
  "kernelspec": {
   "display_name": "Python 3",
   "language": "python",
   "name": "python3"
  },
  "language_info": {
   "codemirror_mode": {
    "name": "ipython",
    "version": 3
   },
   "file_extension": ".py",
   "mimetype": "text/x-python",
   "name": "python",
   "nbconvert_exporter": "python",
   "pygments_lexer": "ipython3",
   "version": "3.6.3"
  }
 },
 "nbformat": 4,
 "nbformat_minor": 2
}
